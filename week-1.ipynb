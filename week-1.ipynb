{
 "cells": [
  {
   "cell_type": "markdown",
   "id": "200e3bab",
   "metadata": {
    "slideshow": {
     "slide_type": "slide"
    }
   },
   "source": [
    "# Week 1\n",
    "## MATH 189 • Data Analysis & Inference • Wi 2024\n",
    "### Siddharth Vishwanath"
   ]
  },
  {
   "cell_type": "markdown",
   "id": "939c4666",
   "metadata": {
    "slideshow": {
     "slide_type": "skip"
    }
   },
   "source": [
    "% # %load ../src/math/tex-macros\n",
    "$$\n",
    "\\newcommand{\\defeq}{\\stackrel{\\small\\bullet}{=}}\n",
    "\\newcommand{\\ra}{\\rangle}\n",
    "\\newcommand{\\la}{\\langle}\n",
    "\\newcommand{\\pr}{{\\mathbb P}}\n",
    "\\newcommand{\\qr}{{\\mathbb Q}}\n",
    "\\newcommand{\\xv}{{\\boldsymbol{x}}}\n",
    "\\newcommand{\\av}{{\\boldsymbol{a}}}\n",
    "\\newcommand{\\bv}{{\\boldsymbol{b}}}\n",
    "\\newcommand{\\cv}{{\\boldsymbol{c}}}\n",
    "\\newcommand{\\dv}{{\\boldsymbol{d}}}\n",
    "\\newcommand{\\ev}{{\\boldsymbol{e}}}\n",
    "\\newcommand{\\fv}{{\\boldsymbol{f}}}\n",
    "\\newcommand{\\gv}{{\\boldsymbol{g}}}\n",
    "\\newcommand{\\hv}{{\\boldsymbol{h}}}\n",
    "\\newcommand{\\nv}{{\\boldsymbol{n}}}\n",
    "\\newcommand{\\sv}{{\\boldsymbol{s}}}\n",
    "\\newcommand{\\tv}{{\\boldsymbol{t}}}\n",
    "\\newcommand{\\uv}{{\\boldsymbol{u}}}\n",
    "\\newcommand{\\vv}{{\\boldsymbol{v}}}\n",
    "\\newcommand{\\wv}{{\\boldsymbol{w}}}\n",
    "\\newcommand{\\zerov}{{\\mathbf{0}}}\n",
    "\\newcommand{\\onev}{{\\mathbf{0}}}\n",
    "\\newcommand{\\phiv}{{\\boldsymbol{\\phi}}}\n",
    "\\newcommand{\\cc}{{\\check{C}}}\n",
    "% \\newcommand{\\xv}{{\\boldsymbol{x}}}\n",
    "\\newcommand{\\Xv}{{\\boldsymbol{X}\\!}}\n",
    "\\newcommand{\\yv}{{\\boldsymbol{y}}}\n",
    "\\newcommand{\\Yv}{{\\boldsymbol{Y}}}\n",
    "\\newcommand{\\zv}{{\\boldsymbol{z}}}\n",
    "\\newcommand{\\Zv}{{\\boldsymbol{Z}}}\n",
    "\\newcommand{\\Iv}{{\\boldsymbol{I}}}\n",
    "\\newcommand{\\Jv}{{\\boldsymbol{J}}}\n",
    "\\newcommand{\\Cv}{{\\boldsymbol{C}}}\n",
    "\\newcommand{\\Ev}{{\\boldsymbol{E}}}\n",
    "\\newcommand{\\Fv}{{\\boldsymbol{F}}}\n",
    "\\newcommand{\\Gv}{{\\boldsymbol{G}}}\n",
    "\\newcommand{\\Hv}{{\\boldsymbol{H}}}\n",
    "\\newcommand{\\alphav}{{\\boldsymbol{\\alpha}}}\n",
    "\\newcommand{\\epsilonv}{{\\boldsymbol{\\epsilon}}}\n",
    "\\newcommand{\\betav}{{\\boldsymbol{\\beta}}}\n",
    "\\newcommand{\\deltav}{{\\boldsymbol{\\delta}}}\n",
    "\\newcommand{\\gammav}{{\\boldsymbol{\\gamma}}}\n",
    "\\newcommand{\\etav}{{\\boldsymbol{\\eta}}}\n",
    "\\newcommand{\\piv}{{\\boldsymbol{\\pi}}}\n",
    "\\newcommand{\\thetav}{{\\boldsymbol{\\theta}}}\n",
    "\\newcommand{\\tauv}{{\\boldsymbol{\\tau}}}\n",
    "\\newcommand{\\muv}{{\\boldsymbol{\\mu}}}\n",
    "%\n",
    "\\newcommand{\\sd}{\\text{SD}}\n",
    "\\newcommand{\\se}{\\text{SE}}\n",
    "\\newcommand{\\med}{\\text{median}}\n",
    "\\newcommand{\\median}{\\text{median}}\n",
    "%\n",
    "\\newcommand{\\Ber}{{\\text{Ber}}}\n",
    "\\newcommand{\\Bin}{{\\text{Bin}}}\n",
    "\\newcommand{\\Geo}{{\\text{Geo}}}\n",
    "\\newcommand{\\Unif}{{\\text{Unif}}}\n",
    "\\newcommand{\\Poi}{{\\text{Poi}}}\n",
    "\\newcommand{\\Exp}{{\\text{Exp}}}\n",
    "\\newcommand{\\Chisq}{{\\chi^2}}\n",
    "\\renewcommand{\\N}{\\mathbb{N}}\n",
    "\\newcommand{\\iid}{{\\stackrel{iid}{\\sim}}}\n",
    "\\newcommand{\\px}{p_{X}}\n",
    "\\newcommand{\\fx}{f_{X}}\n",
    "\\newcommand{\\Fx}{F_{X}}\n",
    "\\newcommand{\\py}{p_{Y}}\n",
    "\\newcommand{\\pxy}{p_{X,Y}}\n",
    "\\newcommand{\\po}{{p_0}}\n",
    "\\newcommand{\\pa}{{p_a}}\n",
    "\\newcommand{\\Xbar}{\\overline{X}}\n",
    "\\newcommand{\\Ybar}{\\overline{Y}}\n",
    "\\newcommand{\\Zbar}{\\overline{Z}}\n",
    "\\newcommand{\\nXbar}{n \\cdot \\overline{X}}\n",
    "\\newcommand{\\nYbar}{n \\cdot \\overline{Y}}\n",
    "\\newcommand{\\nZbar}{n \\cdot \\overline{Z}}\n",
    "\\newcommand{\\Xn}{X_1, X_2, \\dots, X_n}\n",
    "\\newcommand{\\Xm}{{X_1, X_2, \\dots, X_m}}\n",
    "\\newcommand{\\Yn}{Y_1, Y_2, \\dots, Y_n}\n",
    "\\newcommand{\\Ym}{{Y_1, Y_2, \\dots, Y_m}}\n",
    "\\newcommand{\\sumXn}{X_1 + X_2 + \\dots + X_n}\n",
    "\\newcommand{\\sumym}{Y_1 + Y_2 + \\dots + Y_m}\n",
    "\\renewcommand{\\la}{\\ell_\\alpha}\n",
    "\\newcommand{\\ua}{u_\\alpha}\n",
    "\\newcommand{\\at}{{\\alpha/2}}\n",
    "\\newcommand{\\mux}{\\mu_{X}}\n",
    "\\newcommand{\\muy}{\\mu_{Y}}\n",
    "\\newcommand{\\sx}{\\sigma_{X}}\n",
    "\\newcommand{\\sy}{\\sigma_{Y}}\n",
    "\\newcommand{\\pvalue}{$p$-value}\n",
    "\\newcommand{\\Ho}{H_{0}}\n",
    "\\newcommand{\\Ha}{H_{a}}\n",
    "$$\n"
   ]
  },
  {
   "cell_type": "markdown",
   "id": "3b96abc1",
   "metadata": {
    "slideshow": {
     "slide_type": "slide"
    }
   },
   "source": [
    "## Agenda\n",
    "---\n",
    "\n",
    "1. ~~Installation and requirements~~\n",
    "    * Installing Python\n",
    "    * Installing Jupyter\n",
    "    * Exporting to `pdf`\n",
    "\n",
    "2. Introduction to Git and Github\n",
    "    * Pulling a repository to work\n",
    "        * \n",
    "3. Basics of Markdown and $\\LaTeX$\n",
    "4. Introduction to Python\n",
    "    * Basic data types and operations in Python\n",
    "    * Data Manipulation using `pandas`\n",
    "    * Data summary using \n",
    "    * Data visualization"
   ]
  },
  {
   "cell_type": "markdown",
   "id": "d64e8936",
   "metadata": {
    "slideshow": {
     "slide_type": "slide"
    }
   },
   "source": [
    "# Basics of Markdown and $\\LaTeX$"
   ]
  },
  {
   "cell_type": "markdown",
   "id": "fc67272f",
   "metadata": {
    "slideshow": {
     "slide_type": "-"
    }
   },
   "source": [
    "## §1.1: Creating sections for your document"
   ]
  },
  {
   "cell_type": "markdown",
   "id": "c268c5cf",
   "metadata": {},
   "source": [
    "THis is some text\n",
    "***\n",
    "This is more text"
   ]
  },
  {
   "cell_type": "markdown",
   "id": "5b0f27a0",
   "metadata": {
    "slideshow": {
     "slide_type": "slide"
    }
   },
   "source": [
    "## §1.2: Bullet Lists and Numbered Lists"
   ]
  },
  {
   "cell_type": "markdown",
   "id": "9dbc8cd3",
   "metadata": {},
   "source": [
    "\n",
    "\n",
    "This is a numbered list:\n",
    "1. This is numbered item 1\n",
    "1. This is numbered item 2\n",
    "1. This is numbered item 3"
   ]
  },
  {
   "cell_type": "markdown",
   "id": "55da0265",
   "metadata": {
    "slideshow": {
     "slide_type": "slide"
    }
   },
   "source": [
    "## §1.3: Math"
   ]
  },
  {
   "cell_type": "markdown",
   "id": "c3f6d5ad",
   "metadata": {},
   "source": [
    "### §1.3.1 Boxed & Colored Equations"
   ]
  },
  {
   "cell_type": "markdown",
   "id": "cf9370cf",
   "metadata": {},
   "source": [
    "$$\n",
    "\\newcommand{\\Xnmean}{\\frac{1}{n} \\sum_{i=1}^n X_i}\n",
    "\\boxed{\\color{red}{\\overline{X}} :=  \\Xnmean }\n",
    "$$"
   ]
  },
  {
   "cell_type": "markdown",
   "id": "314fe046",
   "metadata": {},
   "source": [
    "### §1.3.2 Math Macros"
   ]
  },
  {
   "cell_type": "markdown",
   "id": "b5427a86",
   "metadata": {},
   "source": [
    "$\\Xnmean$"
   ]
  },
  {
   "cell_type": "markdown",
   "id": "7622ca48",
   "metadata": {
    "slideshow": {
     "slide_type": "slide"
    }
   },
   "source": [
    "# §2. Basics of Python"
   ]
  },
  {
   "cell_type": "markdown",
   "id": "85f7cb1e",
   "metadata": {},
   "source": [
    "## §2.1: Int, Float, Booleans, Strings"
   ]
  },
  {
   "cell_type": "code",
   "execution_count": 1,
   "id": "f2e319b6",
   "metadata": {},
   "outputs": [
    {
     "data": {
      "text/plain": [
       "int"
      ]
     },
     "execution_count": 1,
     "metadata": {},
     "output_type": "execute_result"
    }
   ],
   "source": [
    "type(1)\n"
   ]
  },
  {
   "cell_type": "code",
   "execution_count": 2,
   "id": "74e43b48",
   "metadata": {},
   "outputs": [
    {
     "data": {
      "text/plain": [
       "float"
      ]
     },
     "execution_count": 2,
     "metadata": {},
     "output_type": "execute_result"
    }
   ],
   "source": [
    "type(1.0)\n"
   ]
  },
  {
   "cell_type": "code",
   "execution_count": 3,
   "id": "92212b43",
   "metadata": {},
   "outputs": [
    {
     "data": {
      "text/plain": [
       "bool"
      ]
     },
     "execution_count": 3,
     "metadata": {},
     "output_type": "execute_result"
    }
   ],
   "source": [
    "type(True)\n"
   ]
  },
  {
   "cell_type": "code",
   "execution_count": 4,
   "id": "0c0a844a",
   "metadata": {},
   "outputs": [
    {
     "data": {
      "text/plain": [
       "str"
      ]
     },
     "execution_count": 4,
     "metadata": {},
     "output_type": "execute_result"
    }
   ],
   "source": [
    "type('abcd')\n"
   ]
  },
  {
   "cell_type": "markdown",
   "id": "7f2ba2b1",
   "metadata": {},
   "source": [
    "#### §2.1.2 Arithmetic operations (+, -, *, /, %, //, **)"
   ]
  },
  {
   "cell_type": "markdown",
   "id": "fd4aa734",
   "metadata": {},
   "source": [
    "Arithmetic operations inherit the datatype of it's constituent elements, and based on the result."
   ]
  },
  {
   "cell_type": "code",
   "execution_count": 1,
   "id": "8639833e",
   "metadata": {
    "tags": []
   },
   "outputs": [
    {
     "data": {
      "text/plain": [
       "[(13, int),\n",
       " (7, int),\n",
       " (30, int),\n",
       " (3.3333333333333335, float),\n",
       " (3, int),\n",
       " (1, int),\n",
       " (1000, int)]"
      ]
     },
     "execution_count": 1,
     "metadata": {},
     "output_type": "execute_result"
    }
   ],
   "source": [
    "# This line creates a list named operations_int that stores the results of various \n",
    "# arithmetic operations performed on integers\n",
    "operations_int = [\n",
    "    10 + 3, \n",
    "    10 - 3, \n",
    "    10 * 3, \n",
    "    10 / 3, \n",
    "    10 // 3, \n",
    "    10 % 3, \n",
    "    10 ** 3\n",
    "]\n",
    "\n",
    "\n",
    "# list comprehension\n",
    "[(x, type(x)) for x in operations_int]\n",
    "\n",
    "\n",
    "\n"
   ]
  },
  {
   "cell_type": "code",
   "execution_count": 4,
   "id": "5218ba37",
   "metadata": {
    "tags": []
   },
   "outputs": [
    {
     "data": {
      "text/plain": [
       "[(13.0, float),\n",
       " (7.0, float),\n",
       " (30.0, float),\n",
       " (3.3333333333333335, float),\n",
       " (3.0, float),\n",
       " (1.0, float),\n",
       " (1000.0, float)]"
      ]
     },
     "execution_count": 4,
     "metadata": {},
     "output_type": "execute_result"
    }
   ],
   "source": [
    "operations_float = [\n",
    "    10.0 + 3, \n",
    "    10.0 - 3, \n",
    "    10.0 * 3, \n",
    "    10.0 / 3, \n",
    "    10.0 // 3, \n",
    "    10.0 % 3, \n",
    "    10.0 ** 3\n",
    "]\n",
    "\n",
    "[(x, type(x)) for x in operations_float]\n"
   ]
  },
  {
   "cell_type": "markdown",
   "id": "9ab77dfa",
   "metadata": {
    "slideshow": {
     "slide_type": "slide"
    }
   },
   "source": [
    "## §2.2: Arrays, Tuples, Dicts"
   ]
  },
  {
   "cell_type": "markdown",
   "id": "5cc8dcbf",
   "metadata": {},
   "source": [
    "In Python, there are four main data structures that we will use:\n",
    "\n",
    "1. Lists\n",
    "2. Tuples\n",
    "3. Sets\n",
    "4. Dictionaries\n",
    "\n",
    "##### §2.2.1: Lists\n",
    "\n",
    "Lists are the most commonly used data structure in Python. They are mutable, and can be used to store any type of data. Lists are created using square brackets `[]` and elements are separated by commas.\n",
    "\n",
    "```python\n",
    "x_list = [1, 2, 3, 4, 5]\n",
    "```\n",
    "\n",
    "Lists support indexing, slicing, and concatenation.\n",
    "\n",
    "```python\n",
    "x_list[0] # returns 1\n",
    "x_list[1:3] # returns [2, 3]\n",
    "x_list + [6, 7, 8] # returns [1, 2, 3, 4, 5, 6, 7, 8]\n",
    "x_list.append(10) # returns [1, 2, 3, 4, 5, 10] and stores the result in x_list\n",
    "```"
   ]
  },
  {
   "cell_type": "code",
   "execution_count": 7,
   "id": "945230e0",
   "metadata": {
    "tags": []
   },
   "outputs": [
    {
     "data": {
      "text/plain": [
       "[1, 2, 3, 4, 5, 1, 2, 3]"
      ]
     },
     "execution_count": 7,
     "metadata": {},
     "output_type": "execute_result"
    }
   ],
   "source": [
    "x_list = [1, 2, 3, 4, 5]\n",
    "type(x_list)\n",
    "\n",
    "x_list.extend([1,2,3])\n",
    "x_list\n"
   ]
  },
  {
   "cell_type": "code",
   "execution_count": 16,
   "id": "c5fe7f8a",
   "metadata": {
    "tags": []
   },
   "outputs": [
    {
     "data": {
      "text/plain": [
       "(1, [2, 3], [1, 2, 3, 4, 5, 6, 7, 8])"
      ]
     },
     "execution_count": 16,
     "metadata": {},
     "output_type": "execute_result"
    }
   ],
   "source": [
    "x_list[0], x_list[1:3], x_list + [6, 7, 8]\n"
   ]
  },
  {
   "cell_type": "code",
   "execution_count": 17,
   "id": "6217db17",
   "metadata": {
    "tags": []
   },
   "outputs": [
    {
     "data": {
      "text/plain": [
       "[1, 2, 3, 4, 5, 10]"
      ]
     },
     "execution_count": 17,
     "metadata": {},
     "output_type": "execute_result"
    }
   ],
   "source": [
    "x_list.append(10)\n",
    "x_list\n"
   ]
  },
  {
   "cell_type": "code",
   "execution_count": 19,
   "id": "896abb92-3548-426a-9e36-871e9c470c73",
   "metadata": {
    "tags": []
   },
   "outputs": [
    {
     "data": {
      "text/plain": [
       "[1, 2, 3, 4, 5, 10, 10, 11, 12]"
      ]
     },
     "execution_count": 19,
     "metadata": {},
     "output_type": "execute_result"
    }
   ],
   "source": [
    "x_list.extend([10,11,12])\n",
    "x_list"
   ]
  },
  {
   "cell_type": "code",
   "execution_count": 23,
   "id": "1b833135",
   "metadata": {
    "tags": []
   },
   "outputs": [
    {
     "data": {
      "text/plain": [
       "2"
      ]
     },
     "execution_count": 23,
     "metadata": {},
     "output_type": "execute_result"
    }
   ],
   "source": [
    "x_list[0] = -1\n",
    "x_list\n",
    "\n",
    "x_list[1]"
   ]
  },
  {
   "cell_type": "markdown",
   "id": "2b1a8acc",
   "metadata": {},
   "source": [
    "##### §2.2.2: Tuples\n",
    "\n",
    "Tuples are similar to lists, but are immutable. They are created using parentheses `()` and elements are separated by commas.\n",
    "\n",
    "```python\n",
    "x_tuple = (1, 2, 3, 4, 5)\n",
    "```"
   ]
  },
  {
   "cell_type": "code",
   "execution_count": 24,
   "id": "cd619341",
   "metadata": {
    "tags": []
   },
   "outputs": [
    {
     "data": {
      "text/plain": [
       "tuple"
      ]
     },
     "execution_count": 24,
     "metadata": {},
     "output_type": "execute_result"
    }
   ],
   "source": [
    "x_tuple = (1, 2, 3, 4, 5)\n",
    "type(x_tuple)\n"
   ]
  },
  {
   "cell_type": "code",
   "execution_count": 25,
   "id": "40350699",
   "metadata": {
    "tags": []
   },
   "outputs": [
    {
     "data": {
      "text/plain": [
       "(1, (2, 3), (1, 2, 3, 4, 5, 6, 7, 8))"
      ]
     },
     "execution_count": 25,
     "metadata": {},
     "output_type": "execute_result"
    }
   ],
   "source": [
    "x_tuple[0], x_tuple[1:3], x_tuple + (6, 7, 8)\n"
   ]
  },
  {
   "cell_type": "code",
   "execution_count": 27,
   "id": "b90e21ee",
   "metadata": {
    "tags": []
   },
   "outputs": [
    {
     "ename": "TypeError",
     "evalue": "'tuple' object does not support item assignment",
     "output_type": "error",
     "traceback": [
      "\u001b[0;31m---------------------------------------------------------------------------\u001b[0m",
      "\u001b[0;31mTypeError\u001b[0m                                 Traceback (most recent call last)",
      "Cell \u001b[0;32mIn[27], line 3\u001b[0m\n\u001b[1;32m      1\u001b[0m \u001b[38;5;66;03m# \"immutable\" means that an object's contents cannot be changed after it's created. \u001b[39;00m\n\u001b[0;32m----> 3\u001b[0m x_tuple[\u001b[38;5;241m0\u001b[39m] \u001b[38;5;241m=\u001b[39m \u001b[38;5;241m-\u001b[39m\u001b[38;5;241m1\u001b[39m\n",
      "\u001b[0;31mTypeError\u001b[0m: 'tuple' object does not support item assignment"
     ]
    }
   ],
   "source": [
    "# \"immutable\" means that an object's contents cannot be changed after it's created. \n",
    "\n",
    "x_tuple[0] = -1\n"
   ]
  },
  {
   "cell_type": "markdown",
   "id": "a10c8454",
   "metadata": {},
   "source": [
    "\n",
    "##### §2.2.3: Sets\n",
    "\n",
    "Sets are used to store unique elements. They are created using curly braces `{}` and elements are separated by commas.\n",
    "\n",
    "```python\n",
    "x_set = {1, 2, 3, 4, 5}\n",
    "```\n",
    "\n",
    "Sets support set operations such as union, intersection, difference, and symmetric difference.\n",
    "\n",
    "```python\n",
    "y_set = {4, 5, 6, 7, 8}\n",
    "x_set | y_set # union\n",
    "x_set & y_set # intersection\n",
    "x_set - y_set # difference\n",
    "x_set ^ y_set # symmetric difference\n",
    "``````"
   ]
  },
  {
   "cell_type": "code",
   "execution_count": 28,
   "id": "27d5f876",
   "metadata": {
    "tags": []
   },
   "outputs": [
    {
     "data": {
      "text/plain": [
       "set"
      ]
     },
     "execution_count": 28,
     "metadata": {},
     "output_type": "execute_result"
    }
   ],
   "source": [
    "x_set = {1, 2, 3, 4, 5}\n",
    "type(x_set)\n"
   ]
  },
  {
   "cell_type": "code",
   "execution_count": 29,
   "id": "6131cf23",
   "metadata": {
    "tags": []
   },
   "outputs": [
    {
     "data": {
      "text/plain": [
       "({4, 5}, {1, 2, 3, 4, 5, 6, 7, 8}, {1, 2, 3}, {1, 2, 3, 6, 7, 8})"
      ]
     },
     "execution_count": 29,
     "metadata": {},
     "output_type": "execute_result"
    }
   ],
   "source": [
    "y_set = {4, 5, 6, 7, 8}\n",
    "\n",
    "x_set & y_set, x_set | y_set, x_set - y_set, x_set ^ y_set\n"
   ]
  },
  {
   "cell_type": "markdown",
   "id": "e0fc0916",
   "metadata": {},
   "source": [
    "Recall that the symmetric difference of two sets $A$ and $B$ is defined as $A \\Delta B = (A \\cup B) \\setminus (A \\cap B)$.\n",
    "\n",
    "Sets are also useful for removing duplicates from a list.\n",
    "\n",
    "```python\n",
    "y_list = [1, 2, 3, 4, 5, 1, 2, 3]\n",
    "set(y_list)\n",
    "```"
   ]
  },
  {
   "cell_type": "code",
   "execution_count": 31,
   "id": "578731a6",
   "metadata": {
    "tags": []
   },
   "outputs": [
    {
     "data": {
      "text/plain": [
       "{1, 2, 3, 4, 5}"
      ]
     },
     "execution_count": 31,
     "metadata": {},
     "output_type": "execute_result"
    }
   ],
   "source": [
    "y_list = [1, 2, 3, 4, 5, 1, 2, 3]\n",
    "set(y_list)\n"
   ]
  },
  {
   "cell_type": "markdown",
   "id": "c6ee0ddb",
   "metadata": {},
   "source": [
    "##### §2.2.4: Dictionaries\n",
    "\n",
    "Dictionaries are used to store key-value pairs. They are created using curly braces `{}` and elements are separated by commas. Each key-value pair is separated by a colon `:`.\n",
    "\n",
    "```python\n",
    "x_dict = {'a': 1, 'b': 2, 'c': 3}\n",
    "```\n",
    "\n",
    "Dictionaries support indexing and updating values.\n",
    "\n",
    "```python\n",
    "x_dict['a'] # returns 1\n",
    "x_dict['d'] = 4 # adds a new key-value pair to the dictionary\n",
    "x_dict['a'] = 10 # updates the value of the key 'a'\n",
    "```\n",
    "\n",
    "You can also make a dictionary from two lists using the `zip` function.\n",
    "\n",
    "\n",
    "```python\n",
    "keys = ['a', 'b', 'c']\n",
    "values = [1, 2, 3]\n",
    "dict(zip(keys, values))\n",
    "```"
   ]
  },
  {
   "cell_type": "code",
   "execution_count": 17,
   "id": "c29323d9",
   "metadata": {},
   "outputs": [
    {
     "data": {
      "text/plain": [
       "dict"
      ]
     },
     "execution_count": 17,
     "metadata": {},
     "output_type": "execute_result"
    }
   ],
   "source": [
    "x_dict = {\"a\": 1, \"b\":2, \"c\": 3}\n",
    "type(x_dict)\n"
   ]
  },
  {
   "cell_type": "code",
   "execution_count": 18,
   "id": "0fbd39ad",
   "metadata": {},
   "outputs": [
    {
     "data": {
      "text/plain": [
       "{'a': 10, 'b': 2, 'c': 3, 'd': 4}"
      ]
     },
     "execution_count": 18,
     "metadata": {},
     "output_type": "execute_result"
    }
   ],
   "source": [
    "x_dict['a']\n",
    "x_dict['d'] = 4\n",
    "x_dict['a'] = 10\n",
    "x_dict\n"
   ]
  },
  {
   "cell_type": "markdown",
   "id": "d36c9c01",
   "metadata": {
    "slideshow": {
     "slide_type": "slide"
    }
   },
   "source": [
    "## §2.3: Control Flow"
   ]
  },
  {
   "cell_type": "markdown",
   "id": "6b3c3b3f",
   "metadata": {},
   "source": [
    "There are three main control flow statements in Python: `if/elif/else`, `for`, and `while`.\n",
    "\n",
    "##### §2.3.1: if/elif/else\n",
    "\n",
    "The `if/elif/else` statement is used to check conditions and execute code based on the result of the condition. The `elif` and `else` statements are optional.\n",
    "\n",
    "```python\n",
    "if condtion1:\n",
    "    ... # do something\n",
    "elif condition2:\n",
    "    ... # do something\n",
    "else:\n",
    "    ... # do something\n",
    "```"
   ]
  },
  {
   "cell_type": "code",
   "execution_count": 19,
   "id": "a6725f84",
   "metadata": {},
   "outputs": [
    {
     "name": "stdout",
     "output_type": "stream",
     "text": [
      "x is negative\n"
     ]
    }
   ],
   "source": [
    "x = -10\n",
    "if x < 0:\n",
    "    print('x is negative')\n",
    "elif x == 0:\n",
    "    print('x is zero')\n",
    "else:\n",
    "    print('x is positive')\n"
   ]
  },
  {
   "cell_type": "markdown",
   "id": "438e7897",
   "metadata": {},
   "source": [
    "##### §2.3.2: `for` loops\n",
    "\n",
    "The `for` loop is used to iterate over a sequence (list, tuple, set, dictionary, string, etc.) and execute code for each element in the sequence.\n",
    "\n",
    "```python\n",
    "for element in sequence:\n",
    "    ... # do something\n",
    "```"
   ]
  },
  {
   "cell_type": "code",
   "execution_count": 20,
   "id": "08ab216d",
   "metadata": {},
   "outputs": [],
   "source": [
    "#################################################\n",
    "# print(f'\\n First for loop\\n')\n",
    "for i in range(5):\n",
    "    ...\n",
    "\n",
    "#################################################\n",
    "# print(f'\\n The iteration over a set happens in the reverse order\\n')\n",
    "x = {'a', 'b', 'c', 'd'}\n",
    "for i in x:\n",
    "    ...\n",
    "\n",
    "#################################################\n",
    "# print(f'\\n By default a for loop over dict iterates over its keys\\n')\n",
    "x = {'a': 1, 'b': 2, 'c': 3, 'd': 4}\n",
    "for i in x:\n",
    "    ...\n",
    "\n",
    "#################################################\n",
    "# print(f'\\n If you want to iterate over the key-value pair then you need to use x.items()\\n')\n",
    "x = {'a': 1, 'b': 2, 'c': 3, 'd': 4}\n",
    "for i in x.items():\n",
    "    ...\n"
   ]
  },
  {
   "cell_type": "code",
   "execution_count": 38,
   "id": "82dfea59-f124-44e2-8ec0-409baef3eaeb",
   "metadata": {
    "tags": []
   },
   "outputs": [
    {
     "name": "stdout",
     "output_type": "stream",
     "text": [
      "d\n",
      "c\n",
      "b\n",
      "a\n"
     ]
    }
   ],
   "source": [
    "x = {'a', 'b', 'c', 'd'}\n",
    "x_list = list(x)  # Convert set to list\n",
    "x_list.reverse()  # Reverse the list\n",
    "for i in x_list:\n",
    "    print(i)"
   ]
  },
  {
   "cell_type": "markdown",
   "id": "5db37b2e",
   "metadata": {
    "slideshow": {
     "slide_type": "slide"
    }
   },
   "source": [
    "## §2.4: Functions"
   ]
  },
  {
   "cell_type": "markdown",
   "id": "4f0dfbdb",
   "metadata": {},
   "source": [
    "Functions are defined using the `def` keyword. The `return` keyword is used to return a value from the function.\n",
    "\n",
    "```python\n",
    "def my_function(arg1, arg2):\n",
    "    ... # do something\n",
    "    return result\n",
    "```"
   ]
  },
  {
   "cell_type": "code",
   "execution_count": 8,
   "id": "d8fe7f2e-320b-440f-9720-60cb8263a708",
   "metadata": {
    "tags": []
   },
   "outputs": [
    {
     "name": "stdout",
     "output_type": "stream",
     "text": [
      "Variable         Type    Data/Info\n",
      "----------------------------------\n",
      "operations_int   list    n=7\n",
      "x_list           list    n=8\n"
     ]
    }
   ],
   "source": [
    "%whos"
   ]
  },
  {
   "cell_type": "code",
   "execution_count": 41,
   "id": "573e930e",
   "metadata": {
    "tags": []
   },
   "outputs": [
    {
     "data": {
      "text/plain": [
       "40"
      ]
     },
     "execution_count": 41,
     "metadata": {},
     "output_type": "execute_result"
    }
   ],
   "source": [
    "def fibonacci(n):\n",
    "    if n == 0:\n",
    "        return n+10\n",
    "    elif n == 1:\n",
    "        return n+20\n",
    "    else: \n",
    "        return n+30\n",
    "\n",
    "fibonacci(10)\n"
   ]
  },
  {
   "cell_type": "markdown",
   "id": "67d17af3",
   "metadata": {},
   "source": [
    "## §2.4.1: Anonymous Functions\n",
    "\n",
    "Anonymous functions are defined using the `lambda` keyword. They are useful for defining simple functions in one line.\n",
    "\n",
    "```python\n",
    "lambda arg1, arg2: operation(arg1, arg2)\n",
    "```"
   ]
  },
  {
   "cell_type": "code",
   "execution_count": 42,
   "id": "abfda2c6",
   "metadata": {
    "tags": []
   },
   "outputs": [
    {
     "data": {
      "text/plain": [
       "Ellipsis"
      ]
     },
     "execution_count": 42,
     "metadata": {},
     "output_type": "execute_result"
    }
   ],
   "source": [
    "fib_2 = lambda n: ...\n",
    "fib_2(10)\n"
   ]
  },
  {
   "cell_type": "code",
   "execution_count": 44,
   "id": "955f1f78-cfa8-42ed-be48-f5453da4566b",
   "metadata": {
    "tags": []
   },
   "outputs": [
    {
     "data": {
      "text/plain": [
       "25"
      ]
     },
     "execution_count": 44,
     "metadata": {},
     "output_type": "execute_result"
    }
   ],
   "source": [
    "square = lambda x: x * x\n",
    "result = square(5)  # Output: 25\n",
    "result"
   ]
  },
  {
   "cell_type": "markdown",
   "id": "801859d0",
   "metadata": {
    "slideshow": {
     "slide_type": "slide"
    }
   },
   "source": [
    "# §3 Vectors and Linear Algebra"
   ]
  },
  {
   "cell_type": "markdown",
   "id": "7a20d73d",
   "metadata": {},
   "source": [
    "## §3.1 Numpy arrays and Matrices\n",
    "\n",
    "The `numpy` package provides access to linear algebra routines in Python. You can install it using `pip install numpy` or `conda install numpy`. You can also install packages within a Jupyter notebook using the magic command `%pip install numpy`."
   ]
  },
  {
   "cell_type": "code",
   "execution_count": 45,
   "id": "53a69b52",
   "metadata": {
    "tags": []
   },
   "outputs": [
    {
     "name": "stdout",
     "output_type": "stream",
     "text": [
      "Collecting ipywidgets\n",
      "  Downloading ipywidgets-8.1.1-py3-none-any.whl (139 kB)\n",
      "\u001b[2K     \u001b[90m━━━━━━━━━━━━━━━━━━━━━━━━━━━━━━━━━━━━━━━\u001b[0m \u001b[32m139.4/139.4 kB\u001b[0m \u001b[31m4.2 MB/s\u001b[0m eta \u001b[36m0:00:00\u001b[0m\n",
      "\u001b[?25hCollecting comm>=0.1.3\n",
      "  Downloading comm-0.2.1-py3-none-any.whl (7.2 kB)\n",
      "Collecting jupyterlab-widgets~=3.0.9\n",
      "  Downloading jupyterlab_widgets-3.0.9-py3-none-any.whl (214 kB)\n",
      "\u001b[2K     \u001b[90m━━━━━━━━━━━━━━━━━━━━━━━━━━━━━━━━━━━━━━━\u001b[0m \u001b[32m214.9/214.9 kB\u001b[0m \u001b[31m7.5 MB/s\u001b[0m eta \u001b[36m0:00:00\u001b[0m\n",
      "\u001b[?25hRequirement already satisfied: traitlets>=4.3.1 in /Users/yiranjia/anaconda3/lib/python3.10/site-packages (from ipywidgets) (5.7.1)\n",
      "Requirement already satisfied: ipython>=6.1.0 in /Users/yiranjia/anaconda3/lib/python3.10/site-packages (from ipywidgets) (8.10.0)\n",
      "Collecting widgetsnbextension~=4.0.9\n",
      "  Downloading widgetsnbextension-4.0.9-py3-none-any.whl (2.3 MB)\n",
      "\u001b[2K     \u001b[90m━━━━━━━━━━━━━━━━━━━━━━━━━━━━━━━━━━━━━━━━\u001b[0m \u001b[32m2.3/2.3 MB\u001b[0m \u001b[31m3.6 MB/s\u001b[0m eta \u001b[36m0:00:00\u001b[0ma \u001b[36m0:00:01\u001b[0m\n",
      "\u001b[?25hRequirement already satisfied: stack-data in /Users/yiranjia/anaconda3/lib/python3.10/site-packages (from ipython>=6.1.0->ipywidgets) (0.2.0)\n",
      "Requirement already satisfied: backcall in /Users/yiranjia/anaconda3/lib/python3.10/site-packages (from ipython>=6.1.0->ipywidgets) (0.2.0)\n",
      "Requirement already satisfied: jedi>=0.16 in /Users/yiranjia/anaconda3/lib/python3.10/site-packages (from ipython>=6.1.0->ipywidgets) (0.18.1)\n",
      "Requirement already satisfied: prompt-toolkit<3.1.0,>=3.0.30 in /Users/yiranjia/anaconda3/lib/python3.10/site-packages (from ipython>=6.1.0->ipywidgets) (3.0.36)\n",
      "Requirement already satisfied: pickleshare in /Users/yiranjia/anaconda3/lib/python3.10/site-packages (from ipython>=6.1.0->ipywidgets) (0.7.5)\n",
      "Requirement already satisfied: pexpect>4.3 in /Users/yiranjia/anaconda3/lib/python3.10/site-packages (from ipython>=6.1.0->ipywidgets) (4.8.0)\n",
      "Requirement already satisfied: pygments>=2.4.0 in /Users/yiranjia/anaconda3/lib/python3.10/site-packages (from ipython>=6.1.0->ipywidgets) (2.11.2)\n",
      "Requirement already satisfied: decorator in /Users/yiranjia/anaconda3/lib/python3.10/site-packages (from ipython>=6.1.0->ipywidgets) (5.1.1)\n",
      "Requirement already satisfied: matplotlib-inline in /Users/yiranjia/anaconda3/lib/python3.10/site-packages (from ipython>=6.1.0->ipywidgets) (0.1.6)\n",
      "Requirement already satisfied: appnope in /Users/yiranjia/anaconda3/lib/python3.10/site-packages (from ipython>=6.1.0->ipywidgets) (0.1.2)\n",
      "Requirement already satisfied: parso<0.9.0,>=0.8.0 in /Users/yiranjia/anaconda3/lib/python3.10/site-packages (from jedi>=0.16->ipython>=6.1.0->ipywidgets) (0.8.3)\n",
      "Requirement already satisfied: ptyprocess>=0.5 in /Users/yiranjia/anaconda3/lib/python3.10/site-packages (from pexpect>4.3->ipython>=6.1.0->ipywidgets) (0.7.0)\n",
      "Requirement already satisfied: wcwidth in /Users/yiranjia/anaconda3/lib/python3.10/site-packages (from prompt-toolkit<3.1.0,>=3.0.30->ipython>=6.1.0->ipywidgets) (0.2.5)\n",
      "Requirement already satisfied: asttokens in /Users/yiranjia/anaconda3/lib/python3.10/site-packages (from stack-data->ipython>=6.1.0->ipywidgets) (2.0.5)\n",
      "Requirement already satisfied: executing in /Users/yiranjia/anaconda3/lib/python3.10/site-packages (from stack-data->ipython>=6.1.0->ipywidgets) (0.8.3)\n",
      "Requirement already satisfied: pure-eval in /Users/yiranjia/anaconda3/lib/python3.10/site-packages (from stack-data->ipython>=6.1.0->ipywidgets) (0.2.2)\n",
      "Requirement already satisfied: six in /Users/yiranjia/anaconda3/lib/python3.10/site-packages (from asttokens->stack-data->ipython>=6.1.0->ipywidgets) (1.16.0)\n",
      "Installing collected packages: widgetsnbextension, jupyterlab-widgets, comm, ipywidgets\n",
      "  Attempting uninstall: comm\n",
      "    Found existing installation: comm 0.1.2\n",
      "    Uninstalling comm-0.1.2:\n",
      "      Successfully uninstalled comm-0.1.2\n",
      "Successfully installed comm-0.2.1 ipywidgets-8.1.1 jupyterlab-widgets-3.0.9 widgetsnbextension-4.0.9\n",
      "Note: you may need to restart the kernel to use updated packages.\n"
     ]
    }
   ],
   "source": [
    "%pip install ipywidgets\n"
   ]
  },
  {
   "cell_type": "code",
   "execution_count": 2,
   "id": "07aa2b0d-0a55-4aa7-b543-892dea52c092",
   "metadata": {
    "tags": []
   },
   "outputs": [
    {
     "name": "stdout",
     "output_type": "stream",
     "text": [
      "Name: ipywidgets\n",
      "Version: 8.1.1\n",
      "Summary: Jupyter interactive widgets\n",
      "Home-page: http://jupyter.org\n",
      "Author: Jupyter Development Team\n",
      "Author-email: jupyter@googlegroups.com\n",
      "License: BSD 3-Clause License\n",
      "Location: /Users/yiranjia/anaconda3/lib/python3.10/site-packages\n",
      "Requires: comm, ipython, jupyterlab-widgets, traitlets, widgetsnbextension\n",
      "Required-by: \n",
      "Note: you may need to restart the kernel to use updated packages.\n"
     ]
    }
   ],
   "source": [
    "pip show ipywidgets"
   ]
  },
  {
   "cell_type": "code",
   "execution_count": 3,
   "id": "fb6f737b",
   "metadata": {
    "tags": []
   },
   "outputs": [],
   "source": [
    "import numpy as np\n",
    "\n",
    "x = ...\n",
    "A = ...\n"
   ]
  },
  {
   "cell_type": "markdown",
   "id": "877b173d",
   "metadata": {
    "slideshow": {
     "slide_type": "slide"
    }
   },
   "source": [
    "## §3.2: Linear Algebra on Vectors/Matrices"
   ]
  },
  {
   "cell_type": "markdown",
   "id": "d7c98146",
   "metadata": {},
   "source": [
    "Operations on vectors and matrices:\n",
    "\n",
    "1. If $x, y \\in \\R^d$ are two vectors, then $x + y$ is the vector whose $i$th element is $x_i + y_i$."
   ]
  },
  {
   "cell_type": "code",
   "execution_count": 4,
   "id": "fa646c55",
   "metadata": {
    "tags": []
   },
   "outputs": [
    {
     "data": {
      "text/plain": [
       "array([-3, -3, -3])"
      ]
     },
     "execution_count": 4,
     "metadata": {},
     "output_type": "execute_result"
    }
   ],
   "source": [
    "# Vector addition\n",
    "x = np.array([1, 2, 3])\n",
    "y = np.array([-4, -5, -6])\n",
    "x + y\n"
   ]
  },
  {
   "cell_type": "markdown",
   "id": "dc84f1c4",
   "metadata": {},
   "source": [
    "2. If $x \\in \\R^d$ and $a \\in \\R$ is a scalar, then $a \\cdot x$ is the vector whose $i$th element is $a \\cdot x_i$."
   ]
  },
  {
   "cell_type": "code",
   "execution_count": 26,
   "id": "8aeff2e9",
   "metadata": {},
   "outputs": [
    {
     "data": {
      "text/plain": [
       "array([10, 20, 30])"
      ]
     },
     "execution_count": 26,
     "metadata": {},
     "output_type": "execute_result"
    }
   ],
   "source": [
    "a = 10\n",
    "a * x\n"
   ]
  },
  {
   "cell_type": "markdown",
   "id": "0a705155",
   "metadata": {},
   "source": [
    "3. If $x, y \\in \\R^d$ are two vectors, then $x^T y$ is the dot product of $x$ and $y$."
   ]
  },
  {
   "cell_type": "code",
   "execution_count": 27,
   "id": "c44ebf1f",
   "metadata": {},
   "outputs": [
    {
     "data": {
      "text/plain": [
       "-32"
      ]
     },
     "execution_count": 27,
     "metadata": {},
     "output_type": "execute_result"
    }
   ],
   "source": [
    "np.dot(x, y)\n"
   ]
  },
  {
   "cell_type": "markdown",
   "id": "b091485e",
   "metadata": {},
   "source": [
    "4. If $x \\in \\R^d$ is a vector, then $\\|x\\|_2 = \\sqrt{x^T x}$ is the Euclidean norm of $x$."
   ]
  },
  {
   "cell_type": "code",
   "execution_count": 5,
   "id": "2a07e6f1",
   "metadata": {
    "tags": []
   },
   "outputs": [
    {
     "data": {
      "text/plain": [
       "3.7416573867739413"
      ]
     },
     "execution_count": 5,
     "metadata": {},
     "output_type": "execute_result"
    }
   ],
   "source": [
    "np.linalg.norm(x)\n"
   ]
  },
  {
   "cell_type": "markdown",
   "id": "7b20b7f7",
   "metadata": {},
   "source": [
    "5. If $x \\in \\R^d$ is a vector, then $\\|x\\|_1 = \\sum_{i=1}^d |x_i|$ is the $\\ell_1$ norm of $x$."
   ]
  },
  {
   "cell_type": "code",
   "execution_count": 29,
   "id": "6f4a89e4",
   "metadata": {},
   "outputs": [
    {
     "data": {
      "text/plain": [
       "6.0"
      ]
     },
     "execution_count": 29,
     "metadata": {},
     "output_type": "execute_result"
    }
   ],
   "source": [
    "np.linalg.norm(x, 1)\n"
   ]
  },
  {
   "cell_type": "markdown",
   "id": "c91d0816",
   "metadata": {},
   "source": [
    "6. If $x \\in \\R^d$ is a vector, then $\\|x\\|_\\infty = \\max_{i=1}^d |x_i|$ is the $\\ell_\\infty$ norm of $x$."
   ]
  },
  {
   "cell_type": "code",
   "execution_count": 30,
   "id": "5af42c94",
   "metadata": {},
   "outputs": [
    {
     "data": {
      "text/plain": [
       "3.0"
      ]
     },
     "execution_count": 30,
     "metadata": {},
     "output_type": "execute_result"
    }
   ],
   "source": [
    "np.linalg.norm(x, np.inf)\n"
   ]
  },
  {
   "cell_type": "markdown",
   "id": "1e60d8fa",
   "metadata": {},
   "source": [
    "7. If $A$ is a $d \\times d$ matrix, then $A^T$ is the transpose of $A$."
   ]
  },
  {
   "cell_type": "code",
   "execution_count": 7,
   "id": "6a81831e",
   "metadata": {
    "tags": []
   },
   "outputs": [
    {
     "data": {
      "text/plain": [
       "(array([[ 1,  2,  3],\n",
       "        [ 4,  5,  6],\n",
       "        [ 7,  8, 10]]),\n",
       " array([[ 1,  4,  7],\n",
       "        [ 2,  5,  8],\n",
       "        [ 3,  6, 10]]),\n",
       " array([[ 1,  4,  7],\n",
       "        [ 2,  5,  8],\n",
       "        [ 3,  6, 10]]))"
      ]
     },
     "execution_count": 7,
     "metadata": {},
     "output_type": "execute_result"
    }
   ],
   "source": [
    "# d = 3\n",
    "A = np.array([[1, 2, 3], [4, 5, 6], [7, 8, 10]])\n",
    "\n",
    "A, np.transpose(A), A.transpose()\n",
    "\n"
   ]
  },
  {
   "cell_type": "markdown",
   "id": "0f48451a",
   "metadata": {},
   "source": [
    "8. If $A$ is a $d \\times d$ matrix, then $A^{-1}$ is the inverse of $A$."
   ]
  },
  {
   "cell_type": "code",
   "execution_count": 32,
   "id": "c38509c9",
   "metadata": {},
   "outputs": [
    {
     "data": {
      "text/plain": [
       "array([[-0.66666667, -1.33333333,  1.        ],\n",
       "       [-0.66666667,  3.66666667, -2.        ],\n",
       "       [ 1.        , -2.        ,  1.        ]])"
      ]
     },
     "execution_count": 32,
     "metadata": {},
     "output_type": "execute_result"
    }
   ],
   "source": [
    "np.linalg.inv(A)\n"
   ]
  },
  {
   "cell_type": "markdown",
   "id": "90cbebac",
   "metadata": {},
   "source": [
    "9. If $A$ is a $d \\times d$ matrix, then $\\det(A)$ is the determinant of $A$."
   ]
  },
  {
   "cell_type": "code",
   "execution_count": 33,
   "id": "5560948b",
   "metadata": {},
   "outputs": [
    {
     "data": {
      "text/plain": [
       "-3.000000000000001"
      ]
     },
     "execution_count": 33,
     "metadata": {},
     "output_type": "execute_result"
    }
   ],
   "source": [
    "np.linalg.det(A)\n"
   ]
  },
  {
   "cell_type": "markdown",
   "id": "4a00b5a7",
   "metadata": {},
   "source": [
    "10. If $A$ is a $d \\times d$ matrix, then $\\text{tr}(A)$ is the trace of $A$."
   ]
  },
  {
   "cell_type": "code",
   "execution_count": 34,
   "id": "2757bfeb",
   "metadata": {},
   "outputs": [
    {
     "data": {
      "text/plain": [
       "16"
      ]
     },
     "execution_count": 34,
     "metadata": {},
     "output_type": "execute_result"
    }
   ],
   "source": [
    "np.trace(A)\n",
    "A.trace()\n"
   ]
  },
  {
   "cell_type": "markdown",
   "id": "4b0ba92a",
   "metadata": {},
   "source": [
    "11. If $A$ is a $d \\times d$ matrix, then $\\lambda_1, \\lambda_2, \\dots, \\lambda_d$ are the eigenvalues of $A$."
   ]
  },
  {
   "cell_type": "code",
   "execution_count": 35,
   "id": "37832666",
   "metadata": {},
   "outputs": [
    {
     "data": {
      "text/plain": [
       "array([16.70749332, -0.90574018,  0.19824686])"
      ]
     },
     "execution_count": 35,
     "metadata": {},
     "output_type": "execute_result"
    }
   ],
   "source": [
    "eigenvalues, eigenvectors = np.linalg.eig(A)\n",
    "eigenvalues\n"
   ]
  },
  {
   "cell_type": "markdown",
   "id": "0d4b1159",
   "metadata": {},
   "source": [
    "13. If $x \\in \\R^d$ and $A$ is a $p \\times d$ matrix, then $A x \\in \\R^p$ is the matrix-vector product of $A$ and $x$. The $i$th element of $A x$ is given by $(A x)_i = \\sum_{j=1}^d A_{ij} x_j$."
   ]
  },
  {
   "cell_type": "code",
   "execution_count": 12,
   "id": "99de4ec0",
   "metadata": {
    "tags": []
   },
   "outputs": [
    {
     "data": {
      "text/plain": [
       "(array([14, 32, 53]),\n",
       " array([14, 32, 53]),\n",
       " array([14, 32, 53]),\n",
       " array([14, 32, 53]))"
      ]
     },
     "execution_count": 12,
     "metadata": {},
     "output_type": "execute_result"
    }
   ],
   "source": [
    "A.dot(x), np.dot(A, x), np.matmul(A, x), A @ x\n"
   ]
  },
  {
   "cell_type": "markdown",
   "id": "0227e2b0",
   "metadata": {},
   "source": [
    "14. If $A$ is a $p \\times d$ matrix and $B$ is a $d \\times q$ matrix, then $A B \\in \\R^{p \\times q}$ is the matrix-matrix product of $A$ and $B$. The $(i, j)$th element of $A B$ is given by $(A B)_{ij} = \\sum_{k=1}^d A_{ik} B_{kj}$."
   ]
  },
  {
   "cell_type": "code",
   "execution_count": 16,
   "id": "f9f1c7d0",
   "metadata": {
    "tags": []
   },
   "outputs": [
    {
     "data": {
      "text/plain": [
       "(array([[19, 22],\n",
       "        [43, 50]]),\n",
       " array([[19, 22],\n",
       "        [43, 50]]),\n",
       " array([[19, 22],\n",
       "        [43, 50]]),\n",
       " array([[19, 22],\n",
       "        [43, 50]]))"
      ]
     },
     "execution_count": 16,
     "metadata": {},
     "output_type": "execute_result"
    }
   ],
   "source": [
    "B = np.array([[1, 2], [3, 4]])\n",
    "C = np.array([[5, 6], [7, 8]])\n",
    "\n",
    "B @ C, B.dot(C), np.dot(B, C), np.matmul(B, C)\n"
   ]
  },
  {
   "cell_type": "markdown",
   "id": "f1f08955",
   "metadata": {},
   "source": [
    "15. If $A$ is a $d \\times d$ matrix, then the solution of $Ax = b$ is given by $x = A^{-1} b$."
   ]
  },
  {
   "cell_type": "code",
   "execution_count": 17,
   "id": "888a4e13",
   "metadata": {
    "tags": []
   },
   "outputs": [
    {
     "data": {
      "text/plain": [
       "array([0. , 0.5])"
      ]
     },
     "execution_count": 17,
     "metadata": {},
     "output_type": "execute_result"
    }
   ],
   "source": [
    "# np.linalg.solve is a function within NumPy's linear algebra module that's used to solve systems of linear equations.\n",
    "np.linalg.solve(B, np.array([1, 2]))\n"
   ]
  },
  {
   "cell_type": "code",
   "execution_count": 21,
   "id": "943d83fa-2ada-4ff0-8d83-ae0f435eabb9",
   "metadata": {
    "tags": []
   },
   "outputs": [
    {
     "data": {
      "text/plain": [
       "array([0. , 0.5])"
      ]
     },
     "execution_count": 21,
     "metadata": {},
     "output_type": "execute_result"
    }
   ],
   "source": [
    "# This is a different way to get the solution. \n",
    "result = np.dot(np.linalg.inv(B), np.array([1,2]))\n",
    "result"
   ]
  },
  {
   "cell_type": "code",
   "execution_count": 23,
   "id": "ffd193f0-0971-4842-aa51-20ff33a278bc",
   "metadata": {
    "tags": []
   },
   "outputs": [
    {
     "data": {
      "text/plain": [
       "array([1, 2])"
      ]
     },
     "execution_count": 23,
     "metadata": {},
     "output_type": "execute_result"
    }
   ],
   "source": [
    "np.array([1,2])"
   ]
  },
  {
   "cell_type": "code",
   "execution_count": 39,
   "id": "18e79970",
   "metadata": {},
   "outputs": [
    {
     "data": {
      "text/plain": [
       "array([1., 2.])"
      ]
     },
     "execution_count": 39,
     "metadata": {},
     "output_type": "execute_result"
    }
   ],
   "source": [
    "B @ np.array([0, 0.5])\n"
   ]
  },
  {
   "cell_type": "markdown",
   "id": "4b7acc0d",
   "metadata": {},
   "source": [
    "More functionality can be found [here](https://numpy.org/doc/stable/reference/routines.linalg.html)"
   ]
  },
  {
   "cell_type": "markdown",
   "id": "6f2e1b85",
   "metadata": {
    "slideshow": {
     "slide_type": "slide"
    }
   },
   "source": [
    "## §3.2 Data Summarization"
   ]
  },
  {
   "cell_type": "code",
   "execution_count": 27,
   "id": "32615514",
   "metadata": {
    "tags": []
   },
   "outputs": [
    {
     "data": {
      "text/plain": [
       "[2.0, 0.816496580927726, 0.6666666666666666, 2.0, 2.0, array([-32])]"
      ]
     },
     "execution_count": 27,
     "metadata": {},
     "output_type": "execute_result"
    }
   ],
   "source": [
    "# This is a tuple\n",
    "(\n",
    "    np.mean(x), \n",
    "    np.std(x), \n",
    "    np.var(x), \n",
    "    np.median(x), \n",
    "    np.quantile(x, 0.5),\n",
    "    np.correlate(x, y)\n",
    ")\n"
   ]
  },
  {
   "cell_type": "code",
   "execution_count": 41,
   "id": "2c9fd875",
   "metadata": {},
   "outputs": [
    {
     "data": {
      "text/plain": [
       "(2.0, 0.816496580927726, 0.6666666666666666, 2.0, 2.0, array([32]))"
      ]
     },
     "execution_count": 41,
     "metadata": {},
     "output_type": "execute_result"
    }
   ],
   "source": [
    "(\n",
    "    np.mean([1,2,3]), \n",
    "    np.std([1,2,3]), \n",
    "    np.var([1,2,3]), \n",
    "    np.median([1,2,3]), \n",
    "    np.quantile([1,2,3], 0.5),\n",
    "    np.correlate([1,2,3], [4,5,6])\n",
    ")\n"
   ]
  },
  {
   "cell_type": "code",
   "execution_count": 42,
   "id": "bff06190",
   "metadata": {},
   "outputs": [
    {
     "data": {
      "text/plain": [
       "(array([[1, 2],\n",
       "        [3, 4]]),\n",
       " array([2., 3.]),\n",
       " array([1.5, 3.5]))"
      ]
     },
     "execution_count": 42,
     "metadata": {},
     "output_type": "execute_result"
    }
   ],
   "source": [
    "B, B.mean(axis=0), B.mean(axis=1)\n"
   ]
  },
  {
   "cell_type": "markdown",
   "id": "50a02054",
   "metadata": {
    "slideshow": {
     "slide_type": "slide"
    }
   },
   "source": [
    "## §3.4 What Python Knows in this session"
   ]
  },
  {
   "cell_type": "code",
   "execution_count": 30,
   "id": "e003205a",
   "metadata": {
    "tags": []
   },
   "outputs": [
    {
     "name": "stdout",
     "output_type": "stream",
     "text": [
      "Variable   Type       Data/Info\n",
      "-------------------------------\n",
      "A          ndarray    3x3: 9 elems, type `int64`, 72 bytes\n",
      "B          ndarray    2x2: 4 elems, type `int64`, 32 bytes\n",
      "C          ndarray    2x2: 4 elems, type `int64`, 32 bytes\n",
      "np         module     <module 'numpy' from '/Us<...>kages/numpy/__init__.py'>\n",
      "result     tuple      n=6\n",
      "x          ndarray    3: 3 elems, type `int64`, 24 bytes\n",
      "y          ndarray    3: 3 elems, type `int64`, 24 bytes\n"
     ]
    }
   ],
   "source": [
    "%whos\n"
   ]
  },
  {
   "cell_type": "markdown",
   "id": "86b31838",
   "metadata": {},
   "source": [
    "#### §3.4.1 Deleting variables from workspace"
   ]
  },
  {
   "cell_type": "code",
   "execution_count": 44,
   "id": "97f3636d",
   "metadata": {},
   "outputs": [],
   "source": [
    "# del(A, x)\n"
   ]
  },
  {
   "cell_type": "code",
   "execution_count": 40,
   "id": "519e7348",
   "metadata": {
    "tags": []
   },
   "outputs": [
    {
     "data": {
      "image/svg+xml": [
       "<svg xmlns=\"http://www.w3.org/2000/svg\" xmlns:xlink=\"http://www.w3.org/1999/xlink\" width=\"600\" height=\"450\" viewBox=\"0 0 2400 1800\">\n",
       "<defs>\n",
       "  <clipPath id=\"clip860\">\n",
       "    <rect x=\"300\" y=\"134\" width=\"1921\" height=\"1441\"/>\n",
       "  </clipPath>\n",
       "</defs>\n",
       "<defs>\n",
       "  <clipPath id=\"clip861\">\n",
       "    <rect x=\"0\" y=\"0\" width=\"2400\" height=\"1800\"/>\n",
       "  </clipPath>\n",
       "</defs>\n",
       "<polyline clip-path=\"url(#clip861)\" style=\"stroke:#cccccc; stroke-linecap:round; stroke-linejoin:round; stroke-width:3.6; stroke-opacity:1; fill:none\" points=\"300,1575 2220,1575 \"/>\n",
       "<polyline clip-path=\"url(#clip861)\" style=\"stroke:#ededed; stroke-linecap:round; stroke-linejoin:round; stroke-width:3.6; stroke-opacity:1; fill:none\" points=\"300,1517.4 2220,1517.4 \"/>\n",
       "<polyline clip-path=\"url(#clip861)\" style=\"stroke:#ededed; stroke-linecap:round; stroke-linejoin:round; stroke-width:3.6; stroke-opacity:1; fill:none\" points=\"300,1459.8 2220,1459.8 \"/>\n",
       "<polyline clip-path=\"url(#clip861)\" style=\"stroke:#ededed; stroke-linecap:round; stroke-linejoin:round; stroke-width:3.6; stroke-opacity:1; fill:none\" points=\"300,1402.2 2220,1402.2 \"/>\n",
       "<polyline clip-path=\"url(#clip861)\" style=\"stroke:#ededed; stroke-linecap:round; stroke-linejoin:round; stroke-width:3.6; stroke-opacity:1; fill:none\" points=\"300,1344.6 2220,1344.6 \"/>\n",
       "<polyline clip-path=\"url(#clip861)\" style=\"stroke:#cccccc; stroke-linecap:round; stroke-linejoin:round; stroke-width:3.6; stroke-opacity:1; fill:none\" points=\"300,1287 2220,1287 \"/>\n",
       "<polyline clip-path=\"url(#clip861)\" style=\"stroke:#ededed; stroke-linecap:round; stroke-linejoin:round; stroke-width:3.6; stroke-opacity:1; fill:none\" points=\"300,1229.4 2220,1229.4 \"/>\n",
       "<polyline clip-path=\"url(#clip861)\" style=\"stroke:#ededed; stroke-linecap:round; stroke-linejoin:round; stroke-width:3.6; stroke-opacity:1; fill:none\" points=\"300,1171.8 2220,1171.8 \"/>\n",
       "<polyline clip-path=\"url(#clip861)\" style=\"stroke:#ededed; stroke-linecap:round; stroke-linejoin:round; stroke-width:3.6; stroke-opacity:1; fill:none\" points=\"300,1114.2 2220,1114.2 \"/>\n",
       "<polyline clip-path=\"url(#clip861)\" style=\"stroke:#ededed; stroke-linecap:round; stroke-linejoin:round; stroke-width:3.6; stroke-opacity:1; fill:none\" points=\"300,1056.6 2220,1056.6 \"/>\n",
       "<polyline clip-path=\"url(#clip861)\" style=\"stroke:#cccccc; stroke-linecap:round; stroke-linejoin:round; stroke-width:3.6; stroke-opacity:1; fill:none\" points=\"300,999 2220,999 \"/>\n",
       "<polyline clip-path=\"url(#clip861)\" style=\"stroke:#ededed; stroke-linecap:round; stroke-linejoin:round; stroke-width:3.6; stroke-opacity:1; fill:none\" points=\"300,941.4 2220,941.4 \"/>\n",
       "<polyline clip-path=\"url(#clip861)\" style=\"stroke:#ededed; stroke-linecap:round; stroke-linejoin:round; stroke-width:3.6; stroke-opacity:1; fill:none\" points=\"300,883.8 2220,883.8 \"/>\n",
       "<polyline clip-path=\"url(#clip861)\" style=\"stroke:#ededed; stroke-linecap:round; stroke-linejoin:round; stroke-width:3.6; stroke-opacity:1; fill:none\" points=\"300,826.2 2220,826.2 \"/>\n",
       "<polyline clip-path=\"url(#clip861)\" style=\"stroke:#ededed; stroke-linecap:round; stroke-linejoin:round; stroke-width:3.6; stroke-opacity:1; fill:none\" points=\"300,768.6 2220,768.6 \"/>\n",
       "<polyline clip-path=\"url(#clip861)\" style=\"stroke:#cccccc; stroke-linecap:round; stroke-linejoin:round; stroke-width:3.6; stroke-opacity:1; fill:none\" points=\"300,711 2220,711 \"/>\n",
       "<polyline clip-path=\"url(#clip861)\" style=\"stroke:#ededed; stroke-linecap:round; stroke-linejoin:round; stroke-width:3.6; stroke-opacity:1; fill:none\" points=\"300,653.4 2220,653.4 \"/>\n",
       "<polyline clip-path=\"url(#clip861)\" style=\"stroke:#ededed; stroke-linecap:round; stroke-linejoin:round; stroke-width:3.6; stroke-opacity:1; fill:none\" points=\"300,595.8 2220,595.8 \"/>\n",
       "<polyline clip-path=\"url(#clip861)\" style=\"stroke:#ededed; stroke-linecap:round; stroke-linejoin:round; stroke-width:3.6; stroke-opacity:1; fill:none\" points=\"300,538.2 2220,538.2 \"/>\n",
       "<polyline clip-path=\"url(#clip861)\" style=\"stroke:#ededed; stroke-linecap:round; stroke-linejoin:round; stroke-width:3.6; stroke-opacity:1; fill:none\" points=\"300,480.6 2220,480.6 \"/>\n",
       "<polyline clip-path=\"url(#clip861)\" style=\"stroke:#cccccc; stroke-linecap:round; stroke-linejoin:round; stroke-width:3.6; stroke-opacity:1; fill:none\" points=\"300,423 2220,423 \"/>\n",
       "<polyline clip-path=\"url(#clip861)\" style=\"stroke:#ededed; stroke-linecap:round; stroke-linejoin:round; stroke-width:3.6; stroke-opacity:1; fill:none\" points=\"300,365.4 2220,365.4 \"/>\n",
       "<polyline clip-path=\"url(#clip861)\" style=\"stroke:#ededed; stroke-linecap:round; stroke-linejoin:round; stroke-width:3.6; stroke-opacity:1; fill:none\" points=\"300,307.8 2220,307.8 \"/>\n",
       "<polyline clip-path=\"url(#clip861)\" style=\"stroke:#ededed; stroke-linecap:round; stroke-linejoin:round; stroke-width:3.6; stroke-opacity:1; fill:none\" points=\"300,250.2 2220,250.2 \"/>\n",
       "<polyline clip-path=\"url(#clip861)\" style=\"stroke:#ededed; stroke-linecap:round; stroke-linejoin:round; stroke-width:3.6; stroke-opacity:1; fill:none\" points=\"300,192.6 2220,192.6 \"/>\n",
       "<polyline clip-path=\"url(#clip861)\" style=\"stroke:#cccccc; stroke-linecap:round; stroke-linejoin:round; stroke-width:3.6; stroke-opacity:1; fill:none\" points=\"300,135 2220,135 \"/>\n",
       "<polyline clip-path=\"url(#clip861)\" style=\"stroke:#cccccc; stroke-linecap:round; stroke-linejoin:round; stroke-width:3.6; stroke-opacity:1; fill:none\" points=\"300,1575 300,135 \"/>\n",
       "<polyline clip-path=\"url(#clip861)\" style=\"stroke:#ededed; stroke-linecap:round; stroke-linejoin:round; stroke-width:3.6; stroke-opacity:1; fill:none\" points=\"396,1575 396,135 \"/>\n",
       "<polyline clip-path=\"url(#clip861)\" style=\"stroke:#ededed; stroke-linecap:round; stroke-linejoin:round; stroke-width:3.6; stroke-opacity:1; fill:none\" points=\"492,1575 492,135 \"/>\n",
       "<polyline clip-path=\"url(#clip861)\" style=\"stroke:#ededed; stroke-linecap:round; stroke-linejoin:round; stroke-width:3.6; stroke-opacity:1; fill:none\" points=\"588,1575 588,135 \"/>\n",
       "<polyline clip-path=\"url(#clip861)\" style=\"stroke:#ededed; stroke-linecap:round; stroke-linejoin:round; stroke-width:3.6; stroke-opacity:1; fill:none\" points=\"684,1575 684,135 \"/>\n",
       "<polyline clip-path=\"url(#clip861)\" style=\"stroke:#cccccc; stroke-linecap:round; stroke-linejoin:round; stroke-width:3.6; stroke-opacity:1; fill:none\" points=\"780,1575 780,135 \"/>\n",
       "<polyline clip-path=\"url(#clip861)\" style=\"stroke:#ededed; stroke-linecap:round; stroke-linejoin:round; stroke-width:3.6; stroke-opacity:1; fill:none\" points=\"876,1575 876,135 \"/>\n",
       "<polyline clip-path=\"url(#clip861)\" style=\"stroke:#ededed; stroke-linecap:round; stroke-linejoin:round; stroke-width:3.6; stroke-opacity:1; fill:none\" points=\"972,1575 972,135 \"/>\n",
       "<polyline clip-path=\"url(#clip861)\" style=\"stroke:#ededed; stroke-linecap:round; stroke-linejoin:round; stroke-width:3.6; stroke-opacity:1; fill:none\" points=\"1068,1575 1068,135 \"/>\n",
       "<polyline clip-path=\"url(#clip861)\" style=\"stroke:#ededed; stroke-linecap:round; stroke-linejoin:round; stroke-width:3.6; stroke-opacity:1; fill:none\" points=\"1164,1575 1164,135 \"/>\n",
       "<polyline clip-path=\"url(#clip861)\" style=\"stroke:#cccccc; stroke-linecap:round; stroke-linejoin:round; stroke-width:3.6; stroke-opacity:1; fill:none\" points=\"1260,1575 1260,135 \"/>\n",
       "<polyline clip-path=\"url(#clip861)\" style=\"stroke:#ededed; stroke-linecap:round; stroke-linejoin:round; stroke-width:3.6; stroke-opacity:1; fill:none\" points=\"1356,1575 1356,135 \"/>\n",
       "<polyline clip-path=\"url(#clip861)\" style=\"stroke:#ededed; stroke-linecap:round; stroke-linejoin:round; stroke-width:3.6; stroke-opacity:1; fill:none\" points=\"1452,1575 1452,135 \"/>\n",
       "<polyline clip-path=\"url(#clip861)\" style=\"stroke:#ededed; stroke-linecap:round; stroke-linejoin:round; stroke-width:3.6; stroke-opacity:1; fill:none\" points=\"1548,1575 1548,135 \"/>\n",
       "<polyline clip-path=\"url(#clip861)\" style=\"stroke:#ededed; stroke-linecap:round; stroke-linejoin:round; stroke-width:3.6; stroke-opacity:1; fill:none\" points=\"1644,1575 1644,135 \"/>\n",
       "<polyline clip-path=\"url(#clip861)\" style=\"stroke:#cccccc; stroke-linecap:round; stroke-linejoin:round; stroke-width:3.6; stroke-opacity:1; fill:none\" points=\"1740,1575 1740,135 \"/>\n",
       "<polyline clip-path=\"url(#clip861)\" style=\"stroke:#ededed; stroke-linecap:round; stroke-linejoin:round; stroke-width:3.6; stroke-opacity:1; fill:none\" points=\"1836,1575 1836,135 \"/>\n",
       "<polyline clip-path=\"url(#clip861)\" style=\"stroke:#ededed; stroke-linecap:round; stroke-linejoin:round; stroke-width:3.6; stroke-opacity:1; fill:none\" points=\"1932,1575 1932,135 \"/>\n",
       "<polyline clip-path=\"url(#clip861)\" style=\"stroke:#ededed; stroke-linecap:round; stroke-linejoin:round; stroke-width:3.6; stroke-opacity:1; fill:none\" points=\"2028,1575 2028,135 \"/>\n",
       "<polyline clip-path=\"url(#clip861)\" style=\"stroke:#ededed; stroke-linecap:round; stroke-linejoin:round; stroke-width:3.6; stroke-opacity:1; fill:none\" points=\"2124,1575 2124,135 \"/>\n",
       "<polyline clip-path=\"url(#clip861)\" style=\"stroke:#cccccc; stroke-linecap:round; stroke-linejoin:round; stroke-width:3.6; stroke-opacity:1; fill:none\" points=\"2220,1575 2220,135 \"/>\n",
       "<g clip-path=\"url(#clip861)\">\n",
       "<text style=\"fill:#000000; fill-opacity:1; font-family:Arial,Helvetica Neue,Helvetica,sans-serif; font-size:59px; text-anchor:start;\" transform=\"rotate(0, 248.547, 1592.06)\" x=\"248.547\" y=\"1592.06\">0</text>\n",
       "</g>\n",
       "<g clip-path=\"url(#clip861)\">\n",
       "<text style=\"fill:#000000; fill-opacity:1; font-family:Arial,Helvetica Neue,Helvetica,sans-serif; font-size:59px; text-anchor:start;\" transform=\"rotate(0, 215.094, 1304.06)\" x=\"215.094\" y=\"1304.06\">20</text>\n",
       "</g>\n",
       "<g clip-path=\"url(#clip861)\">\n",
       "<text style=\"fill:#000000; fill-opacity:1; font-family:Arial,Helvetica Neue,Helvetica,sans-serif; font-size:59px; text-anchor:start;\" transform=\"rotate(0, 215.094, 1016.06)\" x=\"215.094\" y=\"1016.06\">40</text>\n",
       "</g>\n",
       "<g clip-path=\"url(#clip861)\">\n",
       "<text style=\"fill:#000000; fill-opacity:1; font-family:Arial,Helvetica Neue,Helvetica,sans-serif; font-size:59px; text-anchor:start;\" transform=\"rotate(0, 215.094, 728.064)\" x=\"215.094\" y=\"728.064\">60</text>\n",
       "</g>\n",
       "<g clip-path=\"url(#clip861)\">\n",
       "<text style=\"fill:#000000; fill-opacity:1; font-family:Arial,Helvetica Neue,Helvetica,sans-serif; font-size:59px; text-anchor:start;\" transform=\"rotate(0, 215.094, 440.064)\" x=\"215.094\" y=\"440.064\">80</text>\n",
       "</g>\n",
       "<g clip-path=\"url(#clip861)\">\n",
       "<text style=\"fill:#000000; fill-opacity:1; font-family:Arial,Helvetica Neue,Helvetica,sans-serif; font-size:59px; text-anchor:start;\" transform=\"rotate(0, 181.641, 152.064)\" x=\"181.641\" y=\"152.064\">100</text>\n",
       "</g>\n",
       "<polyline clip-path=\"url(#clip861)\" style=\"stroke:#000000; stroke-linecap:round; stroke-linejoin:round; stroke-width:3.6; stroke-opacity:1; fill:none\" points=\"300,1575 300,1575 336,1575 300,1575 300,1517.4 318,1517.4 300,1517.4 300,1459.8 318,1459.8 300,1459.8 300,1402.2 318,1402.2 300,1402.2 300,1344.6 318,1344.6 300,1344.6 300,1287 336,1287 300,1287 300,1229.4 318,1229.4 300,1229.4 300,1171.8 318,1171.8 300,1171.8 300,1114.2 318,1114.2 300,1114.2 300,1056.6 318,1056.6 300,1056.6 300,999 336,999 300,999 300,941.4 318,941.4 300,941.4 300,883.8 318,883.8 300,883.8 300,826.2 318,826.2 300,826.2 300,768.6 318,768.6 300,768.6 300,711 336,711 300,711 300,653.4 318,653.4 300,653.4 300,595.8 318,595.8 300,595.8 300,538.2 318,538.2 300,538.2 300,480.6 318,480.6 300,480.6 300,423 336,423 300,423 300,365.4 318,365.4 300,365.4 300,307.8 318,307.8 300,307.8 300,250.2 318,250.2 300,250.2 300,192.6 318,192.6 300,192.6 300,135 336,135 300,135 \"/>\n",
       "<g clip-path=\"url(#clip861)\">\n",
       "<text style=\"fill:#000000; fill-opacity:1; font-family:Arial,Helvetica Neue,Helvetica,sans-serif; font-size:59px; text-anchor:start;\" transform=\"rotate(0, 248.978, 1646.57)\" x=\"248.978\" y=\"1646.57\">-</text>\n",
       "</g>\n",
       "<g clip-path=\"url(#clip861)\">\n",
       "<text style=\"fill:#000000; fill-opacity:1; font-family:Arial,Helvetica Neue,Helvetica,sans-serif; font-size:59px; text-anchor:start;\" transform=\"rotate(0, 284.116, 1646.57)\" x=\"284.116\" y=\"1646.57\">10</text>\n",
       "</g>\n",
       "<g clip-path=\"url(#clip861)\">\n",
       "<text style=\"fill:#000000; fill-opacity:1; font-family:Arial,Helvetica Neue,Helvetica,sans-serif; font-size:59px; text-anchor:start;\" transform=\"rotate(0, 745.705, 1646.57)\" x=\"745.705\" y=\"1646.57\">-</text>\n",
       "</g>\n",
       "<g clip-path=\"url(#clip861)\">\n",
       "<text style=\"fill:#000000; fill-opacity:1; font-family:Arial,Helvetica Neue,Helvetica,sans-serif; font-size:59px; text-anchor:start;\" transform=\"rotate(0, 780.842, 1646.57)\" x=\"780.842\" y=\"1646.57\">5</text>\n",
       "</g>\n",
       "<g clip-path=\"url(#clip861)\">\n",
       "<text style=\"fill:#000000; fill-opacity:1; font-family:Arial,Helvetica Neue,Helvetica,sans-serif; font-size:59px; text-anchor:start;\" transform=\"rotate(0, 1243.27, 1646.57)\" x=\"1243.27\" y=\"1646.57\">0</text>\n",
       "</g>\n",
       "<g clip-path=\"url(#clip861)\">\n",
       "<text style=\"fill:#000000; fill-opacity:1; font-family:Arial,Helvetica Neue,Helvetica,sans-serif; font-size:59px; text-anchor:start;\" transform=\"rotate(0, 1723.27, 1646.57)\" x=\"1723.27\" y=\"1646.57\">5</text>\n",
       "</g>\n",
       "<g clip-path=\"url(#clip861)\">\n",
       "<text style=\"fill:#000000; fill-opacity:1; font-family:Arial,Helvetica Neue,Helvetica,sans-serif; font-size:59px; text-anchor:start;\" transform=\"rotate(0, 2186.55, 1646.57)\" x=\"2186.55\" y=\"1646.57\">10</text>\n",
       "</g>\n",
       "<polyline clip-path=\"url(#clip861)\" style=\"stroke:#000000; stroke-linecap:round; stroke-linejoin:round; stroke-width:3.6; stroke-opacity:1; fill:none\" points=\"300,1575 300,1575 300,1539 300,1575 396,1575 396,1557 396,1575 492,1575 492,1557 492,1575 588,1575 588,1557 588,1575 684,1575 684,1557 684,1575 780,1575 780,1539 780,1575 876,1575 876,1557 876,1575 972,1575 972,1557 972,1575 1068,1575 1068,1557 1068,1575 1164,1575 1164,1557 1164,1575 1260,1575 1260,1539 1260,1575 1356,1575 1356,1557 1356,1575 1452,1575 1452,1557 1452,1575 1548,1575 1548,1557 1548,1575 1644,1575 1644,1557 1644,1575 1740,1575 1740,1539 1740,1575 1836,1575 1836,1557 1836,1575 1932,1575 1932,1557 1932,1575 2028,1575 2028,1557 2028,1575 2124,1575 2124,1557 2124,1575 2220,1575 2220,1539 2220,1575 \"/>\n",
       "<polyline clip-path=\"url(#clip861)\" style=\"stroke:#000000; stroke-linecap:round; stroke-linejoin:round; stroke-width:3.6; stroke-opacity:1; fill:none\" points=\"2220,1575 2220,1575 2184,1575 2220,1575 2220,1517.4 2202,1517.4 2220,1517.4 2220,1459.8 2202,1459.8 2220,1459.8 2220,1402.2 2202,1402.2 2220,1402.2 2220,1344.6 2202,1344.6 2220,1344.6 2220,1287 2184,1287 2220,1287 2220,1229.4 2202,1229.4 2220,1229.4 2220,1171.8 2202,1171.8 2220,1171.8 2220,1114.2 2202,1114.2 2220,1114.2 2220,1056.6 2202,1056.6 2220,1056.6 2220,999 2184,999 2220,999 2220,941.4 2202,941.4 2220,941.4 2220,883.8 2202,883.8 2220,883.8 2220,826.2 2202,826.2 2220,826.2 2220,768.6 2202,768.6 2220,768.6 2220,711 2184,711 2220,711 2220,653.4 2202,653.4 2220,653.4 2220,595.8 2202,595.8 2220,595.8 2220,538.2 2202,538.2 2220,538.2 2220,480.6 2202,480.6 2220,480.6 2220,423 2184,423 2220,423 2220,365.4 2202,365.4 2220,365.4 2220,307.8 2202,307.8 2220,307.8 2220,250.2 2202,250.2 2220,250.2 2220,192.6 2202,192.6 2220,192.6 2220,135 2184,135 2220,135 \"/>\n",
       "<polyline clip-path=\"url(#clip861)\" style=\"stroke:#000000; stroke-linecap:round; stroke-linejoin:round; stroke-width:3.6; stroke-opacity:1; fill:none\" points=\"300,135 300,135 300,171 300,135 396,135 396,153 396,135 492,135 492,153 492,135 588,135 588,153 588,135 684,135 684,153 684,135 780,135 780,171 780,135 876,135 876,153 876,135 972,135 972,153 972,135 1068,135 1068,153 1068,135 1164,135 1164,153 1164,135 1260,135 1260,171 1260,135 1356,135 1356,153 1356,135 1452,135 1452,153 1452,135 1548,135 1548,153 1548,135 1644,135 1644,153 1644,135 1740,135 1740,171 1740,135 1836,135 1836,153 1836,135 1932,135 1932,153 1932,135 2028,135 2028,153 2028,135 2124,135 2124,153 2124,135 2220,135 2220,171 2220,135 \"/>\n",
       "<polyline clip-path=\"url(#clip860)\" style=\"stroke:#00528a; stroke-linecap:round; stroke-linejoin:round; stroke-width:3.6; stroke-opacity:1; fill:none\" points=\"300,135 319.394,192.594 338.788,249.013 358.182,304.256 377.576,358.324 396.97,411.217 416.364,462.934 435.758,513.476 455.152,562.842 474.545,611.033 493.939,658.049 513.333,703.889 532.727,748.554 552.121,792.043 571.515,834.357 590.909,875.496 610.303,915.459 629.697,954.247 649.091,991.86 668.485,1028.3 687.879,1063.56 707.273,1097.64 726.667,1130.56 746.061,1162.29 765.455,1192.85 784.848,1222.24 804.242,1250.45 823.636,1277.48 843.03,1303.34 862.424,1328.02 881.818,1351.53 901.212,1373.86 920.606,1395.02 940,1415 959.394,1433.81 978.788,1451.44 998.182,1467.89 1017.58,1483.17 1036.97,1497.28 1056.36,1510.21 1075.76,1521.96 1095.15,1532.54 1114.55,1541.94 1133.94,1550.17 1153.33,1557.22 1172.73,1563.1 1192.12,1567.8 1211.52,1571.33 1230.91,1573.68 1250.3,1574.85 1269.7,1574.85 1289.09,1573.68 1308.48,1571.33 1327.88,1567.8 1347.27,1563.1 1366.67,1557.22 1386.06,1550.17 1405.45,1541.94 1424.85,1532.54 1444.24,1521.96 1463.64,1510.21 1483.03,1497.28 1502.42,1483.17 1521.82,1467.89 1541.21,1451.44 1560.61,1433.81 1580,1415 1599.39,1395.02 1618.79,1373.86 1638.18,1351.53 1657.58,1328.02 1676.97,1303.34 1696.36,1277.48 1715.76,1250.45 1735.15,1222.24 1754.55,1192.85 1773.94,1162.29 1793.33,1130.56 1812.73,1097.64 1832.12,1063.56 1851.52,1028.3 1870.91,991.86 1890.3,954.247 1909.7,915.459 1929.09,875.496 1948.48,834.357 1967.88,792.043 1987.27,748.554 2006.67,703.889 2026.06,658.049 2045.45,611.033 2064.85,562.842 2084.24,513.476 2103.64,462.934 2123.03,411.217 2142.42,358.324 2161.82,304.256 2181.21,249.013 2200.61,192.594 2220,135 \"/>\n",
       "<path clip-path=\"url(#clip861)\" d=\"M1908 351 L2148 351 L2148 207 L1908 207  Z\" fill=\"#ffffff\" fill-rule=\"evenodd\" fill-opacity=\"1\"/>\n",
       "<polyline clip-path=\"url(#clip861)\" style=\"stroke:#000000; stroke-linecap:round; stroke-linejoin:round; stroke-width:3.6; stroke-opacity:1; fill:none\" points=\"1908,351 2148,351 2148,207 1908,207 1908,351 \"/>\n",
       "<polyline clip-path=\"url(#clip861)\" style=\"stroke:#00528a; stroke-linecap:round; stroke-linejoin:round; stroke-width:3.6; stroke-opacity:1; fill:none\" points=\"1932,279 2076,279 \"/>\n",
       "</svg>"
      ],
      "text/plain": [
       "<IPython.core.display.SVG object>"
      ]
     },
     "metadata": {},
     "output_type": "display_data"
    }
   ],
   "source": [
    "# Explicit Namespace: By selectively importing plot from gr.pygr, we create a clear namespace within your code, \n",
    "# specifying that plot refers to the function from that particular package.\n",
    "\n",
    "# np.linspace() is a function within the NumPy library (imported as np) that creates \n",
    "# evenly spaced numbers within a specified interval.\n",
    "\n",
    "from gr.pygr import plot\n",
    "x=np.linspace(-10,10,100)\n",
    "plot(x, lambda x: x**2, label='x^2')"
   ]
  },
  {
   "cell_type": "markdown",
   "id": "b2409f68",
   "metadata": {},
   "source": [
    "# §4. Data Manipulation\n",
    "\n",
    "The main package for data manipulation in Python is `pandas`. It allows you to:\n",
    "\n",
    "$$\n",
    "\\text{create } \\longrightarrow \n",
    "\\text{import } \\longrightarrow \n",
    "\\text{explore } \\longrightarrow \n",
    "\\text{modify } \\longrightarrow \n",
    "\\text{delete} \n",
    "$$"
   ]
  },
  {
   "cell_type": "code",
   "execution_count": 42,
   "id": "48d3d615",
   "metadata": {
    "tags": []
   },
   "outputs": [],
   "source": [
    "import pandas as pd\n"
   ]
  },
  {
   "cell_type": "markdown",
   "id": "f5817426",
   "metadata": {},
   "source": [
    "##### §4.1: Create Data"
   ]
  },
  {
   "cell_type": "code",
   "execution_count": 49,
   "id": "b763893e",
   "metadata": {
    "tags": []
   },
   "outputs": [
    {
     "data": {
      "text/html": [
       "<div>\n",
       "<style scoped>\n",
       "    .dataframe tbody tr th:only-of-type {\n",
       "        vertical-align: middle;\n",
       "    }\n",
       "\n",
       "    .dataframe tbody tr th {\n",
       "        vertical-align: top;\n",
       "    }\n",
       "\n",
       "    .dataframe thead th {\n",
       "        text-align: right;\n",
       "    }\n",
       "</style>\n",
       "<table border=\"1\" class=\"dataframe\">\n",
       "  <thead>\n",
       "    <tr style=\"text-align: right;\">\n",
       "      <th></th>\n",
       "      <th>x</th>\n",
       "      <th>y</th>\n",
       "      <th>z_uniform</th>\n",
       "      <th>z_normal</th>\n",
       "    </tr>\n",
       "  </thead>\n",
       "  <tbody>\n",
       "    <tr>\n",
       "      <th>0</th>\n",
       "      <td>9</td>\n",
       "      <td>b</td>\n",
       "      <td>0.109382</td>\n",
       "      <td>-0.613105</td>\n",
       "    </tr>\n",
       "    <tr>\n",
       "      <th>1</th>\n",
       "      <td>6</td>\n",
       "      <td>b</td>\n",
       "      <td>0.366250</td>\n",
       "      <td>0.627449</td>\n",
       "    </tr>\n",
       "    <tr>\n",
       "      <th>2</th>\n",
       "      <td>0</td>\n",
       "      <td>a</td>\n",
       "      <td>0.633315</td>\n",
       "      <td>0.026299</td>\n",
       "    </tr>\n",
       "    <tr>\n",
       "      <th>3</th>\n",
       "      <td>4</td>\n",
       "      <td>a</td>\n",
       "      <td>0.201578</td>\n",
       "      <td>-0.246465</td>\n",
       "    </tr>\n",
       "    <tr>\n",
       "      <th>4</th>\n",
       "      <td>1</td>\n",
       "      <td>a</td>\n",
       "      <td>0.465612</td>\n",
       "      <td>1.593467</td>\n",
       "    </tr>\n",
       "    <tr>\n",
       "      <th>5</th>\n",
       "      <td>0</td>\n",
       "      <td>b</td>\n",
       "      <td>0.533705</td>\n",
       "      <td>0.291964</td>\n",
       "    </tr>\n",
       "    <tr>\n",
       "      <th>6</th>\n",
       "      <td>4</td>\n",
       "      <td>b</td>\n",
       "      <td>0.309833</td>\n",
       "      <td>1.379117</td>\n",
       "    </tr>\n",
       "    <tr>\n",
       "      <th>7</th>\n",
       "      <td>3</td>\n",
       "      <td>b</td>\n",
       "      <td>0.560506</td>\n",
       "      <td>-1.170464</td>\n",
       "    </tr>\n",
       "    <tr>\n",
       "      <th>8</th>\n",
       "      <td>4</td>\n",
       "      <td>a</td>\n",
       "      <td>0.875378</td>\n",
       "      <td>-1.684045</td>\n",
       "    </tr>\n",
       "    <tr>\n",
       "      <th>9</th>\n",
       "      <td>5</td>\n",
       "      <td>b</td>\n",
       "      <td>0.513324</td>\n",
       "      <td>0.044384</td>\n",
       "    </tr>\n",
       "  </tbody>\n",
       "</table>\n",
       "</div>"
      ],
      "text/plain": [
       "   x  y  z_uniform  z_normal\n",
       "0  9  b   0.109382 -0.613105\n",
       "1  6  b   0.366250  0.627449\n",
       "2  0  a   0.633315  0.026299\n",
       "3  4  a   0.201578 -0.246465\n",
       "4  1  a   0.465612  1.593467\n",
       "5  0  b   0.533705  0.291964\n",
       "6  4  b   0.309833  1.379117\n",
       "7  3  b   0.560506 -1.170464\n",
       "8  4  a   0.875378 -1.684045\n",
       "9  5  b   0.513324  0.044384"
      ]
     },
     "execution_count": 49,
     "metadata": {},
     "output_type": "execute_result"
    }
   ],
   "source": [
    "# create from a dictionary\n",
    "data_dict = {\n",
    "    'x': np.random.randint(0, 10, size=10),\n",
    "    'y': np.random.choice([\"a\", \"b\"], size=10),\n",
    "    'z_uniform': np.random.uniform(size=10),\n",
    "    'z_normal': np.random.normal(size=10),\n",
    "}\n",
    "pd.DataFrame(data_dict)\n"
   ]
  },
  {
   "cell_type": "code",
   "execution_count": 44,
   "id": "b8b509fb",
   "metadata": {
    "tags": []
   },
   "outputs": [
    {
     "data": {
      "text/html": [
       "<div>\n",
       "<style scoped>\n",
       "    .dataframe tbody tr th:only-of-type {\n",
       "        vertical-align: middle;\n",
       "    }\n",
       "\n",
       "    .dataframe tbody tr th {\n",
       "        vertical-align: top;\n",
       "    }\n",
       "\n",
       "    .dataframe thead th {\n",
       "        text-align: right;\n",
       "    }\n",
       "</style>\n",
       "<table border=\"1\" class=\"dataframe\">\n",
       "  <thead>\n",
       "    <tr style=\"text-align: right;\">\n",
       "      <th></th>\n",
       "      <th>a</th>\n",
       "      <th>b</th>\n",
       "      <th>c</th>\n",
       "    </tr>\n",
       "  </thead>\n",
       "  <tbody>\n",
       "    <tr>\n",
       "      <th>0</th>\n",
       "      <td>0</td>\n",
       "      <td>c</td>\n",
       "      <td>-1.3904842943016529</td>\n",
       "    </tr>\n",
       "    <tr>\n",
       "      <th>1</th>\n",
       "      <td>1</td>\n",
       "      <td>c</td>\n",
       "      <td>-0.13122283084476402</td>\n",
       "    </tr>\n",
       "    <tr>\n",
       "      <th>2</th>\n",
       "      <td>2</td>\n",
       "      <td>c</td>\n",
       "      <td>-1.424405728787448</td>\n",
       "    </tr>\n",
       "    <tr>\n",
       "      <th>3</th>\n",
       "      <td>2</td>\n",
       "      <td>c</td>\n",
       "      <td>1.7984984791194814</td>\n",
       "    </tr>\n",
       "    <tr>\n",
       "      <th>4</th>\n",
       "      <td>2</td>\n",
       "      <td>c</td>\n",
       "      <td>-0.15026673010300678</td>\n",
       "    </tr>\n",
       "  </tbody>\n",
       "</table>\n",
       "</div>"
      ],
      "text/plain": [
       "   a  b                     c\n",
       "0  0  c   -1.3904842943016529\n",
       "1  1  c  -0.13122283084476402\n",
       "2  2  c    -1.424405728787448\n",
       "3  2  c    1.7984984791194814\n",
       "4  2  c  -0.15026673010300678"
      ]
     },
     "execution_count": 44,
     "metadata": {},
     "output_type": "execute_result"
    }
   ],
   "source": [
    "# create dataframe from a list (can even be a vanilla list)\n",
    "# This can be viewed as a matrix, we are creating three-row matrix \n",
    "data_list = np.array([\n",
    "    np.random.randint(0, 10, size=5),\n",
    "    np.random.choice([\"a\", \"b\", \"c\"], size=5),\n",
    "    np.random.normal(size=5)\n",
    "])\n",
    "\n",
    "# pandas expects data to be in row-wise format, so we need to transpose\n",
    "pd.DataFrame(data_list.transpose(), columns=['a', 'b', 'c'])\n"
   ]
  },
  {
   "cell_type": "markdown",
   "id": "d389f35e",
   "metadata": {},
   "source": [
    "\n",
    "##### §4.2: Import\n",
    "\n",
    "You can import data from a CSV file using the `read_csv` function.\n",
    "\n",
    "```python\n",
    "import pandas as pd\n",
    "df = pd.read_csv('data.csv')\n",
    "```\n",
    "\n",
    "You can also read a data from a URL."
   ]
  },
  {
   "cell_type": "code",
   "execution_count": 50,
   "id": "b14d8202",
   "metadata": {
    "tags": []
   },
   "outputs": [
    {
     "data": {
      "text/html": [
       "<div>\n",
       "<style scoped>\n",
       "    .dataframe tbody tr th:only-of-type {\n",
       "        vertical-align: middle;\n",
       "    }\n",
       "\n",
       "    .dataframe tbody tr th {\n",
       "        vertical-align: top;\n",
       "    }\n",
       "\n",
       "    .dataframe thead th {\n",
       "        text-align: right;\n",
       "    }\n",
       "</style>\n",
       "<table border=\"1\" class=\"dataframe\">\n",
       "  <thead>\n",
       "    <tr style=\"text-align: right;\">\n",
       "      <th></th>\n",
       "      <th>sepal.length</th>\n",
       "      <th>sepal.width</th>\n",
       "      <th>petal.length</th>\n",
       "      <th>petal.width</th>\n",
       "      <th>variety</th>\n",
       "    </tr>\n",
       "  </thead>\n",
       "  <tbody>\n",
       "    <tr>\n",
       "      <th>0</th>\n",
       "      <td>5.1</td>\n",
       "      <td>3.5</td>\n",
       "      <td>1.4</td>\n",
       "      <td>0.2</td>\n",
       "      <td>Setosa</td>\n",
       "    </tr>\n",
       "    <tr>\n",
       "      <th>1</th>\n",
       "      <td>4.9</td>\n",
       "      <td>3.0</td>\n",
       "      <td>1.4</td>\n",
       "      <td>0.2</td>\n",
       "      <td>Setosa</td>\n",
       "    </tr>\n",
       "    <tr>\n",
       "      <th>2</th>\n",
       "      <td>4.7</td>\n",
       "      <td>3.2</td>\n",
       "      <td>1.3</td>\n",
       "      <td>0.2</td>\n",
       "      <td>Setosa</td>\n",
       "    </tr>\n",
       "    <tr>\n",
       "      <th>3</th>\n",
       "      <td>4.6</td>\n",
       "      <td>3.1</td>\n",
       "      <td>1.5</td>\n",
       "      <td>0.2</td>\n",
       "      <td>Setosa</td>\n",
       "    </tr>\n",
       "    <tr>\n",
       "      <th>4</th>\n",
       "      <td>5.0</td>\n",
       "      <td>3.6</td>\n",
       "      <td>1.4</td>\n",
       "      <td>0.2</td>\n",
       "      <td>Setosa</td>\n",
       "    </tr>\n",
       "    <tr>\n",
       "      <th>...</th>\n",
       "      <td>...</td>\n",
       "      <td>...</td>\n",
       "      <td>...</td>\n",
       "      <td>...</td>\n",
       "      <td>...</td>\n",
       "    </tr>\n",
       "    <tr>\n",
       "      <th>145</th>\n",
       "      <td>6.7</td>\n",
       "      <td>3.0</td>\n",
       "      <td>5.2</td>\n",
       "      <td>2.3</td>\n",
       "      <td>Virginica</td>\n",
       "    </tr>\n",
       "    <tr>\n",
       "      <th>146</th>\n",
       "      <td>6.3</td>\n",
       "      <td>2.5</td>\n",
       "      <td>5.0</td>\n",
       "      <td>1.9</td>\n",
       "      <td>Virginica</td>\n",
       "    </tr>\n",
       "    <tr>\n",
       "      <th>147</th>\n",
       "      <td>6.5</td>\n",
       "      <td>3.0</td>\n",
       "      <td>5.2</td>\n",
       "      <td>2.0</td>\n",
       "      <td>Virginica</td>\n",
       "    </tr>\n",
       "    <tr>\n",
       "      <th>148</th>\n",
       "      <td>6.2</td>\n",
       "      <td>3.4</td>\n",
       "      <td>5.4</td>\n",
       "      <td>2.3</td>\n",
       "      <td>Virginica</td>\n",
       "    </tr>\n",
       "    <tr>\n",
       "      <th>149</th>\n",
       "      <td>5.9</td>\n",
       "      <td>3.0</td>\n",
       "      <td>5.1</td>\n",
       "      <td>1.8</td>\n",
       "      <td>Virginica</td>\n",
       "    </tr>\n",
       "  </tbody>\n",
       "</table>\n",
       "<p>150 rows × 5 columns</p>\n",
       "</div>"
      ],
      "text/plain": [
       "     sepal.length  sepal.width  petal.length  petal.width    variety\n",
       "0             5.1          3.5           1.4          0.2     Setosa\n",
       "1             4.9          3.0           1.4          0.2     Setosa\n",
       "2             4.7          3.2           1.3          0.2     Setosa\n",
       "3             4.6          3.1           1.5          0.2     Setosa\n",
       "4             5.0          3.6           1.4          0.2     Setosa\n",
       "..            ...          ...           ...          ...        ...\n",
       "145           6.7          3.0           5.2          2.3  Virginica\n",
       "146           6.3          2.5           5.0          1.9  Virginica\n",
       "147           6.5          3.0           5.2          2.0  Virginica\n",
       "148           6.2          3.4           5.4          2.3  Virginica\n",
       "149           5.9          3.0           5.1          1.8  Virginica\n",
       "\n",
       "[150 rows x 5 columns]"
      ]
     },
     "execution_count": 50,
     "metadata": {},
     "output_type": "execute_result"
    }
   ],
   "source": [
    "url = 'https://gist.githubusercontent.com/netj/8836201/raw/6f9306ad21398ea43cba4f7d537619d0e07d5ae3/iris.csv'\n",
    "df = pd.read_csv(url)\n",
    "df\n"
   ]
  },
  {
   "cell_type": "code",
   "execution_count": 47,
   "id": "ceb0329c",
   "metadata": {
    "tags": []
   },
   "outputs": [
    {
     "data": {
      "text/html": [
       "<div>\n",
       "<style scoped>\n",
       "    .dataframe tbody tr th:only-of-type {\n",
       "        vertical-align: middle;\n",
       "    }\n",
       "\n",
       "    .dataframe tbody tr th {\n",
       "        vertical-align: top;\n",
       "    }\n",
       "\n",
       "    .dataframe thead th {\n",
       "        text-align: right;\n",
       "    }\n",
       "</style>\n",
       "<table border=\"1\" class=\"dataframe\">\n",
       "  <thead>\n",
       "    <tr style=\"text-align: right;\">\n",
       "      <th></th>\n",
       "      <th>sepal.length</th>\n",
       "      <th>sepal.width</th>\n",
       "      <th>petal.length</th>\n",
       "      <th>petal.width</th>\n",
       "      <th>variety</th>\n",
       "    </tr>\n",
       "  </thead>\n",
       "  <tbody>\n",
       "    <tr>\n",
       "      <th>0</th>\n",
       "      <td>5.1</td>\n",
       "      <td>3.5</td>\n",
       "      <td>1.4</td>\n",
       "      <td>0.2</td>\n",
       "      <td>Setosa</td>\n",
       "    </tr>\n",
       "    <tr>\n",
       "      <th>1</th>\n",
       "      <td>4.9</td>\n",
       "      <td>3.0</td>\n",
       "      <td>1.4</td>\n",
       "      <td>0.2</td>\n",
       "      <td>Setosa</td>\n",
       "    </tr>\n",
       "    <tr>\n",
       "      <th>2</th>\n",
       "      <td>4.7</td>\n",
       "      <td>3.2</td>\n",
       "      <td>1.3</td>\n",
       "      <td>0.2</td>\n",
       "      <td>Setosa</td>\n",
       "    </tr>\n",
       "    <tr>\n",
       "      <th>3</th>\n",
       "      <td>4.6</td>\n",
       "      <td>3.1</td>\n",
       "      <td>1.5</td>\n",
       "      <td>0.2</td>\n",
       "      <td>Setosa</td>\n",
       "    </tr>\n",
       "    <tr>\n",
       "      <th>4</th>\n",
       "      <td>5.0</td>\n",
       "      <td>3.6</td>\n",
       "      <td>1.4</td>\n",
       "      <td>0.2</td>\n",
       "      <td>Setosa</td>\n",
       "    </tr>\n",
       "    <tr>\n",
       "      <th>...</th>\n",
       "      <td>...</td>\n",
       "      <td>...</td>\n",
       "      <td>...</td>\n",
       "      <td>...</td>\n",
       "      <td>...</td>\n",
       "    </tr>\n",
       "    <tr>\n",
       "      <th>145</th>\n",
       "      <td>6.7</td>\n",
       "      <td>3.0</td>\n",
       "      <td>5.2</td>\n",
       "      <td>2.3</td>\n",
       "      <td>Virginica</td>\n",
       "    </tr>\n",
       "    <tr>\n",
       "      <th>146</th>\n",
       "      <td>6.3</td>\n",
       "      <td>2.5</td>\n",
       "      <td>5.0</td>\n",
       "      <td>1.9</td>\n",
       "      <td>Virginica</td>\n",
       "    </tr>\n",
       "    <tr>\n",
       "      <th>147</th>\n",
       "      <td>6.5</td>\n",
       "      <td>3.0</td>\n",
       "      <td>5.2</td>\n",
       "      <td>2.0</td>\n",
       "      <td>Virginica</td>\n",
       "    </tr>\n",
       "    <tr>\n",
       "      <th>148</th>\n",
       "      <td>6.2</td>\n",
       "      <td>3.4</td>\n",
       "      <td>5.4</td>\n",
       "      <td>2.3</td>\n",
       "      <td>Virginica</td>\n",
       "    </tr>\n",
       "    <tr>\n",
       "      <th>149</th>\n",
       "      <td>5.9</td>\n",
       "      <td>3.0</td>\n",
       "      <td>5.1</td>\n",
       "      <td>1.8</td>\n",
       "      <td>Virginica</td>\n",
       "    </tr>\n",
       "  </tbody>\n",
       "</table>\n",
       "<p>150 rows × 5 columns</p>\n",
       "</div>"
      ],
      "text/plain": [
       "     sepal.length  sepal.width  petal.length  petal.width    variety\n",
       "0             5.1          3.5           1.4          0.2     Setosa\n",
       "1             4.9          3.0           1.4          0.2     Setosa\n",
       "2             4.7          3.2           1.3          0.2     Setosa\n",
       "3             4.6          3.1           1.5          0.2     Setosa\n",
       "4             5.0          3.6           1.4          0.2     Setosa\n",
       "..            ...          ...           ...          ...        ...\n",
       "145           6.7          3.0           5.2          2.3  Virginica\n",
       "146           6.3          2.5           5.0          1.9  Virginica\n",
       "147           6.5          3.0           5.2          2.0  Virginica\n",
       "148           6.2          3.4           5.4          2.3  Virginica\n",
       "149           5.9          3.0           5.1          1.8  Virginica\n",
       "\n",
       "[150 rows x 5 columns]"
      ]
     },
     "execution_count": 47,
     "metadata": {},
     "output_type": "execute_result"
    }
   ],
   "source": [
    "df2 = pd.DataFrame(data_dict)\n"
   ]
  },
  {
   "cell_type": "markdown",
   "id": "3423f2b9",
   "metadata": {},
   "source": [
    "\n",
    "##### §4.3: Explore"
   ]
  },
  {
   "cell_type": "code",
   "execution_count": 51,
   "id": "7f03234f",
   "metadata": {},
   "outputs": [
    {
     "data": {
      "text/html": [
       "<div>\n",
       "<style scoped>\n",
       "    .dataframe tbody tr th:only-of-type {\n",
       "        vertical-align: middle;\n",
       "    }\n",
       "\n",
       "    .dataframe tbody tr th {\n",
       "        vertical-align: top;\n",
       "    }\n",
       "\n",
       "    .dataframe thead th {\n",
       "        text-align: right;\n",
       "    }\n",
       "</style>\n",
       "<table border=\"1\" class=\"dataframe\">\n",
       "  <thead>\n",
       "    <tr style=\"text-align: right;\">\n",
       "      <th></th>\n",
       "      <th>sepal.length</th>\n",
       "      <th>sepal.width</th>\n",
       "      <th>petal.length</th>\n",
       "      <th>petal.width</th>\n",
       "      <th>variety</th>\n",
       "    </tr>\n",
       "  </thead>\n",
       "  <tbody>\n",
       "    <tr>\n",
       "      <th>0</th>\n",
       "      <td>5.1</td>\n",
       "      <td>3.5</td>\n",
       "      <td>1.4</td>\n",
       "      <td>0.2</td>\n",
       "      <td>Setosa</td>\n",
       "    </tr>\n",
       "    <tr>\n",
       "      <th>1</th>\n",
       "      <td>4.9</td>\n",
       "      <td>3.0</td>\n",
       "      <td>1.4</td>\n",
       "      <td>0.2</td>\n",
       "      <td>Setosa</td>\n",
       "    </tr>\n",
       "    <tr>\n",
       "      <th>2</th>\n",
       "      <td>4.7</td>\n",
       "      <td>3.2</td>\n",
       "      <td>1.3</td>\n",
       "      <td>0.2</td>\n",
       "      <td>Setosa</td>\n",
       "    </tr>\n",
       "    <tr>\n",
       "      <th>3</th>\n",
       "      <td>4.6</td>\n",
       "      <td>3.1</td>\n",
       "      <td>1.5</td>\n",
       "      <td>0.2</td>\n",
       "      <td>Setosa</td>\n",
       "    </tr>\n",
       "    <tr>\n",
       "      <th>4</th>\n",
       "      <td>5.0</td>\n",
       "      <td>3.6</td>\n",
       "      <td>1.4</td>\n",
       "      <td>0.2</td>\n",
       "      <td>Setosa</td>\n",
       "    </tr>\n",
       "    <tr>\n",
       "      <th>5</th>\n",
       "      <td>5.4</td>\n",
       "      <td>3.9</td>\n",
       "      <td>1.7</td>\n",
       "      <td>0.4</td>\n",
       "      <td>Setosa</td>\n",
       "    </tr>\n",
       "    <tr>\n",
       "      <th>6</th>\n",
       "      <td>4.6</td>\n",
       "      <td>3.4</td>\n",
       "      <td>1.4</td>\n",
       "      <td>0.3</td>\n",
       "      <td>Setosa</td>\n",
       "    </tr>\n",
       "    <tr>\n",
       "      <th>7</th>\n",
       "      <td>5.0</td>\n",
       "      <td>3.4</td>\n",
       "      <td>1.5</td>\n",
       "      <td>0.2</td>\n",
       "      <td>Setosa</td>\n",
       "    </tr>\n",
       "    <tr>\n",
       "      <th>8</th>\n",
       "      <td>4.4</td>\n",
       "      <td>2.9</td>\n",
       "      <td>1.4</td>\n",
       "      <td>0.2</td>\n",
       "      <td>Setosa</td>\n",
       "    </tr>\n",
       "    <tr>\n",
       "      <th>9</th>\n",
       "      <td>4.9</td>\n",
       "      <td>3.1</td>\n",
       "      <td>1.5</td>\n",
       "      <td>0.1</td>\n",
       "      <td>Setosa</td>\n",
       "    </tr>\n",
       "  </tbody>\n",
       "</table>\n",
       "</div>"
      ],
      "text/plain": [
       "   sepal.length  sepal.width  petal.length  petal.width variety\n",
       "0           5.1          3.5           1.4          0.2  Setosa\n",
       "1           4.9          3.0           1.4          0.2  Setosa\n",
       "2           4.7          3.2           1.3          0.2  Setosa\n",
       "3           4.6          3.1           1.5          0.2  Setosa\n",
       "4           5.0          3.6           1.4          0.2  Setosa\n",
       "5           5.4          3.9           1.7          0.4  Setosa\n",
       "6           4.6          3.4           1.4          0.3  Setosa\n",
       "7           5.0          3.4           1.5          0.2  Setosa\n",
       "8           4.4          2.9           1.4          0.2  Setosa\n",
       "9           4.9          3.1           1.5          0.1  Setosa"
      ]
     },
     "execution_count": 51,
     "metadata": {},
     "output_type": "execute_result"
    }
   ],
   "source": [
    "# display the first 10 rows\n",
    "\n",
    "df.head(10)\n"
   ]
  },
  {
   "cell_type": "code",
   "execution_count": 52,
   "id": "fd3ab897",
   "metadata": {},
   "outputs": [
    {
     "data": {
      "text/html": [
       "<div>\n",
       "<style scoped>\n",
       "    .dataframe tbody tr th:only-of-type {\n",
       "        vertical-align: middle;\n",
       "    }\n",
       "\n",
       "    .dataframe tbody tr th {\n",
       "        vertical-align: top;\n",
       "    }\n",
       "\n",
       "    .dataframe thead th {\n",
       "        text-align: right;\n",
       "    }\n",
       "</style>\n",
       "<table border=\"1\" class=\"dataframe\">\n",
       "  <thead>\n",
       "    <tr style=\"text-align: right;\">\n",
       "      <th></th>\n",
       "      <th>sepal.length</th>\n",
       "      <th>sepal.width</th>\n",
       "      <th>petal.length</th>\n",
       "      <th>petal.width</th>\n",
       "      <th>variety</th>\n",
       "    </tr>\n",
       "  </thead>\n",
       "  <tbody>\n",
       "    <tr>\n",
       "      <th>140</th>\n",
       "      <td>6.7</td>\n",
       "      <td>3.1</td>\n",
       "      <td>5.6</td>\n",
       "      <td>2.4</td>\n",
       "      <td>Virginica</td>\n",
       "    </tr>\n",
       "    <tr>\n",
       "      <th>141</th>\n",
       "      <td>6.9</td>\n",
       "      <td>3.1</td>\n",
       "      <td>5.1</td>\n",
       "      <td>2.3</td>\n",
       "      <td>Virginica</td>\n",
       "    </tr>\n",
       "    <tr>\n",
       "      <th>142</th>\n",
       "      <td>5.8</td>\n",
       "      <td>2.7</td>\n",
       "      <td>5.1</td>\n",
       "      <td>1.9</td>\n",
       "      <td>Virginica</td>\n",
       "    </tr>\n",
       "    <tr>\n",
       "      <th>143</th>\n",
       "      <td>6.8</td>\n",
       "      <td>3.2</td>\n",
       "      <td>5.9</td>\n",
       "      <td>2.3</td>\n",
       "      <td>Virginica</td>\n",
       "    </tr>\n",
       "    <tr>\n",
       "      <th>144</th>\n",
       "      <td>6.7</td>\n",
       "      <td>3.3</td>\n",
       "      <td>5.7</td>\n",
       "      <td>2.5</td>\n",
       "      <td>Virginica</td>\n",
       "    </tr>\n",
       "    <tr>\n",
       "      <th>145</th>\n",
       "      <td>6.7</td>\n",
       "      <td>3.0</td>\n",
       "      <td>5.2</td>\n",
       "      <td>2.3</td>\n",
       "      <td>Virginica</td>\n",
       "    </tr>\n",
       "    <tr>\n",
       "      <th>146</th>\n",
       "      <td>6.3</td>\n",
       "      <td>2.5</td>\n",
       "      <td>5.0</td>\n",
       "      <td>1.9</td>\n",
       "      <td>Virginica</td>\n",
       "    </tr>\n",
       "    <tr>\n",
       "      <th>147</th>\n",
       "      <td>6.5</td>\n",
       "      <td>3.0</td>\n",
       "      <td>5.2</td>\n",
       "      <td>2.0</td>\n",
       "      <td>Virginica</td>\n",
       "    </tr>\n",
       "    <tr>\n",
       "      <th>148</th>\n",
       "      <td>6.2</td>\n",
       "      <td>3.4</td>\n",
       "      <td>5.4</td>\n",
       "      <td>2.3</td>\n",
       "      <td>Virginica</td>\n",
       "    </tr>\n",
       "    <tr>\n",
       "      <th>149</th>\n",
       "      <td>5.9</td>\n",
       "      <td>3.0</td>\n",
       "      <td>5.1</td>\n",
       "      <td>1.8</td>\n",
       "      <td>Virginica</td>\n",
       "    </tr>\n",
       "  </tbody>\n",
       "</table>\n",
       "</div>"
      ],
      "text/plain": [
       "     sepal.length  sepal.width  petal.length  petal.width    variety\n",
       "140           6.7          3.1           5.6          2.4  Virginica\n",
       "141           6.9          3.1           5.1          2.3  Virginica\n",
       "142           5.8          2.7           5.1          1.9  Virginica\n",
       "143           6.8          3.2           5.9          2.3  Virginica\n",
       "144           6.7          3.3           5.7          2.5  Virginica\n",
       "145           6.7          3.0           5.2          2.3  Virginica\n",
       "146           6.3          2.5           5.0          1.9  Virginica\n",
       "147           6.5          3.0           5.2          2.0  Virginica\n",
       "148           6.2          3.4           5.4          2.3  Virginica\n",
       "149           5.9          3.0           5.1          1.8  Virginica"
      ]
     },
     "execution_count": 52,
     "metadata": {},
     "output_type": "execute_result"
    }
   ],
   "source": [
    "# or display the last 10 rows\n",
    "\n",
    "df.tail(10)\n"
   ]
  },
  {
   "cell_type": "markdown",
   "id": "b459ba5a",
   "metadata": {},
   "source": [
    "##### §4.3.1: Data Types"
   ]
  },
  {
   "cell_type": "code",
   "execution_count": 53,
   "id": "41a0e028",
   "metadata": {},
   "outputs": [
    {
     "data": {
      "text/plain": [
       "sepal.length    float64\n",
       "sepal.width     float64\n",
       "petal.length    float64\n",
       "petal.width     float64\n",
       "variety          object\n",
       "dtype: object"
      ]
     },
     "execution_count": 53,
     "metadata": {},
     "output_type": "execute_result"
    }
   ],
   "source": [
    "df.dtypes\n"
   ]
  },
  {
   "cell_type": "code",
   "execution_count": 54,
   "id": "cb31a332",
   "metadata": {},
   "outputs": [
    {
     "data": {
      "text/plain": [
       "x              int64\n",
       "y             object\n",
       "z_uniform    float64\n",
       "z_normal     float64\n",
       "dtype: object"
      ]
     },
     "execution_count": 54,
     "metadata": {},
     "output_type": "execute_result"
    }
   ],
   "source": [
    "df2.dtypes\n"
   ]
  },
  {
   "cell_type": "markdown",
   "id": "702f310e",
   "metadata": {},
   "source": [
    "##### §4.3.2: Summary Statistics"
   ]
  },
  {
   "cell_type": "code",
   "execution_count": 55,
   "id": "a3ff32e0",
   "metadata": {},
   "outputs": [
    {
     "data": {
      "text/html": [
       "<div>\n",
       "<style scoped>\n",
       "    .dataframe tbody tr th:only-of-type {\n",
       "        vertical-align: middle;\n",
       "    }\n",
       "\n",
       "    .dataframe tbody tr th {\n",
       "        vertical-align: top;\n",
       "    }\n",
       "\n",
       "    .dataframe thead th {\n",
       "        text-align: right;\n",
       "    }\n",
       "</style>\n",
       "<table border=\"1\" class=\"dataframe\">\n",
       "  <thead>\n",
       "    <tr style=\"text-align: right;\">\n",
       "      <th></th>\n",
       "      <th>sepal.length</th>\n",
       "      <th>sepal.width</th>\n",
       "      <th>petal.length</th>\n",
       "      <th>petal.width</th>\n",
       "    </tr>\n",
       "  </thead>\n",
       "  <tbody>\n",
       "    <tr>\n",
       "      <th>count</th>\n",
       "      <td>150.000000</td>\n",
       "      <td>150.000000</td>\n",
       "      <td>150.000000</td>\n",
       "      <td>150.000000</td>\n",
       "    </tr>\n",
       "    <tr>\n",
       "      <th>mean</th>\n",
       "      <td>5.843333</td>\n",
       "      <td>3.057333</td>\n",
       "      <td>3.758000</td>\n",
       "      <td>1.199333</td>\n",
       "    </tr>\n",
       "    <tr>\n",
       "      <th>std</th>\n",
       "      <td>0.828066</td>\n",
       "      <td>0.435866</td>\n",
       "      <td>1.765298</td>\n",
       "      <td>0.762238</td>\n",
       "    </tr>\n",
       "    <tr>\n",
       "      <th>min</th>\n",
       "      <td>4.300000</td>\n",
       "      <td>2.000000</td>\n",
       "      <td>1.000000</td>\n",
       "      <td>0.100000</td>\n",
       "    </tr>\n",
       "    <tr>\n",
       "      <th>25%</th>\n",
       "      <td>5.100000</td>\n",
       "      <td>2.800000</td>\n",
       "      <td>1.600000</td>\n",
       "      <td>0.300000</td>\n",
       "    </tr>\n",
       "    <tr>\n",
       "      <th>50%</th>\n",
       "      <td>5.800000</td>\n",
       "      <td>3.000000</td>\n",
       "      <td>4.350000</td>\n",
       "      <td>1.300000</td>\n",
       "    </tr>\n",
       "    <tr>\n",
       "      <th>75%</th>\n",
       "      <td>6.400000</td>\n",
       "      <td>3.300000</td>\n",
       "      <td>5.100000</td>\n",
       "      <td>1.800000</td>\n",
       "    </tr>\n",
       "    <tr>\n",
       "      <th>max</th>\n",
       "      <td>7.900000</td>\n",
       "      <td>4.400000</td>\n",
       "      <td>6.900000</td>\n",
       "      <td>2.500000</td>\n",
       "    </tr>\n",
       "  </tbody>\n",
       "</table>\n",
       "</div>"
      ],
      "text/plain": [
       "       sepal.length  sepal.width  petal.length  petal.width\n",
       "count    150.000000   150.000000    150.000000   150.000000\n",
       "mean       5.843333     3.057333      3.758000     1.199333\n",
       "std        0.828066     0.435866      1.765298     0.762238\n",
       "min        4.300000     2.000000      1.000000     0.100000\n",
       "25%        5.100000     2.800000      1.600000     0.300000\n",
       "50%        5.800000     3.000000      4.350000     1.300000\n",
       "75%        6.400000     3.300000      5.100000     1.800000\n",
       "max        7.900000     4.400000      6.900000     2.500000"
      ]
     },
     "execution_count": 55,
     "metadata": {},
     "output_type": "execute_result"
    }
   ],
   "source": [
    "df.describe()\n"
   ]
  },
  {
   "cell_type": "code",
   "execution_count": 56,
   "id": "0b138976",
   "metadata": {},
   "outputs": [
    {
     "data": {
      "text/html": [
       "<div>\n",
       "<style scoped>\n",
       "    .dataframe tbody tr th:only-of-type {\n",
       "        vertical-align: middle;\n",
       "    }\n",
       "\n",
       "    .dataframe tbody tr th {\n",
       "        vertical-align: top;\n",
       "    }\n",
       "\n",
       "    .dataframe thead th {\n",
       "        text-align: right;\n",
       "    }\n",
       "</style>\n",
       "<table border=\"1\" class=\"dataframe\">\n",
       "  <thead>\n",
       "    <tr style=\"text-align: right;\">\n",
       "      <th></th>\n",
       "      <th>x</th>\n",
       "      <th>z_uniform</th>\n",
       "      <th>z_normal</th>\n",
       "    </tr>\n",
       "  </thead>\n",
       "  <tbody>\n",
       "    <tr>\n",
       "      <th>count</th>\n",
       "      <td>10.000000</td>\n",
       "      <td>10.000000</td>\n",
       "      <td>10.000000</td>\n",
       "    </tr>\n",
       "    <tr>\n",
       "      <th>mean</th>\n",
       "      <td>3.700000</td>\n",
       "      <td>0.437664</td>\n",
       "      <td>0.204575</td>\n",
       "    </tr>\n",
       "    <tr>\n",
       "      <th>std</th>\n",
       "      <td>3.560587</td>\n",
       "      <td>0.253699</td>\n",
       "      <td>0.783756</td>\n",
       "    </tr>\n",
       "    <tr>\n",
       "      <th>min</th>\n",
       "      <td>0.000000</td>\n",
       "      <td>0.111072</td>\n",
       "      <td>-1.074662</td>\n",
       "    </tr>\n",
       "    <tr>\n",
       "      <th>25%</th>\n",
       "      <td>0.250000</td>\n",
       "      <td>0.255321</td>\n",
       "      <td>-0.267081</td>\n",
       "    </tr>\n",
       "    <tr>\n",
       "      <th>50%</th>\n",
       "      <td>3.000000</td>\n",
       "      <td>0.376561</td>\n",
       "      <td>0.305619</td>\n",
       "    </tr>\n",
       "    <tr>\n",
       "      <th>75%</th>\n",
       "      <td>6.750000</td>\n",
       "      <td>0.558157</td>\n",
       "      <td>0.683868</td>\n",
       "    </tr>\n",
       "    <tr>\n",
       "      <th>max</th>\n",
       "      <td>9.000000</td>\n",
       "      <td>0.954770</td>\n",
       "      <td>1.564729</td>\n",
       "    </tr>\n",
       "  </tbody>\n",
       "</table>\n",
       "</div>"
      ],
      "text/plain": [
       "               x  z_uniform   z_normal\n",
       "count  10.000000  10.000000  10.000000\n",
       "mean    3.700000   0.437664   0.204575\n",
       "std     3.560587   0.253699   0.783756\n",
       "min     0.000000   0.111072  -1.074662\n",
       "25%     0.250000   0.255321  -0.267081\n",
       "50%     3.000000   0.376561   0.305619\n",
       "75%     6.750000   0.558157   0.683868\n",
       "max     9.000000   0.954770   1.564729"
      ]
     },
     "execution_count": 56,
     "metadata": {},
     "output_type": "execute_result"
    }
   ],
   "source": [
    "df2.describe()\n"
   ]
  },
  {
   "cell_type": "markdown",
   "id": "47e0be57",
   "metadata": {},
   "source": [
    "##### §4.3.3: Subsetting Columns"
   ]
  },
  {
   "cell_type": "code",
   "execution_count": 53,
   "id": "4f40da00",
   "metadata": {
    "tags": []
   },
   "outputs": [
    {
     "data": {
      "text/plain": [
       "Index(['sepal.length', 'sepal.width', 'petal.length', 'petal.width',\n",
       "       'variety'],\n",
       "      dtype='object')"
      ]
     },
     "execution_count": 53,
     "metadata": {},
     "output_type": "execute_result"
    }
   ],
   "source": [
    "df.columns"
   ]
  },
  {
   "cell_type": "code",
   "execution_count": 58,
   "id": "fd937591",
   "metadata": {},
   "outputs": [
    {
     "data": {
      "text/plain": [
       "0         Setosa\n",
       "1         Setosa\n",
       "2         Setosa\n",
       "3         Setosa\n",
       "4         Setosa\n",
       "         ...    \n",
       "145    Virginica\n",
       "146    Virginica\n",
       "147    Virginica\n",
       "148    Virginica\n",
       "149    Virginica\n",
       "Name: variety, Length: 150, dtype: object"
      ]
     },
     "execution_count": 58,
     "metadata": {},
     "output_type": "execute_result"
    }
   ],
   "source": [
    "# This works\n",
    "df.variety\n"
   ]
  },
  {
   "cell_type": "code",
   "execution_count": 59,
   "id": "a98213ca",
   "metadata": {},
   "outputs": [
    {
     "ename": "AttributeError",
     "evalue": "'DataFrame' object has no attribute 'sepal'",
     "output_type": "error",
     "traceback": [
      "\u001b[0;31m---------------------------------------------------------------------------\u001b[0m",
      "\u001b[0;31mAttributeError\u001b[0m                            Traceback (most recent call last)",
      "\u001b[0;32m/var/folders/hj/8xqq0_jd37l1yy3gsych74_r0000gq/T/ipykernel_80879/2536368039.py\u001b[0m in \u001b[0;36m?\u001b[0;34m()\u001b[0m\n\u001b[1;32m      1\u001b[0m \u001b[0;31m# This doesn't work\u001b[0m\u001b[0;34m\u001b[0m\u001b[0;34m\u001b[0m\u001b[0m\n\u001b[0;32m----> 2\u001b[0;31m \u001b[0mdf\u001b[0m\u001b[0;34m.\u001b[0m\u001b[0msepal\u001b[0m\u001b[0;34m.\u001b[0m\u001b[0mlength\u001b[0m\u001b[0;34m\u001b[0m\u001b[0;34m\u001b[0m\u001b[0m\n\u001b[0m",
      "\u001b[0;32m~/mambaforge/lib/python3.10/site-packages/pandas/core/generic.py\u001b[0m in \u001b[0;36m?\u001b[0;34m(self, name)\u001b[0m\n\u001b[1;32m   6200\u001b[0m             \u001b[0;32mand\u001b[0m \u001b[0mname\u001b[0m \u001b[0;32mnot\u001b[0m \u001b[0;32min\u001b[0m \u001b[0mself\u001b[0m\u001b[0;34m.\u001b[0m\u001b[0m_accessors\u001b[0m\u001b[0;34m\u001b[0m\u001b[0;34m\u001b[0m\u001b[0m\n\u001b[1;32m   6201\u001b[0m             \u001b[0;32mand\u001b[0m \u001b[0mself\u001b[0m\u001b[0;34m.\u001b[0m\u001b[0m_info_axis\u001b[0m\u001b[0;34m.\u001b[0m\u001b[0m_can_hold_identifiers_and_holds_name\u001b[0m\u001b[0;34m(\u001b[0m\u001b[0mname\u001b[0m\u001b[0;34m)\u001b[0m\u001b[0;34m\u001b[0m\u001b[0;34m\u001b[0m\u001b[0m\n\u001b[1;32m   6202\u001b[0m         ):\n\u001b[1;32m   6203\u001b[0m             \u001b[0;32mreturn\u001b[0m \u001b[0mself\u001b[0m\u001b[0;34m[\u001b[0m\u001b[0mname\u001b[0m\u001b[0;34m]\u001b[0m\u001b[0;34m\u001b[0m\u001b[0;34m\u001b[0m\u001b[0m\n\u001b[0;32m-> 6204\u001b[0;31m         \u001b[0;32mreturn\u001b[0m \u001b[0mobject\u001b[0m\u001b[0;34m.\u001b[0m\u001b[0m__getattribute__\u001b[0m\u001b[0;34m(\u001b[0m\u001b[0mself\u001b[0m\u001b[0;34m,\u001b[0m \u001b[0mname\u001b[0m\u001b[0;34m)\u001b[0m\u001b[0;34m\u001b[0m\u001b[0;34m\u001b[0m\u001b[0m\n\u001b[0m",
      "\u001b[0;31mAttributeError\u001b[0m: 'DataFrame' object has no attribute 'sepal'"
     ]
    }
   ],
   "source": [
    "# This doesn't work\n",
    "df.sepal.length\n"
   ]
  },
  {
   "cell_type": "code",
   "execution_count": 60,
   "id": "dde70bb4",
   "metadata": {},
   "outputs": [
    {
     "data": {
      "text/plain": [
       "0      5.1\n",
       "1      4.9\n",
       "2      4.7\n",
       "3      4.6\n",
       "4      5.0\n",
       "      ... \n",
       "145    6.7\n",
       "146    6.3\n",
       "147    6.5\n",
       "148    6.2\n",
       "149    5.9\n",
       "Name: sepal.length, Length: 150, dtype: float64"
      ]
     },
     "execution_count": 60,
     "metadata": {},
     "output_type": "execute_result"
    }
   ],
   "source": [
    "df['sepal.length']\n"
   ]
  },
  {
   "cell_type": "code",
   "execution_count": 61,
   "id": "db9221f2",
   "metadata": {},
   "outputs": [
    {
     "data": {
      "text/html": [
       "<div>\n",
       "<style scoped>\n",
       "    .dataframe tbody tr th:only-of-type {\n",
       "        vertical-align: middle;\n",
       "    }\n",
       "\n",
       "    .dataframe tbody tr th {\n",
       "        vertical-align: top;\n",
       "    }\n",
       "\n",
       "    .dataframe thead th {\n",
       "        text-align: right;\n",
       "    }\n",
       "</style>\n",
       "<table border=\"1\" class=\"dataframe\">\n",
       "  <thead>\n",
       "    <tr style=\"text-align: right;\">\n",
       "      <th></th>\n",
       "      <th>sepal.length</th>\n",
       "      <th>variety</th>\n",
       "    </tr>\n",
       "  </thead>\n",
       "  <tbody>\n",
       "    <tr>\n",
       "      <th>0</th>\n",
       "      <td>5.1</td>\n",
       "      <td>Setosa</td>\n",
       "    </tr>\n",
       "    <tr>\n",
       "      <th>1</th>\n",
       "      <td>4.9</td>\n",
       "      <td>Setosa</td>\n",
       "    </tr>\n",
       "    <tr>\n",
       "      <th>2</th>\n",
       "      <td>4.7</td>\n",
       "      <td>Setosa</td>\n",
       "    </tr>\n",
       "    <tr>\n",
       "      <th>3</th>\n",
       "      <td>4.6</td>\n",
       "      <td>Setosa</td>\n",
       "    </tr>\n",
       "    <tr>\n",
       "      <th>4</th>\n",
       "      <td>5.0</td>\n",
       "      <td>Setosa</td>\n",
       "    </tr>\n",
       "    <tr>\n",
       "      <th>...</th>\n",
       "      <td>...</td>\n",
       "      <td>...</td>\n",
       "    </tr>\n",
       "    <tr>\n",
       "      <th>145</th>\n",
       "      <td>6.7</td>\n",
       "      <td>Virginica</td>\n",
       "    </tr>\n",
       "    <tr>\n",
       "      <th>146</th>\n",
       "      <td>6.3</td>\n",
       "      <td>Virginica</td>\n",
       "    </tr>\n",
       "    <tr>\n",
       "      <th>147</th>\n",
       "      <td>6.5</td>\n",
       "      <td>Virginica</td>\n",
       "    </tr>\n",
       "    <tr>\n",
       "      <th>148</th>\n",
       "      <td>6.2</td>\n",
       "      <td>Virginica</td>\n",
       "    </tr>\n",
       "    <tr>\n",
       "      <th>149</th>\n",
       "      <td>5.9</td>\n",
       "      <td>Virginica</td>\n",
       "    </tr>\n",
       "  </tbody>\n",
       "</table>\n",
       "<p>150 rows × 2 columns</p>\n",
       "</div>"
      ],
      "text/plain": [
       "     sepal.length    variety\n",
       "0             5.1     Setosa\n",
       "1             4.9     Setosa\n",
       "2             4.7     Setosa\n",
       "3             4.6     Setosa\n",
       "4             5.0     Setosa\n",
       "..            ...        ...\n",
       "145           6.7  Virginica\n",
       "146           6.3  Virginica\n",
       "147           6.5  Virginica\n",
       "148           6.2  Virginica\n",
       "149           5.9  Virginica\n",
       "\n",
       "[150 rows x 2 columns]"
      ]
     },
     "execution_count": 61,
     "metadata": {},
     "output_type": "execute_result"
    }
   ],
   "source": [
    "df[['sepal.length', 'variety']]\n"
   ]
  },
  {
   "cell_type": "code",
   "execution_count": 54,
   "id": "11dc89bd-f7ab-496a-9f20-a156c67856b5",
   "metadata": {
    "tags": []
   },
   "outputs": [
    {
     "data": {
      "text/html": [
       "<div>\n",
       "<style scoped>\n",
       "    .dataframe tbody tr th:only-of-type {\n",
       "        vertical-align: middle;\n",
       "    }\n",
       "\n",
       "    .dataframe tbody tr th {\n",
       "        vertical-align: top;\n",
       "    }\n",
       "\n",
       "    .dataframe thead th {\n",
       "        text-align: right;\n",
       "    }\n",
       "</style>\n",
       "<table border=\"1\" class=\"dataframe\">\n",
       "  <thead>\n",
       "    <tr style=\"text-align: right;\">\n",
       "      <th></th>\n",
       "      <th>sepal.length</th>\n",
       "    </tr>\n",
       "  </thead>\n",
       "  <tbody>\n",
       "    <tr>\n",
       "      <th>0</th>\n",
       "      <td>5.1</td>\n",
       "    </tr>\n",
       "    <tr>\n",
       "      <th>1</th>\n",
       "      <td>4.9</td>\n",
       "    </tr>\n",
       "    <tr>\n",
       "      <th>2</th>\n",
       "      <td>4.7</td>\n",
       "    </tr>\n",
       "    <tr>\n",
       "      <th>3</th>\n",
       "      <td>4.6</td>\n",
       "    </tr>\n",
       "    <tr>\n",
       "      <th>4</th>\n",
       "      <td>5.0</td>\n",
       "    </tr>\n",
       "    <tr>\n",
       "      <th>...</th>\n",
       "      <td>...</td>\n",
       "    </tr>\n",
       "    <tr>\n",
       "      <th>145</th>\n",
       "      <td>6.7</td>\n",
       "    </tr>\n",
       "    <tr>\n",
       "      <th>146</th>\n",
       "      <td>6.3</td>\n",
       "    </tr>\n",
       "    <tr>\n",
       "      <th>147</th>\n",
       "      <td>6.5</td>\n",
       "    </tr>\n",
       "    <tr>\n",
       "      <th>148</th>\n",
       "      <td>6.2</td>\n",
       "    </tr>\n",
       "    <tr>\n",
       "      <th>149</th>\n",
       "      <td>5.9</td>\n",
       "    </tr>\n",
       "  </tbody>\n",
       "</table>\n",
       "<p>150 rows × 1 columns</p>\n",
       "</div>"
      ],
      "text/plain": [
       "     sepal.length\n",
       "0             5.1\n",
       "1             4.9\n",
       "2             4.7\n",
       "3             4.6\n",
       "4             5.0\n",
       "..            ...\n",
       "145           6.7\n",
       "146           6.3\n",
       "147           6.5\n",
       "148           6.2\n",
       "149           5.9\n",
       "\n",
       "[150 rows x 1 columns]"
      ]
     },
     "execution_count": 54,
     "metadata": {},
     "output_type": "execute_result"
    }
   ],
   "source": [
    "df[['sepal.length']]"
   ]
  },
  {
   "cell_type": "markdown",
   "id": "fa6b37fb",
   "metadata": {},
   "source": [
    "You can also use `df.loc` and `df.iloc`. \n",
    "\n",
    "    * `df.loc` uses labels to subset columns/rows, whereas \n",
    "    * `df.iloc` uses indices to subset columns/rows."
   ]
  },
  {
   "cell_type": "code",
   "execution_count": 62,
   "id": "f71b3e8f",
   "metadata": {},
   "outputs": [
    {
     "data": {
      "text/html": [
       "<div>\n",
       "<style scoped>\n",
       "    .dataframe tbody tr th:only-of-type {\n",
       "        vertical-align: middle;\n",
       "    }\n",
       "\n",
       "    .dataframe tbody tr th {\n",
       "        vertical-align: top;\n",
       "    }\n",
       "\n",
       "    .dataframe thead th {\n",
       "        text-align: right;\n",
       "    }\n",
       "</style>\n",
       "<table border=\"1\" class=\"dataframe\">\n",
       "  <thead>\n",
       "    <tr style=\"text-align: right;\">\n",
       "      <th></th>\n",
       "      <th>sepal.length</th>\n",
       "      <th>variety</th>\n",
       "    </tr>\n",
       "  </thead>\n",
       "  <tbody>\n",
       "    <tr>\n",
       "      <th>0</th>\n",
       "      <td>5.1</td>\n",
       "      <td>Setosa</td>\n",
       "    </tr>\n",
       "    <tr>\n",
       "      <th>1</th>\n",
       "      <td>4.9</td>\n",
       "      <td>Setosa</td>\n",
       "    </tr>\n",
       "    <tr>\n",
       "      <th>2</th>\n",
       "      <td>4.7</td>\n",
       "      <td>Setosa</td>\n",
       "    </tr>\n",
       "    <tr>\n",
       "      <th>3</th>\n",
       "      <td>4.6</td>\n",
       "      <td>Setosa</td>\n",
       "    </tr>\n",
       "    <tr>\n",
       "      <th>4</th>\n",
       "      <td>5.0</td>\n",
       "      <td>Setosa</td>\n",
       "    </tr>\n",
       "    <tr>\n",
       "      <th>...</th>\n",
       "      <td>...</td>\n",
       "      <td>...</td>\n",
       "    </tr>\n",
       "    <tr>\n",
       "      <th>145</th>\n",
       "      <td>6.7</td>\n",
       "      <td>Virginica</td>\n",
       "    </tr>\n",
       "    <tr>\n",
       "      <th>146</th>\n",
       "      <td>6.3</td>\n",
       "      <td>Virginica</td>\n",
       "    </tr>\n",
       "    <tr>\n",
       "      <th>147</th>\n",
       "      <td>6.5</td>\n",
       "      <td>Virginica</td>\n",
       "    </tr>\n",
       "    <tr>\n",
       "      <th>148</th>\n",
       "      <td>6.2</td>\n",
       "      <td>Virginica</td>\n",
       "    </tr>\n",
       "    <tr>\n",
       "      <th>149</th>\n",
       "      <td>5.9</td>\n",
       "      <td>Virginica</td>\n",
       "    </tr>\n",
       "  </tbody>\n",
       "</table>\n",
       "<p>150 rows × 2 columns</p>\n",
       "</div>"
      ],
      "text/plain": [
       "     sepal.length    variety\n",
       "0             5.1     Setosa\n",
       "1             4.9     Setosa\n",
       "2             4.7     Setosa\n",
       "3             4.6     Setosa\n",
       "4             5.0     Setosa\n",
       "..            ...        ...\n",
       "145           6.7  Virginica\n",
       "146           6.3  Virginica\n",
       "147           6.5  Virginica\n",
       "148           6.2  Virginica\n",
       "149           5.9  Virginica\n",
       "\n",
       "[150 rows x 2 columns]"
      ]
     },
     "execution_count": 62,
     "metadata": {},
     "output_type": "execute_result"
    }
   ],
   "source": [
    "df.loc[:, ['sepal.length', 'variety']]\n"
   ]
  },
  {
   "cell_type": "code",
   "execution_count": 63,
   "id": "443976eb",
   "metadata": {},
   "outputs": [
    {
     "data": {
      "text/html": [
       "<div>\n",
       "<style scoped>\n",
       "    .dataframe tbody tr th:only-of-type {\n",
       "        vertical-align: middle;\n",
       "    }\n",
       "\n",
       "    .dataframe tbody tr th {\n",
       "        vertical-align: top;\n",
       "    }\n",
       "\n",
       "    .dataframe thead th {\n",
       "        text-align: right;\n",
       "    }\n",
       "</style>\n",
       "<table border=\"1\" class=\"dataframe\">\n",
       "  <thead>\n",
       "    <tr style=\"text-align: right;\">\n",
       "      <th></th>\n",
       "      <th>sepal.length</th>\n",
       "      <th>variety</th>\n",
       "    </tr>\n",
       "  </thead>\n",
       "  <tbody>\n",
       "    <tr>\n",
       "      <th>0</th>\n",
       "      <td>5.1</td>\n",
       "      <td>Setosa</td>\n",
       "    </tr>\n",
       "    <tr>\n",
       "      <th>1</th>\n",
       "      <td>4.9</td>\n",
       "      <td>Setosa</td>\n",
       "    </tr>\n",
       "    <tr>\n",
       "      <th>2</th>\n",
       "      <td>4.7</td>\n",
       "      <td>Setosa</td>\n",
       "    </tr>\n",
       "    <tr>\n",
       "      <th>3</th>\n",
       "      <td>4.6</td>\n",
       "      <td>Setosa</td>\n",
       "    </tr>\n",
       "    <tr>\n",
       "      <th>4</th>\n",
       "      <td>5.0</td>\n",
       "      <td>Setosa</td>\n",
       "    </tr>\n",
       "    <tr>\n",
       "      <th>...</th>\n",
       "      <td>...</td>\n",
       "      <td>...</td>\n",
       "    </tr>\n",
       "    <tr>\n",
       "      <th>145</th>\n",
       "      <td>6.7</td>\n",
       "      <td>Virginica</td>\n",
       "    </tr>\n",
       "    <tr>\n",
       "      <th>146</th>\n",
       "      <td>6.3</td>\n",
       "      <td>Virginica</td>\n",
       "    </tr>\n",
       "    <tr>\n",
       "      <th>147</th>\n",
       "      <td>6.5</td>\n",
       "      <td>Virginica</td>\n",
       "    </tr>\n",
       "    <tr>\n",
       "      <th>148</th>\n",
       "      <td>6.2</td>\n",
       "      <td>Virginica</td>\n",
       "    </tr>\n",
       "    <tr>\n",
       "      <th>149</th>\n",
       "      <td>5.9</td>\n",
       "      <td>Virginica</td>\n",
       "    </tr>\n",
       "  </tbody>\n",
       "</table>\n",
       "<p>150 rows × 2 columns</p>\n",
       "</div>"
      ],
      "text/plain": [
       "     sepal.length    variety\n",
       "0             5.1     Setosa\n",
       "1             4.9     Setosa\n",
       "2             4.7     Setosa\n",
       "3             4.6     Setosa\n",
       "4             5.0     Setosa\n",
       "..            ...        ...\n",
       "145           6.7  Virginica\n",
       "146           6.3  Virginica\n",
       "147           6.5  Virginica\n",
       "148           6.2  Virginica\n",
       "149           5.9  Virginica\n",
       "\n",
       "[150 rows x 2 columns]"
      ]
     },
     "execution_count": 63,
     "metadata": {},
     "output_type": "execute_result"
    }
   ],
   "source": [
    "df.iloc[:, [0, 4]]\n"
   ]
  },
  {
   "cell_type": "markdown",
   "id": "4154a218",
   "metadata": {},
   "source": [
    "##### §4.3.4: Subsetting Rows"
   ]
  },
  {
   "cell_type": "markdown",
   "id": "583578f6",
   "metadata": {},
   "source": [
    "Find all rows corresponding to the type 'Versicolor'."
   ]
  },
  {
   "cell_type": "code",
   "execution_count": 59,
   "id": "818ac8d5",
   "metadata": {
    "tags": []
   },
   "outputs": [
    {
     "data": {
      "text/html": [
       "<div>\n",
       "<style scoped>\n",
       "    .dataframe tbody tr th:only-of-type {\n",
       "        vertical-align: middle;\n",
       "    }\n",
       "\n",
       "    .dataframe tbody tr th {\n",
       "        vertical-align: top;\n",
       "    }\n",
       "\n",
       "    .dataframe thead th {\n",
       "        text-align: right;\n",
       "    }\n",
       "</style>\n",
       "<table border=\"1\" class=\"dataframe\">\n",
       "  <thead>\n",
       "    <tr style=\"text-align: right;\">\n",
       "      <th></th>\n",
       "      <th>sepal.length</th>\n",
       "      <th>sepal.width</th>\n",
       "      <th>petal.length</th>\n",
       "      <th>petal.width</th>\n",
       "      <th>variety</th>\n",
       "    </tr>\n",
       "  </thead>\n",
       "  <tbody>\n",
       "    <tr>\n",
       "      <th>50</th>\n",
       "      <td>7.0</td>\n",
       "      <td>3.2</td>\n",
       "      <td>4.7</td>\n",
       "      <td>1.4</td>\n",
       "      <td>Versicolor</td>\n",
       "    </tr>\n",
       "    <tr>\n",
       "      <th>51</th>\n",
       "      <td>6.4</td>\n",
       "      <td>3.2</td>\n",
       "      <td>4.5</td>\n",
       "      <td>1.5</td>\n",
       "      <td>Versicolor</td>\n",
       "    </tr>\n",
       "    <tr>\n",
       "      <th>52</th>\n",
       "      <td>6.9</td>\n",
       "      <td>3.1</td>\n",
       "      <td>4.9</td>\n",
       "      <td>1.5</td>\n",
       "      <td>Versicolor</td>\n",
       "    </tr>\n",
       "    <tr>\n",
       "      <th>53</th>\n",
       "      <td>5.5</td>\n",
       "      <td>2.3</td>\n",
       "      <td>4.0</td>\n",
       "      <td>1.3</td>\n",
       "      <td>Versicolor</td>\n",
       "    </tr>\n",
       "    <tr>\n",
       "      <th>54</th>\n",
       "      <td>6.5</td>\n",
       "      <td>2.8</td>\n",
       "      <td>4.6</td>\n",
       "      <td>1.5</td>\n",
       "      <td>Versicolor</td>\n",
       "    </tr>\n",
       "    <tr>\n",
       "      <th>55</th>\n",
       "      <td>5.7</td>\n",
       "      <td>2.8</td>\n",
       "      <td>4.5</td>\n",
       "      <td>1.3</td>\n",
       "      <td>Versicolor</td>\n",
       "    </tr>\n",
       "    <tr>\n",
       "      <th>56</th>\n",
       "      <td>6.3</td>\n",
       "      <td>3.3</td>\n",
       "      <td>4.7</td>\n",
       "      <td>1.6</td>\n",
       "      <td>Versicolor</td>\n",
       "    </tr>\n",
       "    <tr>\n",
       "      <th>57</th>\n",
       "      <td>4.9</td>\n",
       "      <td>2.4</td>\n",
       "      <td>3.3</td>\n",
       "      <td>1.0</td>\n",
       "      <td>Versicolor</td>\n",
       "    </tr>\n",
       "    <tr>\n",
       "      <th>58</th>\n",
       "      <td>6.6</td>\n",
       "      <td>2.9</td>\n",
       "      <td>4.6</td>\n",
       "      <td>1.3</td>\n",
       "      <td>Versicolor</td>\n",
       "    </tr>\n",
       "    <tr>\n",
       "      <th>59</th>\n",
       "      <td>5.2</td>\n",
       "      <td>2.7</td>\n",
       "      <td>3.9</td>\n",
       "      <td>1.4</td>\n",
       "      <td>Versicolor</td>\n",
       "    </tr>\n",
       "  </tbody>\n",
       "</table>\n",
       "</div>"
      ],
      "text/plain": [
       "    sepal.length  sepal.width  petal.length  petal.width     variety\n",
       "50           7.0          3.2           4.7          1.4  Versicolor\n",
       "51           6.4          3.2           4.5          1.5  Versicolor\n",
       "52           6.9          3.1           4.9          1.5  Versicolor\n",
       "53           5.5          2.3           4.0          1.3  Versicolor\n",
       "54           6.5          2.8           4.6          1.5  Versicolor\n",
       "55           5.7          2.8           4.5          1.3  Versicolor\n",
       "56           6.3          3.3           4.7          1.6  Versicolor\n",
       "57           4.9          2.4           3.3          1.0  Versicolor\n",
       "58           6.6          2.9           4.6          1.3  Versicolor\n",
       "59           5.2          2.7           3.9          1.4  Versicolor"
      ]
     },
     "execution_count": 59,
     "metadata": {},
     "output_type": "execute_result"
    }
   ],
   "source": [
    "df[df['variety'] == 'Versicolor'].head(10)\n"
   ]
  },
  {
   "cell_type": "markdown",
   "id": "bf04c7f0",
   "metadata": {},
   "source": [
    "Find all rows where sepal.length > 5"
   ]
  },
  {
   "cell_type": "code",
   "execution_count": 65,
   "id": "e2bc5902",
   "metadata": {},
   "outputs": [
    {
     "data": {
      "text/html": [
       "<div>\n",
       "<style scoped>\n",
       "    .dataframe tbody tr th:only-of-type {\n",
       "        vertical-align: middle;\n",
       "    }\n",
       "\n",
       "    .dataframe tbody tr th {\n",
       "        vertical-align: top;\n",
       "    }\n",
       "\n",
       "    .dataframe thead th {\n",
       "        text-align: right;\n",
       "    }\n",
       "</style>\n",
       "<table border=\"1\" class=\"dataframe\">\n",
       "  <thead>\n",
       "    <tr style=\"text-align: right;\">\n",
       "      <th></th>\n",
       "      <th>sepal.length</th>\n",
       "      <th>sepal.width</th>\n",
       "      <th>petal.length</th>\n",
       "      <th>petal.width</th>\n",
       "      <th>variety</th>\n",
       "    </tr>\n",
       "  </thead>\n",
       "  <tbody>\n",
       "    <tr>\n",
       "      <th>0</th>\n",
       "      <td>5.1</td>\n",
       "      <td>3.5</td>\n",
       "      <td>1.4</td>\n",
       "      <td>0.2</td>\n",
       "      <td>Setosa</td>\n",
       "    </tr>\n",
       "    <tr>\n",
       "      <th>5</th>\n",
       "      <td>5.4</td>\n",
       "      <td>3.9</td>\n",
       "      <td>1.7</td>\n",
       "      <td>0.4</td>\n",
       "      <td>Setosa</td>\n",
       "    </tr>\n",
       "    <tr>\n",
       "      <th>10</th>\n",
       "      <td>5.4</td>\n",
       "      <td>3.7</td>\n",
       "      <td>1.5</td>\n",
       "      <td>0.2</td>\n",
       "      <td>Setosa</td>\n",
       "    </tr>\n",
       "    <tr>\n",
       "      <th>14</th>\n",
       "      <td>5.8</td>\n",
       "      <td>4.0</td>\n",
       "      <td>1.2</td>\n",
       "      <td>0.2</td>\n",
       "      <td>Setosa</td>\n",
       "    </tr>\n",
       "    <tr>\n",
       "      <th>15</th>\n",
       "      <td>5.7</td>\n",
       "      <td>4.4</td>\n",
       "      <td>1.5</td>\n",
       "      <td>0.4</td>\n",
       "      <td>Setosa</td>\n",
       "    </tr>\n",
       "    <tr>\n",
       "      <th>16</th>\n",
       "      <td>5.4</td>\n",
       "      <td>3.9</td>\n",
       "      <td>1.3</td>\n",
       "      <td>0.4</td>\n",
       "      <td>Setosa</td>\n",
       "    </tr>\n",
       "    <tr>\n",
       "      <th>17</th>\n",
       "      <td>5.1</td>\n",
       "      <td>3.5</td>\n",
       "      <td>1.4</td>\n",
       "      <td>0.3</td>\n",
       "      <td>Setosa</td>\n",
       "    </tr>\n",
       "    <tr>\n",
       "      <th>18</th>\n",
       "      <td>5.7</td>\n",
       "      <td>3.8</td>\n",
       "      <td>1.7</td>\n",
       "      <td>0.3</td>\n",
       "      <td>Setosa</td>\n",
       "    </tr>\n",
       "    <tr>\n",
       "      <th>19</th>\n",
       "      <td>5.1</td>\n",
       "      <td>3.8</td>\n",
       "      <td>1.5</td>\n",
       "      <td>0.3</td>\n",
       "      <td>Setosa</td>\n",
       "    </tr>\n",
       "    <tr>\n",
       "      <th>20</th>\n",
       "      <td>5.4</td>\n",
       "      <td>3.4</td>\n",
       "      <td>1.7</td>\n",
       "      <td>0.2</td>\n",
       "      <td>Setosa</td>\n",
       "    </tr>\n",
       "  </tbody>\n",
       "</table>\n",
       "</div>"
      ],
      "text/plain": [
       "    sepal.length  sepal.width  petal.length  petal.width variety\n",
       "0            5.1          3.5           1.4          0.2  Setosa\n",
       "5            5.4          3.9           1.7          0.4  Setosa\n",
       "10           5.4          3.7           1.5          0.2  Setosa\n",
       "14           5.8          4.0           1.2          0.2  Setosa\n",
       "15           5.7          4.4           1.5          0.4  Setosa\n",
       "16           5.4          3.9           1.3          0.4  Setosa\n",
       "17           5.1          3.5           1.4          0.3  Setosa\n",
       "18           5.7          3.8           1.7          0.3  Setosa\n",
       "19           5.1          3.8           1.5          0.3  Setosa\n",
       "20           5.4          3.4           1.7          0.2  Setosa"
      ]
     },
     "execution_count": 65,
     "metadata": {},
     "output_type": "execute_result"
    }
   ],
   "source": [
    "df[df.iloc[:, 0] > 5]\\\n",
    "    .head(10)\n"
   ]
  },
  {
   "cell_type": "markdown",
   "id": "55d44d2a",
   "metadata": {},
   "source": [
    "##### §4.4: Modify Data"
   ]
  },
  {
   "cell_type": "markdown",
   "id": "925140ec",
   "metadata": {},
   "source": [
    "Add a new column called 'sepal.area' to the dataframe."
   ]
  },
  {
   "cell_type": "code",
   "execution_count": 66,
   "id": "97783f2f",
   "metadata": {},
   "outputs": [
    {
     "data": {
      "text/html": [
       "<div>\n",
       "<style scoped>\n",
       "    .dataframe tbody tr th:only-of-type {\n",
       "        vertical-align: middle;\n",
       "    }\n",
       "\n",
       "    .dataframe tbody tr th {\n",
       "        vertical-align: top;\n",
       "    }\n",
       "\n",
       "    .dataframe thead th {\n",
       "        text-align: right;\n",
       "    }\n",
       "</style>\n",
       "<table border=\"1\" class=\"dataframe\">\n",
       "  <thead>\n",
       "    <tr style=\"text-align: right;\">\n",
       "      <th></th>\n",
       "      <th>sepal.length</th>\n",
       "      <th>sepal.width</th>\n",
       "      <th>petal.length</th>\n",
       "      <th>petal.width</th>\n",
       "      <th>variety</th>\n",
       "      <th>sepal.area</th>\n",
       "    </tr>\n",
       "  </thead>\n",
       "  <tbody>\n",
       "    <tr>\n",
       "      <th>0</th>\n",
       "      <td>5.1</td>\n",
       "      <td>3.5</td>\n",
       "      <td>1.4</td>\n",
       "      <td>0.2</td>\n",
       "      <td>Setosa</td>\n",
       "      <td>17.85</td>\n",
       "    </tr>\n",
       "    <tr>\n",
       "      <th>1</th>\n",
       "      <td>4.9</td>\n",
       "      <td>3.0</td>\n",
       "      <td>1.4</td>\n",
       "      <td>0.2</td>\n",
       "      <td>Setosa</td>\n",
       "      <td>14.70</td>\n",
       "    </tr>\n",
       "    <tr>\n",
       "      <th>2</th>\n",
       "      <td>4.7</td>\n",
       "      <td>3.2</td>\n",
       "      <td>1.3</td>\n",
       "      <td>0.2</td>\n",
       "      <td>Setosa</td>\n",
       "      <td>15.04</td>\n",
       "    </tr>\n",
       "    <tr>\n",
       "      <th>3</th>\n",
       "      <td>4.6</td>\n",
       "      <td>3.1</td>\n",
       "      <td>1.5</td>\n",
       "      <td>0.2</td>\n",
       "      <td>Setosa</td>\n",
       "      <td>14.26</td>\n",
       "    </tr>\n",
       "    <tr>\n",
       "      <th>4</th>\n",
       "      <td>5.0</td>\n",
       "      <td>3.6</td>\n",
       "      <td>1.4</td>\n",
       "      <td>0.2</td>\n",
       "      <td>Setosa</td>\n",
       "      <td>18.00</td>\n",
       "    </tr>\n",
       "    <tr>\n",
       "      <th>5</th>\n",
       "      <td>5.4</td>\n",
       "      <td>3.9</td>\n",
       "      <td>1.7</td>\n",
       "      <td>0.4</td>\n",
       "      <td>Setosa</td>\n",
       "      <td>21.06</td>\n",
       "    </tr>\n",
       "    <tr>\n",
       "      <th>6</th>\n",
       "      <td>4.6</td>\n",
       "      <td>3.4</td>\n",
       "      <td>1.4</td>\n",
       "      <td>0.3</td>\n",
       "      <td>Setosa</td>\n",
       "      <td>15.64</td>\n",
       "    </tr>\n",
       "    <tr>\n",
       "      <th>7</th>\n",
       "      <td>5.0</td>\n",
       "      <td>3.4</td>\n",
       "      <td>1.5</td>\n",
       "      <td>0.2</td>\n",
       "      <td>Setosa</td>\n",
       "      <td>17.00</td>\n",
       "    </tr>\n",
       "    <tr>\n",
       "      <th>8</th>\n",
       "      <td>4.4</td>\n",
       "      <td>2.9</td>\n",
       "      <td>1.4</td>\n",
       "      <td>0.2</td>\n",
       "      <td>Setosa</td>\n",
       "      <td>12.76</td>\n",
       "    </tr>\n",
       "    <tr>\n",
       "      <th>9</th>\n",
       "      <td>4.9</td>\n",
       "      <td>3.1</td>\n",
       "      <td>1.5</td>\n",
       "      <td>0.1</td>\n",
       "      <td>Setosa</td>\n",
       "      <td>15.19</td>\n",
       "    </tr>\n",
       "  </tbody>\n",
       "</table>\n",
       "</div>"
      ],
      "text/plain": [
       "   sepal.length  sepal.width  petal.length  petal.width variety  sepal.area\n",
       "0           5.1          3.5           1.4          0.2  Setosa       17.85\n",
       "1           4.9          3.0           1.4          0.2  Setosa       14.70\n",
       "2           4.7          3.2           1.3          0.2  Setosa       15.04\n",
       "3           4.6          3.1           1.5          0.2  Setosa       14.26\n",
       "4           5.0          3.6           1.4          0.2  Setosa       18.00\n",
       "5           5.4          3.9           1.7          0.4  Setosa       21.06\n",
       "6           4.6          3.4           1.4          0.3  Setosa       15.64\n",
       "7           5.0          3.4           1.5          0.2  Setosa       17.00\n",
       "8           4.4          2.9           1.4          0.2  Setosa       12.76\n",
       "9           4.9          3.1           1.5          0.1  Setosa       15.19"
      ]
     },
     "execution_count": 66,
     "metadata": {},
     "output_type": "execute_result"
    }
   ],
   "source": [
    "df['sepal.area'] = df['sepal.length'] * df['sepal.width']\n",
    "df.head(10)\n"
   ]
  },
  {
   "cell_type": "markdown",
   "id": "22489019",
   "metadata": {},
   "source": [
    "Add a new column called 'virginica.variety' to the dataframe which takes a value of 1 if the variety is 'Virginica' and 0 otherwise."
   ]
  },
  {
   "cell_type": "code",
   "execution_count": 60,
   "id": "17f625cb",
   "metadata": {
    "tags": []
   },
   "outputs": [
    {
     "data": {
      "text/html": [
       "<div>\n",
       "<style scoped>\n",
       "    .dataframe tbody tr th:only-of-type {\n",
       "        vertical-align: middle;\n",
       "    }\n",
       "\n",
       "    .dataframe tbody tr th {\n",
       "        vertical-align: top;\n",
       "    }\n",
       "\n",
       "    .dataframe thead th {\n",
       "        text-align: right;\n",
       "    }\n",
       "</style>\n",
       "<table border=\"1\" class=\"dataframe\">\n",
       "  <thead>\n",
       "    <tr style=\"text-align: right;\">\n",
       "      <th></th>\n",
       "      <th>sepal.length</th>\n",
       "      <th>sepal.width</th>\n",
       "      <th>petal.length</th>\n",
       "      <th>petal.width</th>\n",
       "      <th>variety</th>\n",
       "      <th>virginica.variety</th>\n",
       "    </tr>\n",
       "  </thead>\n",
       "  <tbody>\n",
       "    <tr>\n",
       "      <th>0</th>\n",
       "      <td>5.1</td>\n",
       "      <td>3.5</td>\n",
       "      <td>1.4</td>\n",
       "      <td>0.2</td>\n",
       "      <td>Setosa</td>\n",
       "      <td>False</td>\n",
       "    </tr>\n",
       "    <tr>\n",
       "      <th>1</th>\n",
       "      <td>4.9</td>\n",
       "      <td>3.0</td>\n",
       "      <td>1.4</td>\n",
       "      <td>0.2</td>\n",
       "      <td>Setosa</td>\n",
       "      <td>False</td>\n",
       "    </tr>\n",
       "    <tr>\n",
       "      <th>2</th>\n",
       "      <td>4.7</td>\n",
       "      <td>3.2</td>\n",
       "      <td>1.3</td>\n",
       "      <td>0.2</td>\n",
       "      <td>Setosa</td>\n",
       "      <td>False</td>\n",
       "    </tr>\n",
       "    <tr>\n",
       "      <th>50</th>\n",
       "      <td>7.0</td>\n",
       "      <td>3.2</td>\n",
       "      <td>4.7</td>\n",
       "      <td>1.4</td>\n",
       "      <td>Versicolor</td>\n",
       "      <td>False</td>\n",
       "    </tr>\n",
       "    <tr>\n",
       "      <th>148</th>\n",
       "      <td>6.2</td>\n",
       "      <td>3.4</td>\n",
       "      <td>5.4</td>\n",
       "      <td>2.3</td>\n",
       "      <td>Virginica</td>\n",
       "      <td>True</td>\n",
       "    </tr>\n",
       "    <tr>\n",
       "      <th>149</th>\n",
       "      <td>5.9</td>\n",
       "      <td>3.0</td>\n",
       "      <td>5.1</td>\n",
       "      <td>1.8</td>\n",
       "      <td>Virginica</td>\n",
       "      <td>True</td>\n",
       "    </tr>\n",
       "  </tbody>\n",
       "</table>\n",
       "</div>"
      ],
      "text/plain": [
       "     sepal.length  sepal.width  petal.length  petal.width     variety  \\\n",
       "0             5.1          3.5           1.4          0.2      Setosa   \n",
       "1             4.9          3.0           1.4          0.2      Setosa   \n",
       "2             4.7          3.2           1.3          0.2      Setosa   \n",
       "50            7.0          3.2           4.7          1.4  Versicolor   \n",
       "148           6.2          3.4           5.4          2.3   Virginica   \n",
       "149           5.9          3.0           5.1          1.8   Virginica   \n",
       "\n",
       "     virginica.variety  \n",
       "0                False  \n",
       "1                False  \n",
       "2                False  \n",
       "50               False  \n",
       "148               True  \n",
       "149               True  "
      ]
     },
     "execution_count": 60,
     "metadata": {},
     "output_type": "execute_result"
    }
   ],
   "source": [
    "df['virginica.variety']  = df['variety'] == 'Virginica'\n",
    "\n",
    "# This line uses the iloc method to select specific rows from the DataFrame.\n",
    "# Row -100 (counting from the bottom, not necessarily the 100th row).\n",
    "df.iloc[[0, 1, 2, -100, -2, -1], :]\n"
   ]
  },
  {
   "cell_type": "markdown",
   "id": "e086f863",
   "metadata": {},
   "source": [
    "Similarly"
   ]
  },
  {
   "cell_type": "code",
   "execution_count": 68,
   "id": "c91d40f2",
   "metadata": {},
   "outputs": [
    {
     "data": {
      "text/html": [
       "<div>\n",
       "<style scoped>\n",
       "    .dataframe tbody tr th:only-of-type {\n",
       "        vertical-align: middle;\n",
       "    }\n",
       "\n",
       "    .dataframe tbody tr th {\n",
       "        vertical-align: top;\n",
       "    }\n",
       "\n",
       "    .dataframe thead th {\n",
       "        text-align: right;\n",
       "    }\n",
       "</style>\n",
       "<table border=\"1\" class=\"dataframe\">\n",
       "  <thead>\n",
       "    <tr style=\"text-align: right;\">\n",
       "      <th></th>\n",
       "      <th>sepal.length</th>\n",
       "      <th>sepal.width</th>\n",
       "      <th>petal.length</th>\n",
       "      <th>petal.width</th>\n",
       "      <th>variety</th>\n",
       "      <th>sepal.area</th>\n",
       "      <th>virginica.variety</th>\n",
       "      <th>setosa.variety</th>\n",
       "    </tr>\n",
       "  </thead>\n",
       "  <tbody>\n",
       "    <tr>\n",
       "      <th>0</th>\n",
       "      <td>5.1</td>\n",
       "      <td>3.5</td>\n",
       "      <td>1.4</td>\n",
       "      <td>0.2</td>\n",
       "      <td>Setosa</td>\n",
       "      <td>17.85</td>\n",
       "      <td>False</td>\n",
       "      <td>True</td>\n",
       "    </tr>\n",
       "    <tr>\n",
       "      <th>1</th>\n",
       "      <td>4.9</td>\n",
       "      <td>3.0</td>\n",
       "      <td>1.4</td>\n",
       "      <td>0.2</td>\n",
       "      <td>Setosa</td>\n",
       "      <td>14.70</td>\n",
       "      <td>False</td>\n",
       "      <td>True</td>\n",
       "    </tr>\n",
       "    <tr>\n",
       "      <th>2</th>\n",
       "      <td>4.7</td>\n",
       "      <td>3.2</td>\n",
       "      <td>1.3</td>\n",
       "      <td>0.2</td>\n",
       "      <td>Setosa</td>\n",
       "      <td>15.04</td>\n",
       "      <td>False</td>\n",
       "      <td>True</td>\n",
       "    </tr>\n",
       "    <tr>\n",
       "      <th>50</th>\n",
       "      <td>7.0</td>\n",
       "      <td>3.2</td>\n",
       "      <td>4.7</td>\n",
       "      <td>1.4</td>\n",
       "      <td>Versicolor</td>\n",
       "      <td>22.40</td>\n",
       "      <td>False</td>\n",
       "      <td>False</td>\n",
       "    </tr>\n",
       "    <tr>\n",
       "      <th>148</th>\n",
       "      <td>6.2</td>\n",
       "      <td>3.4</td>\n",
       "      <td>5.4</td>\n",
       "      <td>2.3</td>\n",
       "      <td>Virginica</td>\n",
       "      <td>21.08</td>\n",
       "      <td>True</td>\n",
       "      <td>False</td>\n",
       "    </tr>\n",
       "    <tr>\n",
       "      <th>149</th>\n",
       "      <td>5.9</td>\n",
       "      <td>3.0</td>\n",
       "      <td>5.1</td>\n",
       "      <td>1.8</td>\n",
       "      <td>Virginica</td>\n",
       "      <td>17.70</td>\n",
       "      <td>True</td>\n",
       "      <td>False</td>\n",
       "    </tr>\n",
       "  </tbody>\n",
       "</table>\n",
       "</div>"
      ],
      "text/plain": [
       "     sepal.length  sepal.width  petal.length  petal.width     variety  \\\n",
       "0             5.1          3.5           1.4          0.2      Setosa   \n",
       "1             4.9          3.0           1.4          0.2      Setosa   \n",
       "2             4.7          3.2           1.3          0.2      Setosa   \n",
       "50            7.0          3.2           4.7          1.4  Versicolor   \n",
       "148           6.2          3.4           5.4          2.3   Virginica   \n",
       "149           5.9          3.0           5.1          1.8   Virginica   \n",
       "\n",
       "     sepal.area  virginica.variety  setosa.variety  \n",
       "0         17.85              False            True  \n",
       "1         14.70              False            True  \n",
       "2         15.04              False            True  \n",
       "50        22.40              False           False  \n",
       "148       21.08               True           False  \n",
       "149       17.70               True           False  "
      ]
     },
     "execution_count": 68,
     "metadata": {},
     "output_type": "execute_result"
    }
   ],
   "source": [
    "df['setosa.variety']  = df.apply(lambda row: row['variety'] == 'Setosa', axis=1)\n",
    "df.iloc[[0, 1, 2, -100, -2, -1], :]\n"
   ]
  },
  {
   "cell_type": "markdown",
   "id": "d11fce4e",
   "metadata": {},
   "source": [
    "##### §4.5: Delete"
   ]
  },
  {
   "cell_type": "code",
   "execution_count": 69,
   "id": "251853ef",
   "metadata": {},
   "outputs": [
    {
     "data": {
      "text/html": [
       "<div>\n",
       "<style scoped>\n",
       "    .dataframe tbody tr th:only-of-type {\n",
       "        vertical-align: middle;\n",
       "    }\n",
       "\n",
       "    .dataframe tbody tr th {\n",
       "        vertical-align: top;\n",
       "    }\n",
       "\n",
       "    .dataframe thead th {\n",
       "        text-align: right;\n",
       "    }\n",
       "</style>\n",
       "<table border=\"1\" class=\"dataframe\">\n",
       "  <thead>\n",
       "    <tr style=\"text-align: right;\">\n",
       "      <th></th>\n",
       "      <th>sepal.width</th>\n",
       "      <th>petal.width</th>\n",
       "      <th>variety</th>\n",
       "      <th>sepal.area</th>\n",
       "      <th>virginica.variety</th>\n",
       "      <th>setosa.variety</th>\n",
       "    </tr>\n",
       "  </thead>\n",
       "  <tbody>\n",
       "    <tr>\n",
       "      <th>0</th>\n",
       "      <td>3.5</td>\n",
       "      <td>0.2</td>\n",
       "      <td>Setosa</td>\n",
       "      <td>17.85</td>\n",
       "      <td>False</td>\n",
       "      <td>True</td>\n",
       "    </tr>\n",
       "    <tr>\n",
       "      <th>1</th>\n",
       "      <td>3.0</td>\n",
       "      <td>0.2</td>\n",
       "      <td>Setosa</td>\n",
       "      <td>14.70</td>\n",
       "      <td>False</td>\n",
       "      <td>True</td>\n",
       "    </tr>\n",
       "    <tr>\n",
       "      <th>2</th>\n",
       "      <td>3.2</td>\n",
       "      <td>0.2</td>\n",
       "      <td>Setosa</td>\n",
       "      <td>15.04</td>\n",
       "      <td>False</td>\n",
       "      <td>True</td>\n",
       "    </tr>\n",
       "    <tr>\n",
       "      <th>3</th>\n",
       "      <td>3.1</td>\n",
       "      <td>0.2</td>\n",
       "      <td>Setosa</td>\n",
       "      <td>14.26</td>\n",
       "      <td>False</td>\n",
       "      <td>True</td>\n",
       "    </tr>\n",
       "    <tr>\n",
       "      <th>4</th>\n",
       "      <td>3.6</td>\n",
       "      <td>0.2</td>\n",
       "      <td>Setosa</td>\n",
       "      <td>18.00</td>\n",
       "      <td>False</td>\n",
       "      <td>True</td>\n",
       "    </tr>\n",
       "    <tr>\n",
       "      <th>...</th>\n",
       "      <td>...</td>\n",
       "      <td>...</td>\n",
       "      <td>...</td>\n",
       "      <td>...</td>\n",
       "      <td>...</td>\n",
       "      <td>...</td>\n",
       "    </tr>\n",
       "    <tr>\n",
       "      <th>145</th>\n",
       "      <td>3.0</td>\n",
       "      <td>2.3</td>\n",
       "      <td>Virginica</td>\n",
       "      <td>20.10</td>\n",
       "      <td>True</td>\n",
       "      <td>False</td>\n",
       "    </tr>\n",
       "    <tr>\n",
       "      <th>146</th>\n",
       "      <td>2.5</td>\n",
       "      <td>1.9</td>\n",
       "      <td>Virginica</td>\n",
       "      <td>15.75</td>\n",
       "      <td>True</td>\n",
       "      <td>False</td>\n",
       "    </tr>\n",
       "    <tr>\n",
       "      <th>147</th>\n",
       "      <td>3.0</td>\n",
       "      <td>2.0</td>\n",
       "      <td>Virginica</td>\n",
       "      <td>19.50</td>\n",
       "      <td>True</td>\n",
       "      <td>False</td>\n",
       "    </tr>\n",
       "    <tr>\n",
       "      <th>148</th>\n",
       "      <td>3.4</td>\n",
       "      <td>2.3</td>\n",
       "      <td>Virginica</td>\n",
       "      <td>21.08</td>\n",
       "      <td>True</td>\n",
       "      <td>False</td>\n",
       "    </tr>\n",
       "    <tr>\n",
       "      <th>149</th>\n",
       "      <td>3.0</td>\n",
       "      <td>1.8</td>\n",
       "      <td>Virginica</td>\n",
       "      <td>17.70</td>\n",
       "      <td>True</td>\n",
       "      <td>False</td>\n",
       "    </tr>\n",
       "  </tbody>\n",
       "</table>\n",
       "<p>150 rows × 6 columns</p>\n",
       "</div>"
      ],
      "text/plain": [
       "     sepal.width  petal.width    variety  sepal.area  virginica.variety  \\\n",
       "0            3.5          0.2     Setosa       17.85              False   \n",
       "1            3.0          0.2     Setosa       14.70              False   \n",
       "2            3.2          0.2     Setosa       15.04              False   \n",
       "3            3.1          0.2     Setosa       14.26              False   \n",
       "4            3.6          0.2     Setosa       18.00              False   \n",
       "..           ...          ...        ...         ...                ...   \n",
       "145          3.0          2.3  Virginica       20.10               True   \n",
       "146          2.5          1.9  Virginica       15.75               True   \n",
       "147          3.0          2.0  Virginica       19.50               True   \n",
       "148          3.4          2.3  Virginica       21.08               True   \n",
       "149          3.0          1.8  Virginica       17.70               True   \n",
       "\n",
       "     setosa.variety  \n",
       "0              True  \n",
       "1              True  \n",
       "2              True  \n",
       "3              True  \n",
       "4              True  \n",
       "..              ...  \n",
       "145           False  \n",
       "146           False  \n",
       "147           False  \n",
       "148           False  \n",
       "149           False  \n",
       "\n",
       "[150 rows x 6 columns]"
      ]
     },
     "execution_count": 69,
     "metadata": {},
     "output_type": "execute_result"
    }
   ],
   "source": [
    "df.drop(columns = ['sepal.length', 'petal.length'])\n"
   ]
  },
  {
   "cell_type": "code",
   "execution_count": 70,
   "id": "6f93c196",
   "metadata": {},
   "outputs": [
    {
     "data": {
      "text/html": [
       "<div>\n",
       "<style scoped>\n",
       "    .dataframe tbody tr th:only-of-type {\n",
       "        vertical-align: middle;\n",
       "    }\n",
       "\n",
       "    .dataframe tbody tr th {\n",
       "        vertical-align: top;\n",
       "    }\n",
       "\n",
       "    .dataframe thead th {\n",
       "        text-align: right;\n",
       "    }\n",
       "</style>\n",
       "<table border=\"1\" class=\"dataframe\">\n",
       "  <thead>\n",
       "    <tr style=\"text-align: right;\">\n",
       "      <th></th>\n",
       "      <th>sepal.length</th>\n",
       "      <th>sepal.width</th>\n",
       "      <th>petal.length</th>\n",
       "      <th>petal.width</th>\n",
       "      <th>variety</th>\n",
       "      <th>sepal.area</th>\n",
       "      <th>virginica.variety</th>\n",
       "      <th>setosa.variety</th>\n",
       "    </tr>\n",
       "  </thead>\n",
       "  <tbody>\n",
       "    <tr>\n",
       "      <th>2</th>\n",
       "      <td>4.7</td>\n",
       "      <td>3.2</td>\n",
       "      <td>1.3</td>\n",
       "      <td>0.2</td>\n",
       "      <td>Setosa</td>\n",
       "      <td>15.04</td>\n",
       "      <td>False</td>\n",
       "      <td>True</td>\n",
       "    </tr>\n",
       "    <tr>\n",
       "      <th>3</th>\n",
       "      <td>4.6</td>\n",
       "      <td>3.1</td>\n",
       "      <td>1.5</td>\n",
       "      <td>0.2</td>\n",
       "      <td>Setosa</td>\n",
       "      <td>14.26</td>\n",
       "      <td>False</td>\n",
       "      <td>True</td>\n",
       "    </tr>\n",
       "    <tr>\n",
       "      <th>4</th>\n",
       "      <td>5.0</td>\n",
       "      <td>3.6</td>\n",
       "      <td>1.4</td>\n",
       "      <td>0.2</td>\n",
       "      <td>Setosa</td>\n",
       "      <td>18.00</td>\n",
       "      <td>False</td>\n",
       "      <td>True</td>\n",
       "    </tr>\n",
       "    <tr>\n",
       "      <th>5</th>\n",
       "      <td>5.4</td>\n",
       "      <td>3.9</td>\n",
       "      <td>1.7</td>\n",
       "      <td>0.4</td>\n",
       "      <td>Setosa</td>\n",
       "      <td>21.06</td>\n",
       "      <td>False</td>\n",
       "      <td>True</td>\n",
       "    </tr>\n",
       "    <tr>\n",
       "      <th>6</th>\n",
       "      <td>4.6</td>\n",
       "      <td>3.4</td>\n",
       "      <td>1.4</td>\n",
       "      <td>0.3</td>\n",
       "      <td>Setosa</td>\n",
       "      <td>15.64</td>\n",
       "      <td>False</td>\n",
       "      <td>True</td>\n",
       "    </tr>\n",
       "    <tr>\n",
       "      <th>...</th>\n",
       "      <td>...</td>\n",
       "      <td>...</td>\n",
       "      <td>...</td>\n",
       "      <td>...</td>\n",
       "      <td>...</td>\n",
       "      <td>...</td>\n",
       "      <td>...</td>\n",
       "      <td>...</td>\n",
       "    </tr>\n",
       "    <tr>\n",
       "      <th>145</th>\n",
       "      <td>6.7</td>\n",
       "      <td>3.0</td>\n",
       "      <td>5.2</td>\n",
       "      <td>2.3</td>\n",
       "      <td>Virginica</td>\n",
       "      <td>20.10</td>\n",
       "      <td>True</td>\n",
       "      <td>False</td>\n",
       "    </tr>\n",
       "    <tr>\n",
       "      <th>146</th>\n",
       "      <td>6.3</td>\n",
       "      <td>2.5</td>\n",
       "      <td>5.0</td>\n",
       "      <td>1.9</td>\n",
       "      <td>Virginica</td>\n",
       "      <td>15.75</td>\n",
       "      <td>True</td>\n",
       "      <td>False</td>\n",
       "    </tr>\n",
       "    <tr>\n",
       "      <th>147</th>\n",
       "      <td>6.5</td>\n",
       "      <td>3.0</td>\n",
       "      <td>5.2</td>\n",
       "      <td>2.0</td>\n",
       "      <td>Virginica</td>\n",
       "      <td>19.50</td>\n",
       "      <td>True</td>\n",
       "      <td>False</td>\n",
       "    </tr>\n",
       "    <tr>\n",
       "      <th>148</th>\n",
       "      <td>6.2</td>\n",
       "      <td>3.4</td>\n",
       "      <td>5.4</td>\n",
       "      <td>2.3</td>\n",
       "      <td>Virginica</td>\n",
       "      <td>21.08</td>\n",
       "      <td>True</td>\n",
       "      <td>False</td>\n",
       "    </tr>\n",
       "    <tr>\n",
       "      <th>149</th>\n",
       "      <td>5.9</td>\n",
       "      <td>3.0</td>\n",
       "      <td>5.1</td>\n",
       "      <td>1.8</td>\n",
       "      <td>Virginica</td>\n",
       "      <td>17.70</td>\n",
       "      <td>True</td>\n",
       "      <td>False</td>\n",
       "    </tr>\n",
       "  </tbody>\n",
       "</table>\n",
       "<p>148 rows × 8 columns</p>\n",
       "</div>"
      ],
      "text/plain": [
       "     sepal.length  sepal.width  petal.length  petal.width    variety  \\\n",
       "2             4.7          3.2           1.3          0.2     Setosa   \n",
       "3             4.6          3.1           1.5          0.2     Setosa   \n",
       "4             5.0          3.6           1.4          0.2     Setosa   \n",
       "5             5.4          3.9           1.7          0.4     Setosa   \n",
       "6             4.6          3.4           1.4          0.3     Setosa   \n",
       "..            ...          ...           ...          ...        ...   \n",
       "145           6.7          3.0           5.2          2.3  Virginica   \n",
       "146           6.3          2.5           5.0          1.9  Virginica   \n",
       "147           6.5          3.0           5.2          2.0  Virginica   \n",
       "148           6.2          3.4           5.4          2.3  Virginica   \n",
       "149           5.9          3.0           5.1          1.8  Virginica   \n",
       "\n",
       "     sepal.area  virginica.variety  setosa.variety  \n",
       "2         15.04              False            True  \n",
       "3         14.26              False            True  \n",
       "4         18.00              False            True  \n",
       "5         21.06              False            True  \n",
       "6         15.64              False            True  \n",
       "..          ...                ...             ...  \n",
       "145       20.10               True           False  \n",
       "146       15.75               True           False  \n",
       "147       19.50               True           False  \n",
       "148       21.08               True           False  \n",
       "149       17.70               True           False  \n",
       "\n",
       "[148 rows x 8 columns]"
      ]
     },
     "execution_count": 70,
     "metadata": {},
     "output_type": "execute_result"
    }
   ],
   "source": [
    "df.drop([0, 1]) # drops rows\n"
   ]
  },
  {
   "cell_type": "code",
   "execution_count": 71,
   "id": "e4bad762",
   "metadata": {},
   "outputs": [
    {
     "data": {
      "text/html": [
       "<div>\n",
       "<style scoped>\n",
       "    .dataframe tbody tr th:only-of-type {\n",
       "        vertical-align: middle;\n",
       "    }\n",
       "\n",
       "    .dataframe tbody tr th {\n",
       "        vertical-align: top;\n",
       "    }\n",
       "\n",
       "    .dataframe thead th {\n",
       "        text-align: right;\n",
       "    }\n",
       "</style>\n",
       "<table border=\"1\" class=\"dataframe\">\n",
       "  <thead>\n",
       "    <tr style=\"text-align: right;\">\n",
       "      <th></th>\n",
       "      <th>sepal.length</th>\n",
       "      <th>sepal.width</th>\n",
       "      <th>petal.length</th>\n",
       "      <th>petal.width</th>\n",
       "      <th>variety</th>\n",
       "      <th>sepal.area</th>\n",
       "      <th>virginica.variety</th>\n",
       "    </tr>\n",
       "  </thead>\n",
       "  <tbody>\n",
       "    <tr>\n",
       "      <th>0</th>\n",
       "      <td>5.1</td>\n",
       "      <td>3.5</td>\n",
       "      <td>1.4</td>\n",
       "      <td>0.2</td>\n",
       "      <td>Setosa</td>\n",
       "      <td>17.85</td>\n",
       "      <td>False</td>\n",
       "    </tr>\n",
       "    <tr>\n",
       "      <th>1</th>\n",
       "      <td>4.9</td>\n",
       "      <td>3.0</td>\n",
       "      <td>1.4</td>\n",
       "      <td>0.2</td>\n",
       "      <td>Setosa</td>\n",
       "      <td>14.70</td>\n",
       "      <td>False</td>\n",
       "    </tr>\n",
       "    <tr>\n",
       "      <th>2</th>\n",
       "      <td>4.7</td>\n",
       "      <td>3.2</td>\n",
       "      <td>1.3</td>\n",
       "      <td>0.2</td>\n",
       "      <td>Setosa</td>\n",
       "      <td>15.04</td>\n",
       "      <td>False</td>\n",
       "    </tr>\n",
       "    <tr>\n",
       "      <th>3</th>\n",
       "      <td>4.6</td>\n",
       "      <td>3.1</td>\n",
       "      <td>1.5</td>\n",
       "      <td>0.2</td>\n",
       "      <td>Setosa</td>\n",
       "      <td>14.26</td>\n",
       "      <td>False</td>\n",
       "    </tr>\n",
       "    <tr>\n",
       "      <th>4</th>\n",
       "      <td>5.0</td>\n",
       "      <td>3.6</td>\n",
       "      <td>1.4</td>\n",
       "      <td>0.2</td>\n",
       "      <td>Setosa</td>\n",
       "      <td>18.00</td>\n",
       "      <td>False</td>\n",
       "    </tr>\n",
       "    <tr>\n",
       "      <th>...</th>\n",
       "      <td>...</td>\n",
       "      <td>...</td>\n",
       "      <td>...</td>\n",
       "      <td>...</td>\n",
       "      <td>...</td>\n",
       "      <td>...</td>\n",
       "      <td>...</td>\n",
       "    </tr>\n",
       "    <tr>\n",
       "      <th>145</th>\n",
       "      <td>6.7</td>\n",
       "      <td>3.0</td>\n",
       "      <td>5.2</td>\n",
       "      <td>2.3</td>\n",
       "      <td>Virginica</td>\n",
       "      <td>20.10</td>\n",
       "      <td>True</td>\n",
       "    </tr>\n",
       "    <tr>\n",
       "      <th>146</th>\n",
       "      <td>6.3</td>\n",
       "      <td>2.5</td>\n",
       "      <td>5.0</td>\n",
       "      <td>1.9</td>\n",
       "      <td>Virginica</td>\n",
       "      <td>15.75</td>\n",
       "      <td>True</td>\n",
       "    </tr>\n",
       "    <tr>\n",
       "      <th>147</th>\n",
       "      <td>6.5</td>\n",
       "      <td>3.0</td>\n",
       "      <td>5.2</td>\n",
       "      <td>2.0</td>\n",
       "      <td>Virginica</td>\n",
       "      <td>19.50</td>\n",
       "      <td>True</td>\n",
       "    </tr>\n",
       "    <tr>\n",
       "      <th>148</th>\n",
       "      <td>6.2</td>\n",
       "      <td>3.4</td>\n",
       "      <td>5.4</td>\n",
       "      <td>2.3</td>\n",
       "      <td>Virginica</td>\n",
       "      <td>21.08</td>\n",
       "      <td>True</td>\n",
       "    </tr>\n",
       "    <tr>\n",
       "      <th>149</th>\n",
       "      <td>5.9</td>\n",
       "      <td>3.0</td>\n",
       "      <td>5.1</td>\n",
       "      <td>1.8</td>\n",
       "      <td>Virginica</td>\n",
       "      <td>17.70</td>\n",
       "      <td>True</td>\n",
       "    </tr>\n",
       "  </tbody>\n",
       "</table>\n",
       "<p>150 rows × 7 columns</p>\n",
       "</div>"
      ],
      "text/plain": [
       "     sepal.length  sepal.width  petal.length  petal.width    variety  \\\n",
       "0             5.1          3.5           1.4          0.2     Setosa   \n",
       "1             4.9          3.0           1.4          0.2     Setosa   \n",
       "2             4.7          3.2           1.3          0.2     Setosa   \n",
       "3             4.6          3.1           1.5          0.2     Setosa   \n",
       "4             5.0          3.6           1.4          0.2     Setosa   \n",
       "..            ...          ...           ...          ...        ...   \n",
       "145           6.7          3.0           5.2          2.3  Virginica   \n",
       "146           6.3          2.5           5.0          1.9  Virginica   \n",
       "147           6.5          3.0           5.2          2.0  Virginica   \n",
       "148           6.2          3.4           5.4          2.3  Virginica   \n",
       "149           5.9          3.0           5.1          1.8  Virginica   \n",
       "\n",
       "     sepal.area  virginica.variety  \n",
       "0         17.85              False  \n",
       "1         14.70              False  \n",
       "2         15.04              False  \n",
       "3         14.26              False  \n",
       "4         18.00              False  \n",
       "..          ...                ...  \n",
       "145       20.10               True  \n",
       "146       15.75               True  \n",
       "147       19.50               True  \n",
       "148       21.08               True  \n",
       "149       17.70               True  \n",
       "\n",
       "[150 rows x 7 columns]"
      ]
     },
     "execution_count": 71,
     "metadata": {},
     "output_type": "execute_result"
    }
   ],
   "source": [
    "del(df['setosa.variety'])\n",
    "df\n"
   ]
  },
  {
   "cell_type": "code",
   "execution_count": 64,
   "id": "b035fbd0",
   "metadata": {
    "tags": []
   },
   "outputs": [],
   "source": [
    "df.to_csv('iris_modified.csv', index=False)"
   ]
  },
  {
   "cell_type": "markdown",
   "id": "2bbadd8f",
   "metadata": {},
   "source": [
    "---"
   ]
  },
  {
   "cell_type": "markdown",
   "id": "ff66162a",
   "metadata": {},
   "source": [
    "# §5. Data Visualization\n",
    "\n",
    "There are several packages for data visualization in Python. The main ones I'd like you to familiarize yourself with are: `matplotlib`, `seaborn` and `gr`\n",
    "\n",
    "\n",
    "`%pip install matplotlib seaborn gr`"
   ]
  },
  {
   "cell_type": "markdown",
   "id": "4c7adff2",
   "metadata": {},
   "source": [
    "### Line Plots"
   ]
  },
  {
   "cell_type": "code",
   "execution_count": 65,
   "id": "c399593f",
   "metadata": {
    "tags": []
   },
   "outputs": [],
   "source": [
    "x=np.linspace(-10, 10, 1000)"
   ]
  },
  {
   "cell_type": "code",
   "execution_count": 66,
   "id": "727ba5da",
   "metadata": {
    "tags": []
   },
   "outputs": [
    {
     "data": {
      "text/plain": [
       "[<matplotlib.lines.Line2D at 0x11fea8160>]"
      ]
     },
     "execution_count": 66,
     "metadata": {},
     "output_type": "execute_result"
    },
    {
     "data": {
      "image/png": "[encoded data removed]",
      "text/plain": [
       "<Figure size 640x480 with 1 Axes>"
      ]
     },
     "metadata": {},
     "output_type": "display_data"
    }
   ],
   "source": [
    "%matplotlib inline\n",
    "from matplotlib import pyplot as plt\n",
    "plt.plot(x, np.sin(x) * np.exp(-np.abs(x)), label='x^2')\n"
   ]
  },
  {
   "cell_type": "code",
   "execution_count": 71,
   "id": "7cb7cc17",
   "metadata": {
    "tags": []
   },
   "outputs": [
    {
     "data": {
      "image/svg+xml": [
       "<svg xmlns=\"http://www.w3.org/2000/svg\" xmlns:xlink=\"http://www.w3.org/1999/xlink\" width=\"600\" height=\"450\" viewBox=\"0 0 2400 1800\">\n",
       "<defs>\n",
       "  <clipPath id=\"clip920\">\n",
       "    <rect x=\"300\" y=\"134\" width=\"1921\" height=\"1441\"/>\n",
       "  </clipPath>\n",
       "</defs>\n",
       "<defs>\n",
       "  <clipPath id=\"clip921\">\n",
       "    <rect x=\"0\" y=\"0\" width=\"2400\" height=\"1800\"/>\n",
       "  </clipPath>\n",
       "</defs>\n",
       "<polyline clip-path=\"url(#clip921)\" style=\"stroke:#cccccc; stroke-linecap:round; stroke-linejoin:round; stroke-width:3.6; stroke-opacity:1; fill:none\" points=\"300,1575 2220,1575 \"/>\n",
       "<polyline clip-path=\"url(#clip921)\" style=\"stroke:#ededed; stroke-linecap:round; stroke-linejoin:round; stroke-width:3.6; stroke-opacity:1; fill:none\" points=\"300,1503 2220,1503 \"/>\n",
       "<polyline clip-path=\"url(#clip921)\" style=\"stroke:#ededed; stroke-linecap:round; stroke-linejoin:round; stroke-width:3.6; stroke-opacity:1; fill:none\" points=\"300,1431 2220,1431 \"/>\n",
       "<polyline clip-path=\"url(#clip921)\" style=\"stroke:#ededed; stroke-linecap:round; stroke-linejoin:round; stroke-width:3.6; stroke-opacity:1; fill:none\" points=\"300,1359 2220,1359 \"/>\n",
       "<polyline clip-path=\"url(#clip921)\" style=\"stroke:#ededed; stroke-linecap:round; stroke-linejoin:round; stroke-width:3.6; stroke-opacity:1; fill:none\" points=\"300,1287 2220,1287 \"/>\n",
       "<polyline clip-path=\"url(#clip921)\" style=\"stroke:#cccccc; stroke-linecap:round; stroke-linejoin:round; stroke-width:3.6; stroke-opacity:1; fill:none\" points=\"300,1215 2220,1215 \"/>\n",
       "<polyline clip-path=\"url(#clip921)\" style=\"stroke:#ededed; stroke-linecap:round; stroke-linejoin:round; stroke-width:3.6; stroke-opacity:1; fill:none\" points=\"300,1143 2220,1143 \"/>\n",
       "<polyline clip-path=\"url(#clip921)\" style=\"stroke:#ededed; stroke-linecap:round; stroke-linejoin:round; stroke-width:3.6; stroke-opacity:1; fill:none\" points=\"300,1071 2220,1071 \"/>\n",
       "<polyline clip-path=\"url(#clip921)\" style=\"stroke:#ededed; stroke-linecap:round; stroke-linejoin:round; stroke-width:3.6; stroke-opacity:1; fill:none\" points=\"300,999 2220,999 \"/>\n",
       "<polyline clip-path=\"url(#clip921)\" style=\"stroke:#ededed; stroke-linecap:round; stroke-linejoin:round; stroke-width:3.6; stroke-opacity:1; fill:none\" points=\"300,927 2220,927 \"/>\n",
       "<polyline clip-path=\"url(#clip921)\" style=\"stroke:#cccccc; stroke-linecap:round; stroke-linejoin:round; stroke-width:3.6; stroke-opacity:1; fill:none\" points=\"300,855 2220,855 \"/>\n",
       "<polyline clip-path=\"url(#clip921)\" style=\"stroke:#ededed; stroke-linecap:round; stroke-linejoin:round; stroke-width:3.6; stroke-opacity:1; fill:none\" points=\"300,783 2220,783 \"/>\n",
       "<polyline clip-path=\"url(#clip921)\" style=\"stroke:#ededed; stroke-linecap:round; stroke-linejoin:round; stroke-width:3.6; stroke-opacity:1; fill:none\" points=\"300,711 2220,711 \"/>\n",
       "<polyline clip-path=\"url(#clip921)\" style=\"stroke:#ededed; stroke-linecap:round; stroke-linejoin:round; stroke-width:3.6; stroke-opacity:1; fill:none\" points=\"300,639 2220,639 \"/>\n",
       "<polyline clip-path=\"url(#clip921)\" style=\"stroke:#ededed; stroke-linecap:round; stroke-linejoin:round; stroke-width:3.6; stroke-opacity:1; fill:none\" points=\"300,567 2220,567 \"/>\n",
       "<polyline clip-path=\"url(#clip921)\" style=\"stroke:#cccccc; stroke-linecap:round; stroke-linejoin:round; stroke-width:3.6; stroke-opacity:1; fill:none\" points=\"300,495 2220,495 \"/>\n",
       "<polyline clip-path=\"url(#clip921)\" style=\"stroke:#ededed; stroke-linecap:round; stroke-linejoin:round; stroke-width:3.6; stroke-opacity:1; fill:none\" points=\"300,423 2220,423 \"/>\n",
       "<polyline clip-path=\"url(#clip921)\" style=\"stroke:#ededed; stroke-linecap:round; stroke-linejoin:round; stroke-width:3.6; stroke-opacity:1; fill:none\" points=\"300,351 2220,351 \"/>\n",
       "<polyline clip-path=\"url(#clip921)\" style=\"stroke:#ededed; stroke-linecap:round; stroke-linejoin:round; stroke-width:3.6; stroke-opacity:1; fill:none\" points=\"300,279 2220,279 \"/>\n",
       "<polyline clip-path=\"url(#clip921)\" style=\"stroke:#ededed; stroke-linecap:round; stroke-linejoin:round; stroke-width:3.6; stroke-opacity:1; fill:none\" points=\"300,207 2220,207 \"/>\n",
       "<polyline clip-path=\"url(#clip921)\" style=\"stroke:#cccccc; stroke-linecap:round; stroke-linejoin:round; stroke-width:3.6; stroke-opacity:1; fill:none\" points=\"300,135 2220,135 \"/>\n",
       "<polyline clip-path=\"url(#clip921)\" style=\"stroke:#cccccc; stroke-linecap:round; stroke-linejoin:round; stroke-width:3.6; stroke-opacity:1; fill:none\" points=\"300,1575 300,135 \"/>\n",
       "<polyline clip-path=\"url(#clip921)\" style=\"stroke:#ededed; stroke-linecap:round; stroke-linejoin:round; stroke-width:3.6; stroke-opacity:1; fill:none\" points=\"396,1575 396,135 \"/>\n",
       "<polyline clip-path=\"url(#clip921)\" style=\"stroke:#ededed; stroke-linecap:round; stroke-linejoin:round; stroke-width:3.6; stroke-opacity:1; fill:none\" points=\"492,1575 492,135 \"/>\n",
       "<polyline clip-path=\"url(#clip921)\" style=\"stroke:#ededed; stroke-linecap:round; stroke-linejoin:round; stroke-width:3.6; stroke-opacity:1; fill:none\" points=\"588,1575 588,135 \"/>\n",
       "<polyline clip-path=\"url(#clip921)\" style=\"stroke:#ededed; stroke-linecap:round; stroke-linejoin:round; stroke-width:3.6; stroke-opacity:1; fill:none\" points=\"684,1575 684,135 \"/>\n",
       "<polyline clip-path=\"url(#clip921)\" style=\"stroke:#cccccc; stroke-linecap:round; stroke-linejoin:round; stroke-width:3.6; stroke-opacity:1; fill:none\" points=\"780,1575 780,135 \"/>\n",
       "<polyline clip-path=\"url(#clip921)\" style=\"stroke:#ededed; stroke-linecap:round; stroke-linejoin:round; stroke-width:3.6; stroke-opacity:1; fill:none\" points=\"876,1575 876,135 \"/>\n",
       "<polyline clip-path=\"url(#clip921)\" style=\"stroke:#ededed; stroke-linecap:round; stroke-linejoin:round; stroke-width:3.6; stroke-opacity:1; fill:none\" points=\"972,1575 972,135 \"/>\n",
       "<polyline clip-path=\"url(#clip921)\" style=\"stroke:#ededed; stroke-linecap:round; stroke-linejoin:round; stroke-width:3.6; stroke-opacity:1; fill:none\" points=\"1068,1575 1068,135 \"/>\n",
       "<polyline clip-path=\"url(#clip921)\" style=\"stroke:#ededed; stroke-linecap:round; stroke-linejoin:round; stroke-width:3.6; stroke-opacity:1; fill:none\" points=\"1164,1575 1164,135 \"/>\n",
       "<polyline clip-path=\"url(#clip921)\" style=\"stroke:#cccccc; stroke-linecap:round; stroke-linejoin:round; stroke-width:3.6; stroke-opacity:1; fill:none\" points=\"1260,1575 1260,135 \"/>\n",
       "<polyline clip-path=\"url(#clip921)\" style=\"stroke:#ededed; stroke-linecap:round; stroke-linejoin:round; stroke-width:3.6; stroke-opacity:1; fill:none\" points=\"1356,1575 1356,135 \"/>\n",
       "<polyline clip-path=\"url(#clip921)\" style=\"stroke:#ededed; stroke-linecap:round; stroke-linejoin:round; stroke-width:3.6; stroke-opacity:1; fill:none\" points=\"1452,1575 1452,135 \"/>\n",
       "<polyline clip-path=\"url(#clip921)\" style=\"stroke:#ededed; stroke-linecap:round; stroke-linejoin:round; stroke-width:3.6; stroke-opacity:1; fill:none\" points=\"1548,1575 1548,135 \"/>\n",
       "<polyline clip-path=\"url(#clip921)\" style=\"stroke:#ededed; stroke-linecap:round; stroke-linejoin:round; stroke-width:3.6; stroke-opacity:1; fill:none\" points=\"1644,1575 1644,135 \"/>\n",
       "<polyline clip-path=\"url(#clip921)\" style=\"stroke:#cccccc; stroke-linecap:round; stroke-linejoin:round; stroke-width:3.6; stroke-opacity:1; fill:none\" points=\"1740,1575 1740,135 \"/>\n",
       "<polyline clip-path=\"url(#clip921)\" style=\"stroke:#ededed; stroke-linecap:round; stroke-linejoin:round; stroke-width:3.6; stroke-opacity:1; fill:none\" points=\"1836,1575 1836,135 \"/>\n",
       "<polyline clip-path=\"url(#clip921)\" style=\"stroke:#ededed; stroke-linecap:round; stroke-linejoin:round; stroke-width:3.6; stroke-opacity:1; fill:none\" points=\"1932,1575 1932,135 \"/>\n",
       "<polyline clip-path=\"url(#clip921)\" style=\"stroke:#ededed; stroke-linecap:round; stroke-linejoin:round; stroke-width:3.6; stroke-opacity:1; fill:none\" points=\"2028,1575 2028,135 \"/>\n",
       "<polyline clip-path=\"url(#clip921)\" style=\"stroke:#ededed; stroke-linecap:round; stroke-linejoin:round; stroke-width:3.6; stroke-opacity:1; fill:none\" points=\"2124,1575 2124,135 \"/>\n",
       "<polyline clip-path=\"url(#clip921)\" style=\"stroke:#cccccc; stroke-linecap:round; stroke-linejoin:round; stroke-width:3.6; stroke-opacity:1; fill:none\" points=\"2220,1575 2220,135 \"/>\n",
       "<g clip-path=\"url(#clip921)\">\n",
       "<text style=\"fill:#000000; fill-opacity:1; font-family:Arial,Helvetica Neue,Helvetica,sans-serif; font-size:59px; text-anchor:start;\" transform=\"rotate(0, 163.23, 1592.06)\" x=\"163.23\" y=\"1592.06\">-</text>\n",
       "</g>\n",
       "<g clip-path=\"url(#clip921)\">\n",
       "<text style=\"fill:#000000; fill-opacity:1; font-family:Arial,Helvetica Neue,Helvetica,sans-serif; font-size:59px; text-anchor:start;\" transform=\"rotate(0, 198.368, 1592.06)\" x=\"198.368\" y=\"1592.06\">0.4</text>\n",
       "</g>\n",
       "<g clip-path=\"url(#clip921)\">\n",
       "<text style=\"fill:#000000; fill-opacity:1; font-family:Arial,Helvetica Neue,Helvetica,sans-serif; font-size:59px; text-anchor:start;\" transform=\"rotate(0, 163.23, 1232.06)\" x=\"163.23\" y=\"1232.06\">-</text>\n",
       "</g>\n",
       "<g clip-path=\"url(#clip921)\">\n",
       "<text style=\"fill:#000000; fill-opacity:1; font-family:Arial,Helvetica Neue,Helvetica,sans-serif; font-size:59px; text-anchor:start;\" transform=\"rotate(0, 198.368, 1232.06)\" x=\"198.368\" y=\"1232.06\">0.2</text>\n",
       "</g>\n",
       "<g clip-path=\"url(#clip921)\">\n",
       "<text style=\"fill:#000000; fill-opacity:1; font-family:Arial,Helvetica Neue,Helvetica,sans-serif; font-size:59px; text-anchor:start;\" transform=\"rotate(0, 248.547, 872.064)\" x=\"248.547\" y=\"872.064\">0</text>\n",
       "</g>\n",
       "<g clip-path=\"url(#clip921)\">\n",
       "<text style=\"fill:#000000; fill-opacity:1; font-family:Arial,Helvetica Neue,Helvetica,sans-serif; font-size:59px; text-anchor:start;\" transform=\"rotate(0, 198.368, 512.064)\" x=\"198.368\" y=\"512.064\">0.2</text>\n",
       "</g>\n",
       "<g clip-path=\"url(#clip921)\">\n",
       "<text style=\"fill:#000000; fill-opacity:1; font-family:Arial,Helvetica Neue,Helvetica,sans-serif; font-size:59px; text-anchor:start;\" transform=\"rotate(0, 198.368, 152.064)\" x=\"198.368\" y=\"152.064\">0.4</text>\n",
       "</g>\n",
       "<polyline clip-path=\"url(#clip921)\" style=\"stroke:#000000; stroke-linecap:round; stroke-linejoin:round; stroke-width:3.6; stroke-opacity:1; fill:none\" points=\"300,1575 300,1575 336,1575 300,1575 300,1503 318,1503 300,1503 300,1431 318,1431 300,1431 300,1359 318,1359 300,1359 300,1287 318,1287 300,1287 300,1215 336,1215 300,1215 300,1143 318,1143 300,1143 300,1071 318,1071 300,1071 300,999 318,999 300,999 300,927 318,927 300,927 300,855 336,855 300,855 300,783 318,783 300,783 300,711 318,711 300,711 300,639 318,639 300,639 300,567 318,567 300,567 300,495 336,495 300,495 300,423 318,423 300,423 300,351 318,351 300,351 300,279 318,279 300,279 300,207 318,207 300,207 300,135 336,135 300,135 \"/>\n",
       "<g clip-path=\"url(#clip921)\">\n",
       "<text style=\"fill:#000000; fill-opacity:1; font-family:Arial,Helvetica Neue,Helvetica,sans-serif; font-size:59px; text-anchor:start;\" transform=\"rotate(0, 248.978, 1646.57)\" x=\"248.978\" y=\"1646.57\">-</text>\n",
       "</g>\n",
       "<g clip-path=\"url(#clip921)\">\n",
       "<text style=\"fill:#000000; fill-opacity:1; font-family:Arial,Helvetica Neue,Helvetica,sans-serif; font-size:59px; text-anchor:start;\" transform=\"rotate(0, 284.116, 1646.57)\" x=\"284.116\" y=\"1646.57\">10</text>\n",
       "</g>\n",
       "<g clip-path=\"url(#clip921)\">\n",
       "<text style=\"fill:#000000; fill-opacity:1; font-family:Arial,Helvetica Neue,Helvetica,sans-serif; font-size:59px; text-anchor:start;\" transform=\"rotate(0, 745.705, 1646.57)\" x=\"745.705\" y=\"1646.57\">-</text>\n",
       "</g>\n",
       "<g clip-path=\"url(#clip921)\">\n",
       "<text style=\"fill:#000000; fill-opacity:1; font-family:Arial,Helvetica Neue,Helvetica,sans-serif; font-size:59px; text-anchor:start;\" transform=\"rotate(0, 780.842, 1646.57)\" x=\"780.842\" y=\"1646.57\">5</text>\n",
       "</g>\n",
       "<g clip-path=\"url(#clip921)\">\n",
       "<text style=\"fill:#000000; fill-opacity:1; font-family:Arial,Helvetica Neue,Helvetica,sans-serif; font-size:59px; text-anchor:start;\" transform=\"rotate(0, 1243.27, 1646.57)\" x=\"1243.27\" y=\"1646.57\">0</text>\n",
       "</g>\n",
       "<g clip-path=\"url(#clip921)\">\n",
       "<text style=\"fill:#000000; fill-opacity:1; font-family:Arial,Helvetica Neue,Helvetica,sans-serif; font-size:59px; text-anchor:start;\" transform=\"rotate(0, 1723.27, 1646.57)\" x=\"1723.27\" y=\"1646.57\">5</text>\n",
       "</g>\n",
       "<g clip-path=\"url(#clip921)\">\n",
       "<text style=\"fill:#000000; fill-opacity:1; font-family:Arial,Helvetica Neue,Helvetica,sans-serif; font-size:59px; text-anchor:start;\" transform=\"rotate(0, 2186.55, 1646.57)\" x=\"2186.55\" y=\"1646.57\">10</text>\n",
       "</g>\n",
       "<polyline clip-path=\"url(#clip921)\" style=\"stroke:#000000; stroke-linecap:round; stroke-linejoin:round; stroke-width:3.6; stroke-opacity:1; fill:none\" points=\"300,1575 300,1575 300,1539 300,1575 396,1575 396,1557 396,1575 492,1575 492,1557 492,1575 588,1575 588,1557 588,1575 684,1575 684,1557 684,1575 780,1575 780,1539 780,1575 876,1575 876,1557 876,1575 972,1575 972,1557 972,1575 1068,1575 1068,1557 1068,1575 1164,1575 1164,1557 1164,1575 1260,1575 1260,1539 1260,1575 1356,1575 1356,1557 1356,1575 1452,1575 1452,1557 1452,1575 1548,1575 1548,1557 1548,1575 1644,1575 1644,1557 1644,1575 1740,1575 1740,1539 1740,1575 1836,1575 1836,1557 1836,1575 1932,1575 1932,1557 1932,1575 2028,1575 2028,1557 2028,1575 2124,1575 2124,1557 2124,1575 2220,1575 2220,1539 2220,1575 \"/>\n",
       "<polyline clip-path=\"url(#clip921)\" style=\"stroke:#000000; stroke-linecap:round; stroke-linejoin:round; stroke-width:3.6; stroke-opacity:1; fill:none\" points=\"2220,1575 2220,1575 2184,1575 2220,1575 2220,1503 2202,1503 2220,1503 2220,1431 2202,1431 2220,1431 2220,1359 2202,1359 2220,1359 2220,1287 2202,1287 2220,1287 2220,1215 2184,1215 2220,1215 2220,1143 2202,1143 2220,1143 2220,1071 2202,1071 2220,1071 2220,999 2202,999 2220,999 2220,927 2202,927 2220,927 2220,855 2184,855 2220,855 2220,783 2202,783 2220,783 2220,711 2202,711 2220,711 2220,639 2202,639 2220,639 2220,567 2202,567 2220,567 2220,495 2184,495 2220,495 2220,423 2202,423 2220,423 2220,351 2202,351 2220,351 2220,279 2202,279 2220,279 2220,207 2202,207 2220,207 2220,135 2184,135 2220,135 \"/>\n",
       "<polyline clip-path=\"url(#clip921)\" style=\"stroke:#000000; stroke-linecap:round; stroke-linejoin:round; stroke-width:3.6; stroke-opacity:1; fill:none\" points=\"300,135 300,135 300,171 300,135 396,135 396,153 396,135 492,135 492,153 492,135 588,135 588,153 588,135 684,135 684,153 684,135 780,135 780,171 780,135 876,135 876,153 876,135 972,135 972,153 972,135 1068,135 1068,153 1068,135 1164,135 1164,153 1164,135 1260,135 1260,171 1260,135 1356,135 1356,153 1356,135 1452,135 1452,153 1452,135 1548,135 1548,153 1548,135 1644,135 1644,153 1644,135 1740,135 1740,171 1740,135 1836,135 1836,153 1836,135 1932,135 1932,153 1932,135 2028,135 2028,153 2028,135 2124,135 2124,153 2124,135 2220,135 2220,171 2220,135 \"/>\n",
       "<polyline clip-path=\"url(#clip920)\" style=\"stroke:#00528a; stroke-linecap:round; stroke-linejoin:round; stroke-width:3.6; stroke-opacity:1; fill:none\" points=\"300,854.956 301.922,854.956 303.844,854.957 305.766,854.957 307.688,854.958 309.61,854.959 311.532,854.959 313.453,854.96 315.375,854.961 317.297,854.962 319.219,854.963 321.141,854.965 323.063,854.966 324.985,854.967 326.907,854.969 328.829,854.97 330.751,854.972 332.673,854.973 334.595,854.975 336.517,854.977 338.438,854.979 340.36,854.981 342.282,854.983 344.204,854.985 346.126,854.988 348.048,854.99 349.97,854.992 351.892,854.995 353.814,854.998 355.736,855.001 357.658,855.004 359.58,855.007 361.502,855.01 363.423,855.014 365.345,855.017 367.267,855.021 369.189,855.024 371.111,855.028 373.033,855.032 374.955,855.036 376.877,855.041 378.799,855.045 380.721,855.05 382.643,855.054 384.565,855.059 386.486,855.064 388.408,855.07 390.33,855.075 392.252,855.08 394.174,855.086 396.096,855.092 398.018,855.098 399.94,855.104 401.862,855.11 403.784,855.117 405.706,855.123 407.628,855.13 409.55,855.137 411.471,855.144 413.393,855.152 415.315,855.159 417.237,855.167 419.159,855.175 421.081,855.183 423.003,855.191 424.925,855.199 426.847,855.208 428.769,855.217 430.691,855.226 432.613,855.235 434.535,855.244 436.456,855.254 438.378,855.263 440.3,855.273 442.222,855.283 444.144,855.293 446.066,855.304 447.988,855.314 449.91,855.325 451.832,855.336 453.754,855.347 455.676,855.358 457.598,855.369 459.52,855.381 461.441,855.393 463.363,855.405 465.285,855.417 467.207,855.429 469.129,855.441 471.051,855.454 472.973,855.466 474.895,855.479 476.817,855.492 478.739,855.505 480.661,855.518 482.583,855.531 484.505,855.545 486.426,855.558 488.348,855.571 490.27,855.585 492.192,855.599 494.114,855.613 496.036,855.626 497.958,855.64 499.88,855.654 501.802,855.668 503.724,855.682 505.646,855.696 507.568,855.71 509.489,855.724 511.411,855.738 513.333,855.752 515.255,855.766 517.177,855.78 519.099,855.793 521.021,855.807 522.943,855.821 524.865,855.834 526.787,855.847 528.709,855.86 530.631,855.873 532.553,855.886 534.474,855.899 536.396,855.911 538.318,855.923 540.24,855.935 542.162,855.947 544.084,855.958 546.006,855.969 547.928,855.98 549.85,855.99 551.772,856 553.694,856.009 555.616,856.019 557.538,856.027 559.459,856.035 561.381,856.043 563.303,856.05 565.225,856.056 567.147,856.062 569.069,856.067 570.991,856.072 572.913,856.076 574.835,856.079 576.757,856.081 578.679,856.083 580.601,856.084 582.523,856.084 584.444,856.083 586.366,856.081 588.288,856.078 590.21,856.074 592.132,856.069 594.054,856.063 595.976,856.056 597.898,856.048 599.82,856.039 601.742,856.028 603.664,856.016 605.586,856.003 607.508,855.988 609.429,855.972 611.351,855.955 613.273,855.936 615.195,855.915 617.117,855.893 619.039,855.87 620.961,855.844 622.883,855.817 624.805,855.788 626.727,855.758 628.649,855.725 630.571,855.69 632.492,855.654 634.414,855.615 636.336,855.575 638.258,855.532 640.18,855.487 642.102,855.44 644.024,855.391 645.946,855.339 647.868,855.285 649.79,855.228 651.712,855.169 653.634,855.108 655.556,855.043 657.477,854.977 659.399,854.907 661.321,854.835 663.243,854.759 665.165,854.681 667.087,854.6 669.009,854.516 670.931,854.429 672.853,854.339 674.775,854.246 676.697,854.15 678.619,854.05 680.541,853.947 682.462,853.841 684.384,853.731 686.306,853.618 688.228,853.501 690.15,853.381 692.072,853.257 693.994,853.13 695.916,852.999 697.838,852.864 699.76,852.726 701.682,852.583 703.604,852.437 705.526,852.287 707.447,852.133 709.369,851.975 711.291,851.813 713.213,851.647 715.135,851.477 717.057,851.303 718.979,851.125 720.901,850.943 722.823,850.757 724.745,850.566 726.667,850.372 728.589,850.173 730.511,849.97 732.432,849.763 734.354,849.552 736.276,849.336 738.198,849.117 740.12,848.893 742.042,848.665 743.964,848.433 745.886,848.196 747.808,847.956 749.73,847.712 751.652,847.463 753.574,847.211 755.495,846.955 757.417,846.695 759.339,846.431 761.261,846.163 763.183,845.891 765.105,845.616 767.027,845.337 768.949,845.055 770.871,844.77 772.793,844.481 774.715,844.189 776.637,843.894 778.559,843.595 780.48,843.294 782.402,842.991 784.324,842.684 786.246,842.376 788.168,842.064 790.09,841.751 792.012,841.436 793.934,841.119 795.856,840.801 797.778,840.481 799.7,840.16 801.622,839.838 803.544,839.515 805.465,839.191 807.387,838.868 809.309,838.544 811.231,838.221 813.153,837.898 815.075,837.575 816.997,837.254 818.919,836.935 820.841,836.617 822.763,836.301 824.685,835.987 826.607,835.677 828.529,835.369 830.45,835.065 832.372,834.764 834.294,834.468 836.216,834.177 838.138,833.891 840.06,833.61 841.982,833.335 843.904,833.067 845.826,832.806 847.748,832.553 849.67,832.307 851.592,832.07 853.514,831.842 855.435,831.623 857.357,831.415 859.279,831.218 861.201,831.032 863.123,830.857 865.045,830.696 866.967,830.548 868.889,830.414 870.811,830.294 872.733,830.19 874.655,830.101 876.577,830.03 878.498,829.976 880.42,829.94 882.342,829.924 884.264,829.927 886.186,829.95 888.108,829.996 890.03,830.063 891.952,830.154 893.874,830.268 895.796,830.408 897.718,830.573 899.64,830.766 901.562,830.985 903.483,831.234 905.405,831.512 907.327,831.82 909.249,832.161 911.171,832.533 913.093,832.94 915.015,833.381 916.937,833.857 918.859,834.371 920.781,834.922 922.703,835.512 924.625,836.142 926.547,836.814 928.468,837.528 930.39,838.285 932.312,839.086 934.234,839.934 936.156,840.828 938.078,841.771 940,842.763 941.922,843.805 943.844,844.9 945.766,846.047 947.688,847.248 949.61,848.505 951.532,849.818 953.453,851.19 955.375,852.62 957.297,854.111 959.219,855.664 961.141,857.279 963.063,858.958 964.985,860.703 966.907,862.515 968.829,864.394 970.751,866.343 972.673,868.361 974.595,870.452 976.517,872.615 978.438,874.852 980.36,877.164 982.282,879.552 984.204,882.018 986.126,884.563 988.048,887.187 989.97,889.893 991.892,892.68 993.814,895.55 995.736,898.505 997.658,901.544 999.58,904.67 1001.5,907.883 1003.42,911.184 1005.35,914.573 1007.27,918.053 1009.19,921.623 1011.11,925.284 1013.03,929.037 1014.95,932.884 1016.88,936.823 1018.8,940.857 1020.72,944.985 1022.64,949.209 1024.56,953.527 1026.49,957.942 1028.41,962.453 1030.33,967.06 1032.25,971.764 1034.17,976.564 1036.1,981.461 1038.02,986.455 1039.94,991.546 1041.86,996.732 1043.78,1002.01 1045.71,1007.39 1047.63,1012.87 1049.55,1018.43 1051.47,1024.1 1053.39,1029.85 1055.32,1035.7 1057.24,1041.63 1059.16,1047.66 1061.08,1053.78 1063,1059.98 1064.92,1066.27 1066.85,1072.64 1068.77,1079.1 1070.69,1085.64 1072.61,1092.25 1074.53,1098.94 1076.46,1105.71 1078.38,1112.54 1080.3,1119.45 1082.22,1126.42 1084.14,1133.45 1086.07,1140.55 1087.99,1147.69 1089.91,1154.9 1091.83,1162.15 1093.75,1169.44 1095.68,1176.78 1097.6,1184.15 1099.52,1191.56 1101.44,1198.99 1103.36,1206.45 1105.29,1213.92 1107.21,1221.4 1109.13,1228.89 1111.05,1236.38 1112.97,1243.87 1114.89,1251.34 1116.82,1258.79 1118.74,1266.22 1120.66,1273.62 1122.58,1280.97 1124.5,1288.28 1126.43,1295.53 1128.35,1302.71 1130.27,1309.83 1132.19,1316.86 1134.11,1323.8 1136.04,1330.64 1137.96,1337.38 1139.88,1343.99 1141.8,1350.47 1143.72,1356.82 1145.65,1363.01 1147.57,1369.04 1149.49,1374.9 1151.41,1380.56 1153.33,1386.04 1155.26,1391.3 1157.18,1396.33 1159.1,1401.13 1161.02,1405.68 1162.94,1409.97 1164.86,1413.98 1166.79,1417.69 1168.71,1421.09 1170.63,1424.17 1172.55,1426.91 1174.47,1429.3 1176.4,1431.31 1178.32,1432.94 1180.24,1434.15 1182.16,1434.95 1184.08,1435.3 1186.01,1435.19 1187.93,1434.6 1189.85,1433.52 1191.77,1431.91 1193.69,1429.77 1195.62,1427.08 1197.54,1423.8 1199.46,1419.92 1201.38,1415.43 1203.3,1410.29 1205.23,1404.49 1207.15,1398 1209.07,1390.81 1210.99,1382.88 1212.91,1374.19 1214.83,1364.73 1216.76,1354.46 1218.68,1343.37 1220.6,1331.42 1222.52,1318.6 1224.44,1304.87 1226.37,1290.21 1228.29,1274.6 1230.21,1258 1232.13,1240.4 1234.05,1221.77 1235.98,1202.07 1237.9,1181.29 1239.82,1159.39 1241.74,1136.35 1243.66,1112.13 1245.59,1086.72 1247.51,1060.07 1249.43,1032.17 1251.35,1002.99 1253.27,972.495 1255.2,940.656 1257.12,907.447 1259.04,872.838 1260.96,837.162 1262.88,802.553 1264.8,769.344 1266.73,737.505 1268.65,707.009 1270.57,677.825 1272.49,649.927 1274.41,623.284 1276.34,597.869 1278.26,573.654 1280.18,550.61 1282.1,528.71 1284.02,507.926 1285.95,488.23 1287.87,469.596 1289.79,451.995 1291.71,435.402 1293.63,419.79 1295.56,405.133 1297.48,391.404 1299.4,378.579 1301.32,366.631 1303.24,355.536 1305.17,345.269 1307.09,335.805 1309.01,327.121 1310.93,319.192 1312.85,311.996 1314.77,305.509 1316.7,299.708 1318.62,294.57 1320.54,290.075 1322.46,286.201 1324.38,282.925 1326.31,280.227 1328.23,278.087 1330.15,276.484 1332.07,275.398 1333.99,274.811 1335.92,274.702 1337.84,275.054 1339.76,275.847 1341.68,277.065 1343.6,278.689 1345.53,280.701 1347.45,283.086 1349.37,285.827 1351.29,288.908 1353.21,292.312 1355.14,296.025 1357.06,300.031 1358.98,304.316 1360.9,308.866 1362.82,313.666 1364.74,318.703 1366.67,323.964 1368.59,329.435 1370.51,335.105 1372.43,340.96 1374.35,346.99 1376.28,353.182 1378.2,359.526 1380.12,366.01 1382.04,372.623 1383.96,379.356 1385.89,386.198 1387.81,393.141 1389.73,400.173 1391.65,407.287 1393.57,414.474 1395.5,421.724 1397.42,429.031 1399.34,436.385 1401.26,443.779 1403.18,451.207 1405.11,458.66 1407.03,466.132 1408.95,473.617 1410.87,481.107 1412.79,488.597 1414.71,496.081 1416.64,503.553 1418.56,511.008 1420.48,518.441 1422.4,525.846 1424.32,533.22 1426.25,540.557 1428.17,547.853 1430.09,555.104 1432.01,562.306 1433.93,569.455 1435.86,576.548 1437.78,583.581 1439.7,590.552 1441.62,597.457 1443.54,604.293 1445.47,611.058 1447.39,617.749 1449.31,624.363 1451.23,630.9 1453.15,637.356 1455.08,643.729 1457,650.019 1458.92,656.222 1460.84,662.338 1462.76,668.366 1464.68,674.304 1466.61,680.15 1468.53,685.905 1470.45,691.566 1472.37,697.134 1474.29,702.607 1476.22,707.985 1478.14,713.268 1480.06,718.454 1481.98,723.545 1483.9,728.539 1485.83,733.436 1487.75,738.236 1489.67,742.94 1491.59,747.547 1493.51,752.058 1495.44,756.473 1497.36,760.791 1499.28,765.015 1501.2,769.143 1503.12,773.177 1505.05,777.116 1506.97,780.963 1508.89,784.716 1510.81,788.377 1512.73,791.947 1514.65,795.427 1516.58,798.816 1518.5,802.117 1520.42,805.33 1522.34,808.456 1524.26,811.495 1526.19,814.45 1528.11,817.32 1530.03,820.107 1531.95,822.813 1533.87,825.437 1535.8,827.982 1537.72,830.448 1539.64,832.836 1541.56,835.148 1543.48,837.385 1545.41,839.548 1547.33,841.639 1549.25,843.657 1551.17,845.606 1553.09,847.485 1555.02,849.297 1556.94,851.042 1558.86,852.721 1560.78,854.336 1562.7,855.889 1564.62,857.38 1566.55,858.81 1568.47,860.182 1570.39,861.495 1572.31,862.752 1574.23,863.953 1576.16,865.1 1578.08,866.195 1580,867.237 1581.92,868.229 1583.84,869.172 1585.77,870.066 1587.69,870.914 1589.61,871.715 1591.53,872.472 1593.45,873.186 1595.38,873.858 1597.3,874.488 1599.22,875.078 1601.14,875.629 1603.06,876.143 1604.98,876.619 1606.91,877.06 1608.83,877.467 1610.75,877.839 1612.67,878.18 1614.59,878.488 1616.52,878.766 1618.44,879.015 1620.36,879.234 1622.28,879.427 1624.2,879.592 1626.13,879.732 1628.05,879.846 1629.97,879.937 1631.89,880.004 1633.81,880.05 1635.74,880.073 1637.66,880.076 1639.58,880.06 1641.5,880.024 1643.42,879.97 1645.35,879.899 1647.27,879.81 1649.19,879.706 1651.11,879.586 1653.03,879.452 1654.95,879.304 1656.88,879.143 1658.8,878.968 1660.72,878.782 1662.64,878.585 1664.56,878.377 1666.49,878.158 1668.41,877.93 1670.33,877.693 1672.25,877.447 1674.17,877.194 1676.1,876.933 1678.02,876.665 1679.94,876.39 1681.86,876.109 1683.78,875.823 1685.71,875.532 1687.63,875.236 1689.55,874.935 1691.47,874.631 1693.39,874.323 1695.32,874.013 1697.24,873.699 1699.16,873.383 1701.08,873.065 1703,872.746 1704.92,872.425 1706.85,872.102 1708.77,871.779 1710.69,871.456 1712.61,871.132 1714.53,870.809 1716.46,870.485 1718.38,870.162 1720.3,869.84 1722.22,869.519 1724.14,869.199 1726.07,868.881 1727.99,868.564 1729.91,868.249 1731.83,867.936 1733.75,867.624 1735.68,867.316 1737.6,867.009 1739.52,866.706 1741.44,866.405 1743.36,866.106 1745.29,865.811 1747.21,865.519 1749.13,865.23 1751.05,864.945 1752.97,864.663 1754.89,864.384 1756.82,864.109 1758.74,863.837 1760.66,863.569 1762.58,863.305 1764.5,863.045 1766.43,862.789 1768.35,862.537 1770.27,862.288 1772.19,862.044 1774.11,861.804 1776.04,861.567 1777.96,861.335 1779.88,861.107 1781.8,860.883 1783.72,860.664 1785.65,860.448 1787.57,860.237 1789.49,860.03 1791.41,859.827 1793.33,859.628 1795.26,859.434 1797.18,859.243 1799.1,859.057 1801.02,858.875 1802.94,858.697 1804.86,858.523 1806.79,858.353 1808.71,858.187 1810.63,858.025 1812.55,857.867 1814.47,857.713 1816.4,857.563 1818.32,857.417 1820.24,857.274 1822.16,857.136 1824.08,857.001 1826.01,856.87 1827.93,856.743 1829.85,856.619 1831.77,856.499 1833.69,856.382 1835.62,856.269 1837.54,856.159 1839.46,856.053 1841.38,855.95 1843.3,855.85 1845.23,855.754 1847.15,855.661 1849.07,855.571 1850.99,855.484 1852.91,855.4 1854.83,855.319 1856.76,855.241 1858.68,855.165 1860.6,855.093 1862.52,855.023 1864.44,854.957 1866.37,854.892 1868.29,854.831 1870.21,854.772 1872.13,854.715 1874.05,854.661 1875.98,854.609 1877.9,854.56 1879.82,854.513 1881.74,854.468 1883.66,854.425 1885.59,854.385 1887.51,854.346 1889.43,854.31 1891.35,854.275 1893.27,854.242 1895.2,854.212 1897.12,854.183 1899.04,854.156 1900.96,854.13 1902.88,854.107 1904.8,854.085 1906.73,854.064 1908.65,854.045 1910.57,854.028 1912.49,854.012 1914.41,853.997 1916.34,853.984 1918.26,853.972 1920.18,853.961 1922.1,853.952 1924.02,853.944 1925.95,853.937 1927.87,853.931 1929.79,853.926 1931.71,853.922 1933.63,853.919 1935.56,853.917 1937.48,853.916 1939.4,853.916 1941.32,853.917 1943.24,853.919 1945.17,853.921 1947.09,853.924 1949.01,853.928 1950.93,853.933 1952.85,853.938 1954.77,853.944 1956.7,853.95 1958.62,853.957 1960.54,853.965 1962.46,853.973 1964.38,853.981 1966.31,853.991 1968.23,854 1970.15,854.01 1972.07,854.02 1973.99,854.031 1975.92,854.042 1977.84,854.053 1979.76,854.065 1981.68,854.077 1983.6,854.089 1985.53,854.101 1987.45,854.114 1989.37,854.127 1991.29,854.14 1993.21,854.153 1995.14,854.166 1997.06,854.179 1998.98,854.193 2000.9,854.207 2002.82,854.22 2004.74,854.234 2006.67,854.248 2008.59,854.262 2010.51,854.276 2012.43,854.29 2014.35,854.304 2016.28,854.318 2018.2,854.332 2020.12,854.346 2022.04,854.36 2023.96,854.374 2025.89,854.387 2027.81,854.401 2029.73,854.415 2031.65,854.429 2033.57,854.442 2035.5,854.455 2037.42,854.469 2039.34,854.482 2041.26,854.495 2043.18,854.508 2045.11,854.521 2047.03,854.534 2048.95,854.546 2050.87,854.559 2052.79,854.571 2054.71,854.583 2056.64,854.595 2058.56,854.607 2060.48,854.619 2062.4,854.631 2064.32,854.642 2066.25,854.653 2068.17,854.664 2070.09,854.675 2072.01,854.686 2073.93,854.696 2075.86,854.707 2077.78,854.717 2079.7,854.727 2081.62,854.737 2083.54,854.746 2085.47,854.756 2087.39,854.765 2089.31,854.774 2091.23,854.783 2093.15,854.792 2095.08,854.801 2097,854.809 2098.92,854.817 2100.84,854.825 2102.76,854.833 2104.68,854.841 2106.61,854.848 2108.53,854.856 2110.45,854.863 2112.37,854.87 2114.29,854.877 2116.22,854.883 2118.14,854.89 2120.06,854.896 2121.98,854.902 2123.9,854.908 2125.83,854.914 2127.75,854.92 2129.67,854.925 2131.59,854.93 2133.51,854.936 2135.44,854.941 2137.36,854.946 2139.28,854.95 2141.2,854.955 2143.12,854.959 2145.05,854.964 2146.97,854.968 2148.89,854.972 2150.81,854.976 2152.73,854.979 2154.65,854.983 2156.58,854.986 2158.5,854.99 2160.42,854.993 2162.34,854.996 2164.26,854.999 2166.19,855.002 2168.11,855.005 2170.03,855.008 2171.95,855.01 2173.87,855.012 2175.8,855.015 2177.72,855.017 2179.64,855.019 2181.56,855.021 2183.48,855.023 2185.41,855.025 2187.33,855.027 2189.25,855.028 2191.17,855.03 2193.09,855.031 2195.02,855.033 2196.94,855.034 2198.86,855.035 2200.78,855.037 2202.7,855.038 2204.62,855.039 2206.55,855.04 2208.47,855.041 2210.39,855.041 2212.31,855.042 2214.23,855.043 2216.16,855.043 2218.08,855.044 2220,855.044 \"/>\n",
       "<path clip-path=\"url(#clip921)\" d=\"M1908 351 L2148 351 L2148 207 L1908 207  Z\" fill=\"#ffffff\" fill-rule=\"evenodd\" fill-opacity=\"1\"/>\n",
       "<polyline clip-path=\"url(#clip921)\" style=\"stroke:#000000; stroke-linecap:round; stroke-linejoin:round; stroke-width:3.6; stroke-opacity:1; fill:none\" points=\"1908,351 2148,351 2148,207 1908,207 1908,351 \"/>\n",
       "<polyline clip-path=\"url(#clip921)\" style=\"stroke:#00528a; stroke-linecap:round; stroke-linejoin:round; stroke-width:3.6; stroke-opacity:1; fill:none\" points=\"1932,279 2076,279 \"/>\n",
       "</svg>"
      ],
      "text/plain": [
       "<IPython.core.display.SVG object>"
      ]
     },
     "metadata": {},
     "output_type": "display_data"
    }
   ],
   "source": [
    "from gr import pygr\n",
    "pygr.plot(x, lambda x: np.sin(x) * np.exp(-np.abs(x)), label='x^2')"
   ]
  },
  {
   "cell_type": "code",
   "execution_count": 74,
   "id": "69fe3894",
   "metadata": {
    "tags": []
   },
   "outputs": [
    {
     "data": {
      "text/plain": [
       "<Axes: >"
      ]
     },
     "execution_count": 74,
     "metadata": {},
     "output_type": "execute_result"
    },
    {
     "data": {
      "image/png": "[encoded data removed]",
      "text/plain": [
       "<Figure size 640x480 with 1 Axes>"
      ]
     },
     "metadata": {},
     "output_type": "display_data"
    }
   ],
   "source": [
    "import seaborn as sns\n",
    "sns.lineplot(x=x, y=np.sin(x) * np.exp(-np.abs(x)), label='x^2')"
   ]
  },
  {
   "cell_type": "markdown",
   "id": "5600969e",
   "metadata": {},
   "source": [
    "### §5.1: Bar Charts"
   ]
  },
  {
   "cell_type": "code",
   "execution_count": 75,
   "id": "2798dac5",
   "metadata": {
    "tags": []
   },
   "outputs": [
    {
     "ename": "ValueError",
     "evalue": "Could not interpret input 'sepal.area'",
     "output_type": "error",
     "traceback": [
      "\u001b[0;31m---------------------------------------------------------------------------\u001b[0m",
      "\u001b[0;31mValueError\u001b[0m                                Traceback (most recent call last)",
      "Cell \u001b[0;32mIn[75], line 1\u001b[0m\n\u001b[0;32m----> 1\u001b[0m \u001b[43msns\u001b[49m\u001b[38;5;241;43m.\u001b[39;49m\u001b[43mbarplot\u001b[49m\u001b[43m(\u001b[49m\u001b[43mdf\u001b[49m\u001b[43m,\u001b[49m\u001b[43m \u001b[49m\u001b[43mx\u001b[49m\u001b[43m \u001b[49m\u001b[38;5;241;43m=\u001b[39;49m\u001b[43m \u001b[49m\u001b[38;5;124;43m'\u001b[39;49m\u001b[38;5;124;43mvariety\u001b[39;49m\u001b[38;5;124;43m'\u001b[39;49m\u001b[43m,\u001b[49m\u001b[43m \u001b[49m\u001b[43my\u001b[49m\u001b[38;5;241;43m=\u001b[39;49m\u001b[38;5;124;43m'\u001b[39;49m\u001b[38;5;124;43msepal.area\u001b[39;49m\u001b[38;5;124;43m'\u001b[39;49m\u001b[43m)\u001b[49m\n",
      "File \u001b[0;32m~/anaconda3/lib/python3.10/site-packages/seaborn/categorical.py:2755\u001b[0m, in \u001b[0;36mbarplot\u001b[0;34m(data, x, y, hue, order, hue_order, estimator, errorbar, n_boot, units, seed, orient, color, palette, saturation, width, errcolor, errwidth, capsize, dodge, ci, ax, **kwargs)\u001b[0m\n\u001b[1;32m   2752\u001b[0m \u001b[38;5;28;01mif\u001b[39;00m estimator \u001b[38;5;129;01mis\u001b[39;00m \u001b[38;5;28mlen\u001b[39m:\n\u001b[1;32m   2753\u001b[0m     estimator \u001b[38;5;241m=\u001b[39m \u001b[38;5;124m\"\u001b[39m\u001b[38;5;124msize\u001b[39m\u001b[38;5;124m\"\u001b[39m\n\u001b[0;32m-> 2755\u001b[0m plotter \u001b[38;5;241m=\u001b[39m \u001b[43m_BarPlotter\u001b[49m\u001b[43m(\u001b[49m\u001b[43mx\u001b[49m\u001b[43m,\u001b[49m\u001b[43m \u001b[49m\u001b[43my\u001b[49m\u001b[43m,\u001b[49m\u001b[43m \u001b[49m\u001b[43mhue\u001b[49m\u001b[43m,\u001b[49m\u001b[43m \u001b[49m\u001b[43mdata\u001b[49m\u001b[43m,\u001b[49m\u001b[43m \u001b[49m\u001b[43morder\u001b[49m\u001b[43m,\u001b[49m\u001b[43m \u001b[49m\u001b[43mhue_order\u001b[49m\u001b[43m,\u001b[49m\n\u001b[1;32m   2756\u001b[0m \u001b[43m                      \u001b[49m\u001b[43mestimator\u001b[49m\u001b[43m,\u001b[49m\u001b[43m \u001b[49m\u001b[43merrorbar\u001b[49m\u001b[43m,\u001b[49m\u001b[43m \u001b[49m\u001b[43mn_boot\u001b[49m\u001b[43m,\u001b[49m\u001b[43m \u001b[49m\u001b[43munits\u001b[49m\u001b[43m,\u001b[49m\u001b[43m \u001b[49m\u001b[43mseed\u001b[49m\u001b[43m,\u001b[49m\n\u001b[1;32m   2757\u001b[0m \u001b[43m                      \u001b[49m\u001b[43morient\u001b[49m\u001b[43m,\u001b[49m\u001b[43m \u001b[49m\u001b[43mcolor\u001b[49m\u001b[43m,\u001b[49m\u001b[43m \u001b[49m\u001b[43mpalette\u001b[49m\u001b[43m,\u001b[49m\u001b[43m \u001b[49m\u001b[43msaturation\u001b[49m\u001b[43m,\u001b[49m\n\u001b[1;32m   2758\u001b[0m \u001b[43m                      \u001b[49m\u001b[43mwidth\u001b[49m\u001b[43m,\u001b[49m\u001b[43m \u001b[49m\u001b[43merrcolor\u001b[49m\u001b[43m,\u001b[49m\u001b[43m \u001b[49m\u001b[43merrwidth\u001b[49m\u001b[43m,\u001b[49m\u001b[43m \u001b[49m\u001b[43mcapsize\u001b[49m\u001b[43m,\u001b[49m\u001b[43m \u001b[49m\u001b[43mdodge\u001b[49m\u001b[43m)\u001b[49m\n\u001b[1;32m   2760\u001b[0m \u001b[38;5;28;01mif\u001b[39;00m ax \u001b[38;5;129;01mis\u001b[39;00m \u001b[38;5;28;01mNone\u001b[39;00m:\n\u001b[1;32m   2761\u001b[0m     ax \u001b[38;5;241m=\u001b[39m plt\u001b[38;5;241m.\u001b[39mgca()\n",
      "File \u001b[0;32m~/anaconda3/lib/python3.10/site-packages/seaborn/categorical.py:1530\u001b[0m, in \u001b[0;36m_BarPlotter.__init__\u001b[0;34m(self, x, y, hue, data, order, hue_order, estimator, errorbar, n_boot, units, seed, orient, color, palette, saturation, width, errcolor, errwidth, capsize, dodge)\u001b[0m\n\u001b[1;32m   1525\u001b[0m \u001b[38;5;28;01mdef\u001b[39;00m \u001b[38;5;21m__init__\u001b[39m(\u001b[38;5;28mself\u001b[39m, x, y, hue, data, order, hue_order,\n\u001b[1;32m   1526\u001b[0m              estimator, errorbar, n_boot, units, seed,\n\u001b[1;32m   1527\u001b[0m              orient, color, palette, saturation, width,\n\u001b[1;32m   1528\u001b[0m              errcolor, errwidth, capsize, dodge):\n\u001b[1;32m   1529\u001b[0m     \u001b[38;5;124;03m\"\"\"Initialize the plotter.\"\"\"\u001b[39;00m\n\u001b[0;32m-> 1530\u001b[0m     \u001b[38;5;28;43mself\u001b[39;49m\u001b[38;5;241;43m.\u001b[39;49m\u001b[43mestablish_variables\u001b[49m\u001b[43m(\u001b[49m\u001b[43mx\u001b[49m\u001b[43m,\u001b[49m\u001b[43m \u001b[49m\u001b[43my\u001b[49m\u001b[43m,\u001b[49m\u001b[43m \u001b[49m\u001b[43mhue\u001b[49m\u001b[43m,\u001b[49m\u001b[43m \u001b[49m\u001b[43mdata\u001b[49m\u001b[43m,\u001b[49m\u001b[43m \u001b[49m\u001b[43morient\u001b[49m\u001b[43m,\u001b[49m\n\u001b[1;32m   1531\u001b[0m \u001b[43m                             \u001b[49m\u001b[43morder\u001b[49m\u001b[43m,\u001b[49m\u001b[43m \u001b[49m\u001b[43mhue_order\u001b[49m\u001b[43m,\u001b[49m\u001b[43m \u001b[49m\u001b[43munits\u001b[49m\u001b[43m)\u001b[49m\n\u001b[1;32m   1532\u001b[0m     \u001b[38;5;28mself\u001b[39m\u001b[38;5;241m.\u001b[39mestablish_colors(color, palette, saturation)\n\u001b[1;32m   1533\u001b[0m     \u001b[38;5;28mself\u001b[39m\u001b[38;5;241m.\u001b[39mestimate_statistic(estimator, errorbar, n_boot, seed)\n",
      "File \u001b[0;32m~/anaconda3/lib/python3.10/site-packages/seaborn/categorical.py:541\u001b[0m, in \u001b[0;36m_CategoricalPlotter.establish_variables\u001b[0;34m(self, x, y, hue, data, orient, order, hue_order, units)\u001b[0m\n\u001b[1;32m    539\u001b[0m     \u001b[38;5;28;01mif\u001b[39;00m \u001b[38;5;28misinstance\u001b[39m(var, \u001b[38;5;28mstr\u001b[39m):\n\u001b[1;32m    540\u001b[0m         err \u001b[38;5;241m=\u001b[39m \u001b[38;5;124mf\u001b[39m\u001b[38;5;124m\"\u001b[39m\u001b[38;5;124mCould not interpret input \u001b[39m\u001b[38;5;124m'\u001b[39m\u001b[38;5;132;01m{\u001b[39;00mvar\u001b[38;5;132;01m}\u001b[39;00m\u001b[38;5;124m'\u001b[39m\u001b[38;5;124m\"\u001b[39m\n\u001b[0;32m--> 541\u001b[0m         \u001b[38;5;28;01mraise\u001b[39;00m \u001b[38;5;167;01mValueError\u001b[39;00m(err)\n\u001b[1;32m    543\u001b[0m \u001b[38;5;66;03m# Figure out the plotting orientation\u001b[39;00m\n\u001b[1;32m    544\u001b[0m orient \u001b[38;5;241m=\u001b[39m infer_orient(\n\u001b[1;32m    545\u001b[0m     x, y, orient, require_numeric\u001b[38;5;241m=\u001b[39m\u001b[38;5;28mself\u001b[39m\u001b[38;5;241m.\u001b[39mrequire_numeric\n\u001b[1;32m    546\u001b[0m )\n",
      "\u001b[0;31mValueError\u001b[0m: Could not interpret input 'sepal.area'"
     ]
    }
   ],
   "source": [
    "sns.barplot(df, x = 'variety', y='sepal.area')"
   ]
  },
  {
   "cell_type": "markdown",
   "id": "0ecbdd54",
   "metadata": {},
   "source": [
    "### §5.2: Histograms"
   ]
  },
  {
   "cell_type": "code",
   "execution_count": 76,
   "id": "33e44757",
   "metadata": {
    "tags": []
   },
   "outputs": [
    {
     "ename": "ValueError",
     "evalue": "Could not interpret value `sepal.area` for parameter `x`",
     "output_type": "error",
     "traceback": [
      "\u001b[0;31m---------------------------------------------------------------------------\u001b[0m",
      "\u001b[0;31mValueError\u001b[0m                                Traceback (most recent call last)",
      "Cell \u001b[0;32mIn[76], line 1\u001b[0m\n\u001b[0;32m----> 1\u001b[0m \u001b[43msns\u001b[49m\u001b[38;5;241;43m.\u001b[39;49m\u001b[43mhistplot\u001b[49m\u001b[43m(\u001b[49m\u001b[43mdf\u001b[49m\u001b[43m,\u001b[49m\u001b[43m \u001b[49m\u001b[43mx\u001b[49m\u001b[43m \u001b[49m\u001b[38;5;241;43m=\u001b[39;49m\u001b[43m \u001b[49m\u001b[38;5;124;43m'\u001b[39;49m\u001b[38;5;124;43msepal.area\u001b[39;49m\u001b[38;5;124;43m'\u001b[39;49m\u001b[43m)\u001b[49m\n",
      "File \u001b[0;32m~/anaconda3/lib/python3.10/site-packages/seaborn/distributions.py:1395\u001b[0m, in \u001b[0;36mhistplot\u001b[0;34m(data, x, y, hue, weights, stat, bins, binwidth, binrange, discrete, cumulative, common_bins, common_norm, multiple, element, fill, shrink, kde, kde_kws, line_kws, thresh, pthresh, pmax, cbar, cbar_ax, cbar_kws, palette, hue_order, hue_norm, color, log_scale, legend, ax, **kwargs)\u001b[0m\n\u001b[1;32m   1374\u001b[0m \u001b[38;5;28;01mdef\u001b[39;00m \u001b[38;5;21mhistplot\u001b[39m(\n\u001b[1;32m   1375\u001b[0m     data\u001b[38;5;241m=\u001b[39m\u001b[38;5;28;01mNone\u001b[39;00m, \u001b[38;5;241m*\u001b[39m,\n\u001b[1;32m   1376\u001b[0m     \u001b[38;5;66;03m# Vector variables\u001b[39;00m\n\u001b[0;32m   (...)\u001b[0m\n\u001b[1;32m   1392\u001b[0m     \u001b[38;5;241m*\u001b[39m\u001b[38;5;241m*\u001b[39mkwargs,\n\u001b[1;32m   1393\u001b[0m ):\n\u001b[0;32m-> 1395\u001b[0m     p \u001b[38;5;241m=\u001b[39m \u001b[43m_DistributionPlotter\u001b[49m\u001b[43m(\u001b[49m\n\u001b[1;32m   1396\u001b[0m \u001b[43m        \u001b[49m\u001b[43mdata\u001b[49m\u001b[38;5;241;43m=\u001b[39;49m\u001b[43mdata\u001b[49m\u001b[43m,\u001b[49m\n\u001b[1;32m   1397\u001b[0m \u001b[43m        \u001b[49m\u001b[43mvariables\u001b[49m\u001b[38;5;241;43m=\u001b[39;49m\u001b[43m_DistributionPlotter\u001b[49m\u001b[38;5;241;43m.\u001b[39;49m\u001b[43mget_semantics\u001b[49m\u001b[43m(\u001b[49m\u001b[38;5;28;43mlocals\u001b[39;49m\u001b[43m(\u001b[49m\u001b[43m)\u001b[49m\u001b[43m)\u001b[49m\n\u001b[1;32m   1398\u001b[0m \u001b[43m    \u001b[49m\u001b[43m)\u001b[49m\n\u001b[1;32m   1400\u001b[0m     p\u001b[38;5;241m.\u001b[39mmap_hue(palette\u001b[38;5;241m=\u001b[39mpalette, order\u001b[38;5;241m=\u001b[39mhue_order, norm\u001b[38;5;241m=\u001b[39mhue_norm)\n\u001b[1;32m   1402\u001b[0m     \u001b[38;5;28;01mif\u001b[39;00m ax \u001b[38;5;129;01mis\u001b[39;00m \u001b[38;5;28;01mNone\u001b[39;00m:\n",
      "File \u001b[0;32m~/anaconda3/lib/python3.10/site-packages/seaborn/distributions.py:113\u001b[0m, in \u001b[0;36m_DistributionPlotter.__init__\u001b[0;34m(self, data, variables)\u001b[0m\n\u001b[1;32m    107\u001b[0m \u001b[38;5;28;01mdef\u001b[39;00m \u001b[38;5;21m__init__\u001b[39m(\n\u001b[1;32m    108\u001b[0m     \u001b[38;5;28mself\u001b[39m,\n\u001b[1;32m    109\u001b[0m     data\u001b[38;5;241m=\u001b[39m\u001b[38;5;28;01mNone\u001b[39;00m,\n\u001b[1;32m    110\u001b[0m     variables\u001b[38;5;241m=\u001b[39m{},\n\u001b[1;32m    111\u001b[0m ):\n\u001b[0;32m--> 113\u001b[0m     \u001b[38;5;28;43msuper\u001b[39;49m\u001b[43m(\u001b[49m\u001b[43m)\u001b[49m\u001b[38;5;241;43m.\u001b[39;49m\u001b[38;5;21;43m__init__\u001b[39;49m\u001b[43m(\u001b[49m\u001b[43mdata\u001b[49m\u001b[38;5;241;43m=\u001b[39;49m\u001b[43mdata\u001b[49m\u001b[43m,\u001b[49m\u001b[43m \u001b[49m\u001b[43mvariables\u001b[49m\u001b[38;5;241;43m=\u001b[39;49m\u001b[43mvariables\u001b[49m\u001b[43m)\u001b[49m\n",
      "File \u001b[0;32m~/anaconda3/lib/python3.10/site-packages/seaborn/_oldcore.py:640\u001b[0m, in \u001b[0;36mVectorPlotter.__init__\u001b[0;34m(self, data, variables)\u001b[0m\n\u001b[1;32m    635\u001b[0m \u001b[38;5;66;03m# var_ordered is relevant only for categorical axis variables, and may\u001b[39;00m\n\u001b[1;32m    636\u001b[0m \u001b[38;5;66;03m# be better handled by an internal axis information object that tracks\u001b[39;00m\n\u001b[1;32m    637\u001b[0m \u001b[38;5;66;03m# such information and is set up by the scale_* methods. The analogous\u001b[39;00m\n\u001b[1;32m    638\u001b[0m \u001b[38;5;66;03m# information for numeric axes would be information about log scales.\u001b[39;00m\n\u001b[1;32m    639\u001b[0m \u001b[38;5;28mself\u001b[39m\u001b[38;5;241m.\u001b[39m_var_ordered \u001b[38;5;241m=\u001b[39m {\u001b[38;5;124m\"\u001b[39m\u001b[38;5;124mx\u001b[39m\u001b[38;5;124m\"\u001b[39m: \u001b[38;5;28;01mFalse\u001b[39;00m, \u001b[38;5;124m\"\u001b[39m\u001b[38;5;124my\u001b[39m\u001b[38;5;124m\"\u001b[39m: \u001b[38;5;28;01mFalse\u001b[39;00m}  \u001b[38;5;66;03m# alt., used DefaultDict\u001b[39;00m\n\u001b[0;32m--> 640\u001b[0m \u001b[38;5;28;43mself\u001b[39;49m\u001b[38;5;241;43m.\u001b[39;49m\u001b[43massign_variables\u001b[49m\u001b[43m(\u001b[49m\u001b[43mdata\u001b[49m\u001b[43m,\u001b[49m\u001b[43m \u001b[49m\u001b[43mvariables\u001b[49m\u001b[43m)\u001b[49m\n\u001b[1;32m    642\u001b[0m \u001b[38;5;28;01mfor\u001b[39;00m var, \u001b[38;5;28mcls\u001b[39m \u001b[38;5;129;01min\u001b[39;00m \u001b[38;5;28mself\u001b[39m\u001b[38;5;241m.\u001b[39m_semantic_mappings\u001b[38;5;241m.\u001b[39mitems():\n\u001b[1;32m    643\u001b[0m \n\u001b[1;32m    644\u001b[0m     \u001b[38;5;66;03m# Create the mapping function\u001b[39;00m\n\u001b[1;32m    645\u001b[0m     map_func \u001b[38;5;241m=\u001b[39m partial(\u001b[38;5;28mcls\u001b[39m\u001b[38;5;241m.\u001b[39mmap, plotter\u001b[38;5;241m=\u001b[39m\u001b[38;5;28mself\u001b[39m)\n",
      "File \u001b[0;32m~/anaconda3/lib/python3.10/site-packages/seaborn/_oldcore.py:701\u001b[0m, in \u001b[0;36mVectorPlotter.assign_variables\u001b[0;34m(self, data, variables)\u001b[0m\n\u001b[1;32m    699\u001b[0m \u001b[38;5;28;01melse\u001b[39;00m:\n\u001b[1;32m    700\u001b[0m     \u001b[38;5;28mself\u001b[39m\u001b[38;5;241m.\u001b[39minput_format \u001b[38;5;241m=\u001b[39m \u001b[38;5;124m\"\u001b[39m\u001b[38;5;124mlong\u001b[39m\u001b[38;5;124m\"\u001b[39m\n\u001b[0;32m--> 701\u001b[0m     plot_data, variables \u001b[38;5;241m=\u001b[39m \u001b[38;5;28;43mself\u001b[39;49m\u001b[38;5;241;43m.\u001b[39;49m\u001b[43m_assign_variables_longform\u001b[49m\u001b[43m(\u001b[49m\n\u001b[1;32m    702\u001b[0m \u001b[43m        \u001b[49m\u001b[43mdata\u001b[49m\u001b[43m,\u001b[49m\u001b[43m \u001b[49m\u001b[38;5;241;43m*\u001b[39;49m\u001b[38;5;241;43m*\u001b[39;49m\u001b[43mvariables\u001b[49m\u001b[43m,\u001b[49m\n\u001b[1;32m    703\u001b[0m \u001b[43m    \u001b[49m\u001b[43m)\u001b[49m\n\u001b[1;32m    705\u001b[0m \u001b[38;5;28mself\u001b[39m\u001b[38;5;241m.\u001b[39mplot_data \u001b[38;5;241m=\u001b[39m plot_data\n\u001b[1;32m    706\u001b[0m \u001b[38;5;28mself\u001b[39m\u001b[38;5;241m.\u001b[39mvariables \u001b[38;5;241m=\u001b[39m variables\n",
      "File \u001b[0;32m~/anaconda3/lib/python3.10/site-packages/seaborn/_oldcore.py:938\u001b[0m, in \u001b[0;36mVectorPlotter._assign_variables_longform\u001b[0;34m(self, data, **kwargs)\u001b[0m\n\u001b[1;32m    933\u001b[0m \u001b[38;5;28;01melif\u001b[39;00m \u001b[38;5;28misinstance\u001b[39m(val, (\u001b[38;5;28mstr\u001b[39m, \u001b[38;5;28mbytes\u001b[39m)):\n\u001b[1;32m    934\u001b[0m \n\u001b[1;32m    935\u001b[0m     \u001b[38;5;66;03m# This looks like a column name but we don't know what it means!\u001b[39;00m\n\u001b[1;32m    937\u001b[0m     err \u001b[38;5;241m=\u001b[39m \u001b[38;5;124mf\u001b[39m\u001b[38;5;124m\"\u001b[39m\u001b[38;5;124mCould not interpret value `\u001b[39m\u001b[38;5;132;01m{\u001b[39;00mval\u001b[38;5;132;01m}\u001b[39;00m\u001b[38;5;124m` for parameter `\u001b[39m\u001b[38;5;132;01m{\u001b[39;00mkey\u001b[38;5;132;01m}\u001b[39;00m\u001b[38;5;124m`\u001b[39m\u001b[38;5;124m\"\u001b[39m\n\u001b[0;32m--> 938\u001b[0m     \u001b[38;5;28;01mraise\u001b[39;00m \u001b[38;5;167;01mValueError\u001b[39;00m(err)\n\u001b[1;32m    940\u001b[0m \u001b[38;5;28;01melse\u001b[39;00m:\n\u001b[1;32m    941\u001b[0m \n\u001b[1;32m    942\u001b[0m     \u001b[38;5;66;03m# Otherwise, assume the value is itself data\u001b[39;00m\n\u001b[1;32m    943\u001b[0m \n\u001b[1;32m    944\u001b[0m     \u001b[38;5;66;03m# Raise when data object is present and a vector can't matched\u001b[39;00m\n\u001b[1;32m    945\u001b[0m     \u001b[38;5;28;01mif\u001b[39;00m \u001b[38;5;28misinstance\u001b[39m(data, pd\u001b[38;5;241m.\u001b[39mDataFrame) \u001b[38;5;129;01mand\u001b[39;00m \u001b[38;5;129;01mnot\u001b[39;00m \u001b[38;5;28misinstance\u001b[39m(val, pd\u001b[38;5;241m.\u001b[39mSeries):\n",
      "\u001b[0;31mValueError\u001b[0m: Could not interpret value `sepal.area` for parameter `x`"
     ]
    }
   ],
   "source": [
    "sns.histplot(df, x = 'sepal.area')"
   ]
  },
  {
   "cell_type": "code",
   "execution_count": 79,
   "id": "e274e5ba",
   "metadata": {},
   "outputs": [
    {
     "data": {
      "text/plain": [
       "<Axes: xlabel='sepal.area', ylabel='Count'>"
      ]
     },
     "execution_count": 79,
     "metadata": {},
     "output_type": "execute_result"
    },
    {
     "data": {
      "image/png": "[encoded data removed]",
      "text/plain": [
       "<Figure size 640x480 with 1 Axes>"
      ]
     },
     "metadata": {},
     "output_type": "display_data"
    }
   ],
   "source": [
    "sns.histplot(df, x = 'sepal.area', hue='variety')"
   ]
  },
  {
   "cell_type": "code",
   "execution_count": 80,
   "id": "c9058db5",
   "metadata": {},
   "outputs": [
    {
     "data": {
      "text/plain": [
       "<Axes: xlabel='sepal.area', ylabel='Count'>"
      ]
     },
     "execution_count": 80,
     "metadata": {},
     "output_type": "execute_result"
    },
    {
     "data": {
      "image/png": "[encoded data removed]",
      "text/plain": [
       "<Figure size 640x480 with 2 Axes>"
      ]
     },
     "metadata": {},
     "output_type": "display_data"
    }
   ],
   "source": [
    "fig, ax = plt.subplots(ncols=2)\n",
    "sns.histplot(df, x = 'sepal.area', ax=ax[0])\n",
    "sns.histplot(df, x = 'sepal.area', hue='variety', ax=ax[1])"
   ]
  },
  {
   "cell_type": "markdown",
   "id": "e2363922",
   "metadata": {},
   "source": [
    "### §5.4: Box Plots"
   ]
  },
  {
   "cell_type": "code",
   "execution_count": 81,
   "id": "9de470cf",
   "metadata": {},
   "outputs": [
    {
     "data": {
      "text/plain": [
       "<Axes: ylabel='sepal.area'>"
      ]
     },
     "execution_count": 81,
     "metadata": {},
     "output_type": "execute_result"
    },
    {
     "data": {
      "image/png": "[encoded data removed]",
      "text/plain": [
       "<Figure size 640x480 with 1 Axes>"
      ]
     },
     "metadata": {},
     "output_type": "display_data"
    }
   ],
   "source": [
    "sns.boxplot(df, y = 'sepal.area')"
   ]
  },
  {
   "cell_type": "code",
   "execution_count": 82,
   "id": "78238b58",
   "metadata": {},
   "outputs": [
    {
     "data": {
      "text/plain": [
       "<Axes: xlabel='variety', ylabel='sepal.area'>"
      ]
     },
     "execution_count": 82,
     "metadata": {},
     "output_type": "execute_result"
    },
    {
     "data": {
      "image/png": "[encoded data removed]",
      "text/plain": [
       "<Figure size 640x480 with 1 Axes>"
      ]
     },
     "metadata": {},
     "output_type": "display_data"
    }
   ],
   "source": [
    "sns.boxplot(df, x='variety', y = 'sepal.area')"
   ]
  },
  {
   "cell_type": "code",
   "execution_count": 83,
   "id": "ae0ddfc4",
   "metadata": {},
   "outputs": [
    {
     "data": {
      "text/plain": [
       "<Axes: xlabel='variety', ylabel='sepal.area'>"
      ]
     },
     "execution_count": 83,
     "metadata": {},
     "output_type": "execute_result"
    },
    {
     "data": {
      "image/png": "[encoded data removed]",
      "text/plain": [
       "<Figure size 640x480 with 1 Axes>"
      ]
     },
     "metadata": {},
     "output_type": "display_data"
    }
   ],
   "source": [
    "sns.boxplot(df, x='variety', y = 'sepal.area', hue='variety')"
   ]
  },
  {
   "cell_type": "markdown",
   "id": "cba48f44",
   "metadata": {},
   "source": [
    "### §5.3: Scatter Plots"
   ]
  },
  {
   "cell_type": "code",
   "execution_count": 84,
   "id": "da9eae62",
   "metadata": {},
   "outputs": [
    {
     "data": {
      "text/plain": [
       "<Axes: xlabel='sepal.length', ylabel='petal.length'>"
      ]
     },
     "execution_count": 84,
     "metadata": {},
     "output_type": "execute_result"
    },
    {
     "data": {
      "image/png": "[encoded data removed]",
      "text/plain": [
       "<Figure size 640x480 with 1 Axes>"
      ]
     },
     "metadata": {},
     "output_type": "display_data"
    }
   ],
   "source": [
    "sns.scatterplot(df, x='sepal.length', y = 'petal.length', hue='variety')"
   ]
  },
  {
   "cell_type": "markdown",
   "id": "4ff4e327",
   "metadata": {},
   "source": [
    "### §5.5: Heat Maps"
   ]
  },
  {
   "cell_type": "code",
   "execution_count": 85,
   "id": "5d762f81",
   "metadata": {},
   "outputs": [
    {
     "data": {
      "text/plain": [
       "<Axes: >"
      ]
     },
     "execution_count": 85,
     "metadata": {},
     "output_type": "execute_result"
    },
    {
     "data": {
      "image/png": "[encoded data removed]",
      "text/plain": [
       "<Figure size 640x480 with 2 Axes>"
      ]
     },
     "metadata": {},
     "output_type": "display_data"
    }
   ],
   "source": [
    "from scipy.spatial import distance_matrix\n",
    "\n",
    "quantitative_columns = np.array(df.iloc[:, 0:4])\n",
    "D = distance_matrix(quantitative_columns, quantitative_columns)\n",
    "\n",
    "sns.heatmap(D)"
   ]
  },
  {
   "cell_type": "markdown",
   "id": "1ebed9ba",
   "metadata": {},
   "source": [
    "---"
   ]
  },
  {
   "cell_type": "code",
   "execution_count": 86,
   "id": "b844db95",
   "metadata": {},
   "outputs": [],
   "source": [
    "from traitlets.config.manager import BaseJSONConfigManager\n",
    "from pathlib import Path\n",
    "path = Path.home() / \".jupyter\" / \"nbconfig\"\n",
    "cm = BaseJSONConfigManager(config_dir=str(path))\n",
    "tmp = cm.update(\n",
    "        \"rise\",\n",
    "        {\n",
    "            \"theme\": \"serif\",\n",
    "            \"transition\": \"fade\",\n",
    "            \"start_slideshow_at\": \"selected\",\n",
    "            \"autolaunch\": True,\n",
    "            \"width\": \"100%\",\n",
    "            \"height\": \"100%\",\n",
    "            \"header\": \"\",\n",
    "            \"footer\":\"\",\n",
    "            \"scroll\": True,\n",
    "            \"enable_chalkboard\": True,\n",
    "            \"slideNumber\": True,\n",
    "            \"center\": False,\n",
    "            \"controlsLayout\": \"edges\",\n",
    "            \"slideNumber\": True,\n",
    "            \"hash\": True,\n",
    "        }\n",
    "    )\n"
   ]
  }
 ],
 "metadata": {
  "celltoolbar": "Slideshow",
  "kernelspec": {
   "display_name": "Python 3 (ipykernel)",
   "language": "python",
   "name": "python3"
  },
  "language_info": {
   "codemirror_mode": {
    "name": "ipython",
    "version": 3
   },
   "file_extension": ".py",
   "mimetype": "text/x-python",
   "name": "python",
   "nbconvert_exporter": "python",
   "pygments_lexer": "ipython3",
   "version": "3.10.12"
  }
 },
 "nbformat": 4,
 "nbformat_minor": 5
}
